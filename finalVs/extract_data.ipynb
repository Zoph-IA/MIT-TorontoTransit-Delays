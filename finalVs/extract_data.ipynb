{
 "cells": [
  {
   "cell_type": "code",
   "execution_count": 12,
   "metadata": {},
   "outputs": [],
   "source": [
    "import pandas as pd\n",
    "import openpyxl"
   ]
  },
  {
   "cell_type": "code",
   "execution_count": 13,
   "metadata": {},
   "outputs": [],
   "source": [
    "filename = \"TTC Streetcar Delay Data 2024.xlsx\"\n",
    "xl = openpyxl.load_workbook(filename)"
   ]
  },
  {
   "cell_type": "code",
   "execution_count": 14,
   "metadata": {},
   "outputs": [
    {
     "name": "stdout",
     "output_type": "stream",
     "text": [
      "Number of rows in the sheet:  11088\n",
      "Number of columns in the sheet:  11\n"
     ]
    }
   ],
   "source": [
    "sheet = xl['Data']\n",
    "excel_rows = sheet.max_row\n",
    "print(\"Number of rows in the sheet: \", excel_rows)\n",
    "excel_columns = sheet.max_column\n",
    "print(\"Number of columns in the sheet: \", excel_columns)"
   ]
  },
  {
   "cell_type": "code",
   "execution_count": 15,
   "metadata": {},
   "outputs": [
    {
     "name": "stdout",
     "output_type": "stream",
     "text": [
      "Data saved to data.csv\n"
     ]
    }
   ],
   "source": [
    "data = sheet.values\n",
    "columns = next(data)[0:]\n",
    "df = pd.DataFrame(data, columns=columns)\n",
    "df.to_csv('data.csv', index=False)\n",
    "print(\"Data saved to data.csv\")"
   ]
  },
  {
   "cell_type": "code",
   "execution_count": 16,
   "metadata": {},
   "outputs": [
    {
     "name": "stdout",
     "output_type": "stream",
     "text": [
      "Number of rows: 11088\n",
      "Number of columns: 11\n"
     ]
    }
   ],
   "source": [
    "import csv\n",
    "with open('data.csv') as csvfile:\n",
    "    reader = csv.reader(csvfile)\n",
    "    rows = list(reader)\n",
    "    num_rows = len(rows)\n",
    "    num_cols = len(rows[0])\n",
    "    print(\"Number of rows:\", num_rows)\n",
    "    print(\"Number of columns:\", num_cols)"
   ]
  }
 ],
 "metadata": {
  "kernelspec": {
   "display_name": "ML",
   "language": "python",
   "name": "python3"
  },
  "language_info": {
   "codemirror_mode": {
    "name": "ipython",
    "version": 3
   },
   "file_extension": ".py",
   "mimetype": "text/x-python",
   "name": "python",
   "nbconvert_exporter": "python",
   "pygments_lexer": "ipython3",
   "version": "3.8.16"
  }
 },
 "nbformat": 4,
 "nbformat_minor": 2
}
