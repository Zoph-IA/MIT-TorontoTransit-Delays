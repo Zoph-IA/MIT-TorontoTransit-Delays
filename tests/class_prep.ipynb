{
 "cells": [
  {
   "cell_type": "code",
   "execution_count": 1,
   "metadata": {},
   "outputs": [],
   "source": [
    "import pandas as pd\n",
    "import numpy as np\n",
    "from sklearn.preprocessing import LabelEncoder"
   ]
  },
  {
   "cell_type": "code",
   "execution_count": 2,
   "metadata": {},
   "outputs": [],
   "source": [
    "df = pd.read_csv('data_updated.csv')"
   ]
  },
  {
   "cell_type": "code",
   "execution_count": 3,
   "metadata": {},
   "outputs": [],
   "source": [
    "df['has_delay'] = (df['Min Delay'] > 15).astype(int)"
   ]
  },
  {
   "cell_type": "code",
   "execution_count": 4,
   "metadata": {},
   "outputs": [],
   "source": [
    "df['Date'] = pd.to_datetime(df['Date'], format='%Y-%m-%d')\n",
    "\n",
    "df['Year'] = df['Date'].dt.year\n",
    "df['Month'] = df['Date'].dt.month\n",
    "df['Day_of_Month'] = df['Date'].dt.day\n",
    "\n",
    "df.drop('Date', axis=1, inplace=True)"
   ]
  },
  {
   "cell_type": "code",
   "execution_count": 5,
   "metadata": {},
   "outputs": [],
   "source": [
    "df['Time'] = pd.to_datetime(df['Time'], format='%H:%M')\n",
    "\n",
    "df['Hour'] = df['Time'].dt.hour\n",
    "df['Minute'] = df['Time'].dt.minute\n",
    "\n",
    "df.drop('Time', axis=1, inplace=True)"
   ]
  },
  {
   "cell_type": "code",
   "execution_count": 6,
   "metadata": {},
   "outputs": [],
   "source": [
    "day_encoder = LabelEncoder()\n",
    "df['Day'] = day_encoder.fit_transform(df['Day'])"
   ]
  },
  {
   "cell_type": "code",
   "execution_count": 7,
   "metadata": {},
   "outputs": [],
   "source": [
    "incident_encoder = LabelEncoder()\n",
    "df['Incident'] = incident_encoder.fit_transform(df['Incident'])"
   ]
  },
  {
   "cell_type": "code",
   "execution_count": 8,
   "metadata": {},
   "outputs": [],
   "source": [
    "unique_locations = df['Location'].dropna().unique()\n",
    "\n",
    "location_counts = df['Location'].value_counts(normalize=True)\n",
    "df['Location'] = df['Location'].map(location_counts)"
   ]
  },
  {
   "cell_type": "code",
   "execution_count": 9,
   "metadata": {},
   "outputs": [
    {
     "name": "stdout",
     "output_type": "stream",
     "text": [
      "Fila con valor nulo en 'Location' eliminada.\n"
     ]
    }
   ],
   "source": [
    "df = df.dropna(subset=['Location'])\n",
    "print(\"Fila con valor nulo en 'Location' eliminada.\")"
   ]
  },
  {
   "cell_type": "code",
   "execution_count": 10,
   "metadata": {},
   "outputs": [],
   "source": [
    "df['Bound'] = df['Bound'].replace(['8'], np.nan)\n",
    "df = pd.get_dummies(df, columns=['Bound'], prefix='Bound')\n",
    "\n",
    "dummy_columns = [col for col in df.columns if col.startswith('Bound_')]\n",
    "df[dummy_columns] = df[dummy_columns].astype(int)"
   ]
  },
  {
   "cell_type": "code",
   "execution_count": 11,
   "metadata": {},
   "outputs": [],
   "source": [
    "unique_lines = df['Line'].dropna().unique()\n",
    "\n",
    "line_frequencies = df['Line'].value_counts(normalize=True)\n",
    "\n",
    "df['Line'] = df['Line'].map(line_frequencies)\n",
    "df['Line'] = df['Line'].fillna(0)"
   ]
  },
  {
   "cell_type": "code",
   "execution_count": 12,
   "metadata": {},
   "outputs": [
    {
     "name": "stdout",
     "output_type": "stream",
     "text": [
      "\n",
      "Archivo actualizado guardado como 'dataset_with_has_delay.csv'\n"
     ]
    }
   ],
   "source": [
    "df.to_csv('dataset_with_has_delay.csv', index=False)\n",
    "print(\"\\nArchivo actualizado guardado como 'dataset_with_has_delay.csv'\")"
   ]
  },
  {
   "cell_type": "code",
   "execution_count": 13,
   "metadata": {},
   "outputs": [
    {
     "name": "stdout",
     "output_type": "stream",
     "text": [
      "Non-numeric columns:\n",
      " Index([], dtype='object')\n"
     ]
    }
   ],
   "source": [
    "non_numeric_columns = df.select_dtypes(include=['object']).columns\n",
    "print(\"Non-numeric columns:\\n\", non_numeric_columns)\n",
    "\n",
    "\n",
    "for column in non_numeric_columns:\n",
    "    print(f\"\\nUnique values in column '{column}':\")\n",
    "    print(df[column].unique())"
   ]
  },
  {
   "cell_type": "code",
   "execution_count": 14,
   "metadata": {},
   "outputs": [
    {
     "name": "stdout",
     "output_type": "stream",
     "text": [
      "   Week      Line  Day  Location  Incident  Min Delay  Min Gap  Vehicle  \\\n",
      "0     1  0.126664    1  0.000992        11         10       20     4416   \n",
      "1     1  0.126664    1  0.000361         3         52       72     4461   \n",
      "2     1  0.064381    1  0.000180        11          0        0     4545   \n",
      "3     1  0.126664    1  0.020566        11         37        0     4551   \n",
      "4     1  0.002645    1  0.005412         2         78       93     8116   \n",
      "\n",
      "   has_delay  Year  Month  Day_of_Month  Hour  Minute  Bound_B  Bound_E  \\\n",
      "0          0  2024      1             1     2      45        0        0   \n",
      "1          1  2024      1             1     3       6        0        1   \n",
      "2          0  2024      1             1     3      21        0        0   \n",
      "3          1  2024      1             1     3      53        0        0   \n",
      "4          1  2024      1             1     4      27        0        1   \n",
      "\n",
      "   Bound_N  Bound_S  Bound_W  \n",
      "0        0        0        1  \n",
      "1        0        0        0  \n",
      "2        1        0        0  \n",
      "3        0        0        1  \n",
      "4        0        0        0  \n"
     ]
    }
   ],
   "source": [
    "print(df.head())"
   ]
  },
  {
   "cell_type": "code",
   "execution_count": 15,
   "metadata": {},
   "outputs": [
    {
     "name": "stdout",
     "output_type": "stream",
     "text": [
      "Valores nulos por columna:\n",
      " Week            0\n",
      "Line            0\n",
      "Day             0\n",
      "Location        0\n",
      "Incident        0\n",
      "Min Delay       0\n",
      "Min Gap         0\n",
      "Vehicle         0\n",
      "has_delay       0\n",
      "Year            0\n",
      "Month           0\n",
      "Day_of_Month    0\n",
      "Hour            0\n",
      "Minute          0\n",
      "Bound_B         0\n",
      "Bound_E         0\n",
      "Bound_N         0\n",
      "Bound_S         0\n",
      "Bound_W         0\n",
      "dtype: int64\n",
      "\n",
      "Porcentaje de valores nulos por columna:\n",
      " Week            0.0\n",
      "Line            0.0\n",
      "Day             0.0\n",
      "Location        0.0\n",
      "Incident        0.0\n",
      "Min Delay       0.0\n",
      "Min Gap         0.0\n",
      "Vehicle         0.0\n",
      "has_delay       0.0\n",
      "Year            0.0\n",
      "Month           0.0\n",
      "Day_of_Month    0.0\n",
      "Hour            0.0\n",
      "Minute          0.0\n",
      "Bound_B         0.0\n",
      "Bound_E         0.0\n",
      "Bound_N         0.0\n",
      "Bound_S         0.0\n",
      "Bound_W         0.0\n",
      "dtype: float64\n"
     ]
    }
   ],
   "source": [
    "missing_values = df.isnull().sum()\n",
    "print(\"Valores nulos por columna:\\n\", missing_values)\n",
    "\n",
    "missing_percentage = (missing_values / len(df)) * 100\n",
    "print(\"\\nPorcentaje de valores nulos por columna:\\n\", missing_percentage)"
   ]
  },
  {
   "cell_type": "code",
   "execution_count": null,
   "metadata": {},
   "outputs": [],
   "source": []
  },
  {
   "cell_type": "code",
   "execution_count": null,
   "metadata": {},
   "outputs": [],
   "source": []
  }
 ],
 "metadata": {
  "kernelspec": {
   "display_name": "ML",
   "language": "python",
   "name": "python3"
  },
  "language_info": {
   "codemirror_mode": {
    "name": "ipython",
    "version": 3
   },
   "file_extension": ".py",
   "mimetype": "text/x-python",
   "name": "python",
   "nbconvert_exporter": "python",
   "pygments_lexer": "ipython3",
   "version": "3.8.16"
  }
 },
 "nbformat": 4,
 "nbformat_minor": 2
}
