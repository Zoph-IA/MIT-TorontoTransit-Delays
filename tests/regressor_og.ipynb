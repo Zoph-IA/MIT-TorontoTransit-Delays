{
 "cells": [
  {
   "cell_type": "code",
   "metadata": {
    "ExecuteTime": {
     "end_time": "2024-11-25T04:42:01.344997Z",
     "start_time": "2024-11-25T04:42:01.327437Z"
    }
   },
   "source": [
    "from pyexpat import features\n",
    "import pandas as pd\n",
    "import numpy as np\n",
    "from sklearn.model_selection import train_test_split\n",
    "from sklearn.linear_model import LinearRegression\n",
    "from sklearn.preprocessing import StandardScaler\n",
    "from sklearn.metrics import mean_squared_error, r2_score, mean_absolute_error\n",
    "import matplotlib.pyplot as plt\n",
    "import seaborn as sns\n",
    "from scipy import stats\n",
    "from aiohttp.web_routedef import static\n",
    "from mpmath import residual\n",
    "\n",
    "df = pd.read_csv(\"/Users/lorenzoreinoso/Documents/MIT-StreetCar-Delay/data_updated.csv\")"
   ],
   "outputs": [],
   "execution_count": 30
  },
  {
   "cell_type": "code",
   "metadata": {
    "ExecuteTime": {
     "end_time": "2024-11-25T04:42:01.356986Z",
     "start_time": "2024-11-25T04:42:01.351130Z"
    }
   },
   "source": "df.head(10)",
   "outputs": [
    {
     "data": {
      "text/plain": [
       "         Date  Week Line   Time     Day                Location            Incident  Min Delay  Min Gap Bound  Vehicle\n",
       "0  2024-01-01     1  505  02:45  Monday       DUNDAS AND MCCAUL            Security         10       20     W     4416\n",
       "1  2024-01-01     1  505  03:06  Monday   COLLEGE AND GLADSTONE  Emergency Services         52       72     E     4461\n",
       "2  2024-01-01     1  503  03:21  Monday  PARLIAMENT AND SHUTTER            Security          0        0     N     4545\n",
       "3  2024-01-01     1  505  03:53  Monday     DUNDAS WEST STATION            Security         37        0     W     4551\n",
       "4  2024-01-01     1  600  04:27  Monday      QUEEN AND BATHURST           Diversion         78       93     E     8116\n",
       "5  2024-01-01     1  501  04:33  Monday      QUEEN AND BATHRUST           Diversion         74       84     E     3531\n",
       "6  2024-01-01     1  501  04:39  Monday      QUEEN AND PORTLAND           Diversion         39       49     W     4516\n",
       "7  2024-01-01     1  507  04:52  Monday       RONCESVALLES YARD       General Delay          6       18     E     4479\n",
       "8  2024-01-01     1  506  04:53  Monday        RONCESVALLE YARD       General Delay         13       28     E     4408\n",
       "9  2024-01-01     1  501  04:54  Monday       RONCESVALLES YARD       General Delay         15       30     W     4411"
      ],
      "text/html": [
       "<div>\n",
       "<style scoped>\n",
       "    .dataframe tbody tr th:only-of-type {\n",
       "        vertical-align: middle;\n",
       "    }\n",
       "\n",
       "    .dataframe tbody tr th {\n",
       "        vertical-align: top;\n",
       "    }\n",
       "\n",
       "    .dataframe thead th {\n",
       "        text-align: right;\n",
       "    }\n",
       "</style>\n",
       "<table border=\"1\" class=\"dataframe\">\n",
       "  <thead>\n",
       "    <tr style=\"text-align: right;\">\n",
       "      <th></th>\n",
       "      <th>Date</th>\n",
       "      <th>Week</th>\n",
       "      <th>Line</th>\n",
       "      <th>Time</th>\n",
       "      <th>Day</th>\n",
       "      <th>Location</th>\n",
       "      <th>Incident</th>\n",
       "      <th>Min Delay</th>\n",
       "      <th>Min Gap</th>\n",
       "      <th>Bound</th>\n",
       "      <th>Vehicle</th>\n",
       "    </tr>\n",
       "  </thead>\n",
       "  <tbody>\n",
       "    <tr>\n",
       "      <th>0</th>\n",
       "      <td>2024-01-01</td>\n",
       "      <td>1</td>\n",
       "      <td>505</td>\n",
       "      <td>02:45</td>\n",
       "      <td>Monday</td>\n",
       "      <td>DUNDAS AND MCCAUL</td>\n",
       "      <td>Security</td>\n",
       "      <td>10</td>\n",
       "      <td>20</td>\n",
       "      <td>W</td>\n",
       "      <td>4416</td>\n",
       "    </tr>\n",
       "    <tr>\n",
       "      <th>1</th>\n",
       "      <td>2024-01-01</td>\n",
       "      <td>1</td>\n",
       "      <td>505</td>\n",
       "      <td>03:06</td>\n",
       "      <td>Monday</td>\n",
       "      <td>COLLEGE AND GLADSTONE</td>\n",
       "      <td>Emergency Services</td>\n",
       "      <td>52</td>\n",
       "      <td>72</td>\n",
       "      <td>E</td>\n",
       "      <td>4461</td>\n",
       "    </tr>\n",
       "    <tr>\n",
       "      <th>2</th>\n",
       "      <td>2024-01-01</td>\n",
       "      <td>1</td>\n",
       "      <td>503</td>\n",
       "      <td>03:21</td>\n",
       "      <td>Monday</td>\n",
       "      <td>PARLIAMENT AND SHUTTER</td>\n",
       "      <td>Security</td>\n",
       "      <td>0</td>\n",
       "      <td>0</td>\n",
       "      <td>N</td>\n",
       "      <td>4545</td>\n",
       "    </tr>\n",
       "    <tr>\n",
       "      <th>3</th>\n",
       "      <td>2024-01-01</td>\n",
       "      <td>1</td>\n",
       "      <td>505</td>\n",
       "      <td>03:53</td>\n",
       "      <td>Monday</td>\n",
       "      <td>DUNDAS WEST STATION</td>\n",
       "      <td>Security</td>\n",
       "      <td>37</td>\n",
       "      <td>0</td>\n",
       "      <td>W</td>\n",
       "      <td>4551</td>\n",
       "    </tr>\n",
       "    <tr>\n",
       "      <th>4</th>\n",
       "      <td>2024-01-01</td>\n",
       "      <td>1</td>\n",
       "      <td>600</td>\n",
       "      <td>04:27</td>\n",
       "      <td>Monday</td>\n",
       "      <td>QUEEN AND BATHURST</td>\n",
       "      <td>Diversion</td>\n",
       "      <td>78</td>\n",
       "      <td>93</td>\n",
       "      <td>E</td>\n",
       "      <td>8116</td>\n",
       "    </tr>\n",
       "    <tr>\n",
       "      <th>5</th>\n",
       "      <td>2024-01-01</td>\n",
       "      <td>1</td>\n",
       "      <td>501</td>\n",
       "      <td>04:33</td>\n",
       "      <td>Monday</td>\n",
       "      <td>QUEEN AND BATHRUST</td>\n",
       "      <td>Diversion</td>\n",
       "      <td>74</td>\n",
       "      <td>84</td>\n",
       "      <td>E</td>\n",
       "      <td>3531</td>\n",
       "    </tr>\n",
       "    <tr>\n",
       "      <th>6</th>\n",
       "      <td>2024-01-01</td>\n",
       "      <td>1</td>\n",
       "      <td>501</td>\n",
       "      <td>04:39</td>\n",
       "      <td>Monday</td>\n",
       "      <td>QUEEN AND PORTLAND</td>\n",
       "      <td>Diversion</td>\n",
       "      <td>39</td>\n",
       "      <td>49</td>\n",
       "      <td>W</td>\n",
       "      <td>4516</td>\n",
       "    </tr>\n",
       "    <tr>\n",
       "      <th>7</th>\n",
       "      <td>2024-01-01</td>\n",
       "      <td>1</td>\n",
       "      <td>507</td>\n",
       "      <td>04:52</td>\n",
       "      <td>Monday</td>\n",
       "      <td>RONCESVALLES YARD</td>\n",
       "      <td>General Delay</td>\n",
       "      <td>6</td>\n",
       "      <td>18</td>\n",
       "      <td>E</td>\n",
       "      <td>4479</td>\n",
       "    </tr>\n",
       "    <tr>\n",
       "      <th>8</th>\n",
       "      <td>2024-01-01</td>\n",
       "      <td>1</td>\n",
       "      <td>506</td>\n",
       "      <td>04:53</td>\n",
       "      <td>Monday</td>\n",
       "      <td>RONCESVALLE YARD</td>\n",
       "      <td>General Delay</td>\n",
       "      <td>13</td>\n",
       "      <td>28</td>\n",
       "      <td>E</td>\n",
       "      <td>4408</td>\n",
       "    </tr>\n",
       "    <tr>\n",
       "      <th>9</th>\n",
       "      <td>2024-01-01</td>\n",
       "      <td>1</td>\n",
       "      <td>501</td>\n",
       "      <td>04:54</td>\n",
       "      <td>Monday</td>\n",
       "      <td>RONCESVALLES YARD</td>\n",
       "      <td>General Delay</td>\n",
       "      <td>15</td>\n",
       "      <td>30</td>\n",
       "      <td>W</td>\n",
       "      <td>4411</td>\n",
       "    </tr>\n",
       "  </tbody>\n",
       "</table>\n",
       "</div>"
      ]
     },
     "execution_count": 31,
     "metadata": {},
     "output_type": "execute_result"
    }
   ],
   "execution_count": 31
  },
  {
   "metadata": {
    "ExecuteTime": {
     "end_time": "2024-11-25T04:42:01.667777Z",
     "start_time": "2024-11-25T04:42:01.665100Z"
    }
   },
   "cell_type": "code",
   "source": "df.shape",
   "outputs": [
    {
     "data": {
      "text/plain": [
       "(11087, 11)"
      ]
     },
     "execution_count": 32,
     "metadata": {},
     "output_type": "execute_result"
    }
   ],
   "execution_count": 32
  },
  {
   "metadata": {
    "ExecuteTime": {
     "end_time": "2024-11-25T04:42:01.698316Z",
     "start_time": "2024-11-25T04:42:01.692867Z"
    }
   },
   "cell_type": "code",
   "source": [
    "df = df[df[\"Min Delay\"]!=0]\n",
    "df.shape"
   ],
   "outputs": [
    {
     "data": {
      "text/plain": [
       "(9228, 11)"
      ]
     },
     "execution_count": 33,
     "metadata": {},
     "output_type": "execute_result"
    }
   ],
   "execution_count": 33
  },
  {
   "metadata": {
    "ExecuteTime": {
     "end_time": "2024-11-25T04:42:01.729089Z",
     "start_time": "2024-11-25T04:42:01.724497Z"
    }
   },
   "cell_type": "code",
   "source": "df.head()",
   "outputs": [
    {
     "data": {
      "text/plain": [
       "         Date  Week Line   Time     Day               Location            Incident  Min Delay  Min Gap Bound  Vehicle\n",
       "0  2024-01-01     1  505  02:45  Monday      DUNDAS AND MCCAUL            Security         10       20     W     4416\n",
       "1  2024-01-01     1  505  03:06  Monday  COLLEGE AND GLADSTONE  Emergency Services         52       72     E     4461\n",
       "3  2024-01-01     1  505  03:53  Monday    DUNDAS WEST STATION            Security         37        0     W     4551\n",
       "4  2024-01-01     1  600  04:27  Monday     QUEEN AND BATHURST           Diversion         78       93     E     8116\n",
       "5  2024-01-01     1  501  04:33  Monday     QUEEN AND BATHRUST           Diversion         74       84     E     3531"
      ],
      "text/html": [
       "<div>\n",
       "<style scoped>\n",
       "    .dataframe tbody tr th:only-of-type {\n",
       "        vertical-align: middle;\n",
       "    }\n",
       "\n",
       "    .dataframe tbody tr th {\n",
       "        vertical-align: top;\n",
       "    }\n",
       "\n",
       "    .dataframe thead th {\n",
       "        text-align: right;\n",
       "    }\n",
       "</style>\n",
       "<table border=\"1\" class=\"dataframe\">\n",
       "  <thead>\n",
       "    <tr style=\"text-align: right;\">\n",
       "      <th></th>\n",
       "      <th>Date</th>\n",
       "      <th>Week</th>\n",
       "      <th>Line</th>\n",
       "      <th>Time</th>\n",
       "      <th>Day</th>\n",
       "      <th>Location</th>\n",
       "      <th>Incident</th>\n",
       "      <th>Min Delay</th>\n",
       "      <th>Min Gap</th>\n",
       "      <th>Bound</th>\n",
       "      <th>Vehicle</th>\n",
       "    </tr>\n",
       "  </thead>\n",
       "  <tbody>\n",
       "    <tr>\n",
       "      <th>0</th>\n",
       "      <td>2024-01-01</td>\n",
       "      <td>1</td>\n",
       "      <td>505</td>\n",
       "      <td>02:45</td>\n",
       "      <td>Monday</td>\n",
       "      <td>DUNDAS AND MCCAUL</td>\n",
       "      <td>Security</td>\n",
       "      <td>10</td>\n",
       "      <td>20</td>\n",
       "      <td>W</td>\n",
       "      <td>4416</td>\n",
       "    </tr>\n",
       "    <tr>\n",
       "      <th>1</th>\n",
       "      <td>2024-01-01</td>\n",
       "      <td>1</td>\n",
       "      <td>505</td>\n",
       "      <td>03:06</td>\n",
       "      <td>Monday</td>\n",
       "      <td>COLLEGE AND GLADSTONE</td>\n",
       "      <td>Emergency Services</td>\n",
       "      <td>52</td>\n",
       "      <td>72</td>\n",
       "      <td>E</td>\n",
       "      <td>4461</td>\n",
       "    </tr>\n",
       "    <tr>\n",
       "      <th>3</th>\n",
       "      <td>2024-01-01</td>\n",
       "      <td>1</td>\n",
       "      <td>505</td>\n",
       "      <td>03:53</td>\n",
       "      <td>Monday</td>\n",
       "      <td>DUNDAS WEST STATION</td>\n",
       "      <td>Security</td>\n",
       "      <td>37</td>\n",
       "      <td>0</td>\n",
       "      <td>W</td>\n",
       "      <td>4551</td>\n",
       "    </tr>\n",
       "    <tr>\n",
       "      <th>4</th>\n",
       "      <td>2024-01-01</td>\n",
       "      <td>1</td>\n",
       "      <td>600</td>\n",
       "      <td>04:27</td>\n",
       "      <td>Monday</td>\n",
       "      <td>QUEEN AND BATHURST</td>\n",
       "      <td>Diversion</td>\n",
       "      <td>78</td>\n",
       "      <td>93</td>\n",
       "      <td>E</td>\n",
       "      <td>8116</td>\n",
       "    </tr>\n",
       "    <tr>\n",
       "      <th>5</th>\n",
       "      <td>2024-01-01</td>\n",
       "      <td>1</td>\n",
       "      <td>501</td>\n",
       "      <td>04:33</td>\n",
       "      <td>Monday</td>\n",
       "      <td>QUEEN AND BATHRUST</td>\n",
       "      <td>Diversion</td>\n",
       "      <td>74</td>\n",
       "      <td>84</td>\n",
       "      <td>E</td>\n",
       "      <td>3531</td>\n",
       "    </tr>\n",
       "  </tbody>\n",
       "</table>\n",
       "</div>"
      ]
     },
     "execution_count": 34,
     "metadata": {},
     "output_type": "execute_result"
    }
   ],
   "execution_count": 34
  },
  {
   "metadata": {},
   "cell_type": "markdown",
   "source": [
    "We want to make sure that we are taking into consideration all the events that had delay in order to predict, the time that it will take for them to arrive.\n",
    "\n",
    "It's really important to take into consideration as much valuable information as we can."
   ]
  },
  {
   "metadata": {
    "ExecuteTime": {
     "end_time": "2024-11-25T04:42:01.963857Z",
     "start_time": "2024-11-25T04:42:01.950858Z"
    }
   },
   "cell_type": "code",
   "source": [
    "# Function created for aesthetic, if we have more than 3 values it adds a ...\n",
    "def format_unique_values(values):\n",
    "    if len(values) > 3:\n",
    "        return f\"{list(values[:3])} ... ({len(values)} unique values)\"\n",
    "    return list(values)\n",
    "\n",
    "# This is added for structure\n",
    "summary = {\n",
    "    'Data Type': df.dtypes, # Luego el tipo de dato\n",
    "    'Unique Values': [df[col].nunique() for col in df.columns], # luego el número de valores unicos\n",
    "    'Sample Values': [format_unique_values(df[col].unique()) for col in df.columns], # Usando la función de arriba mostrar algunos valores\n",
    "    'Missing Values': df.isnull().sum(), # Cantidad de valores Faltantes\n",
    "    'Missing %': round(df.isnull().sum() / len(df) * 100,2) # Es la proporción cuantos valores hay faltantes\n",
    "}\n",
    "\n",
    "details = pd.DataFrame(summary)\n",
    "\n",
    "# This part is added to format the final table\n",
    "pd.set_option('display.max_columns', None)\n",
    "pd.set_option('display.max_colwidth', None)\n",
    "pd.set_option('display.width', 1000)\n",
    "styled_details = details.style.set_properties(**{\n",
    "    'text-align': 'left',\n",
    "    'white-space': 'pre-wrap'\n",
    "}).set_table_styles([\n",
    "    {'selector': 'th', 'props': [('background-color', '#f0f0f0'),\n",
    "                                ('color', 'black'),\n",
    "                                ('font-weight', 'bold'),\n",
    "                                ('text-align', 'left'),\n",
    "                                ('padding', '8px')]},\n",
    "    {'selector': 'td', 'props': [('padding', '8px')]}\n",
    "])\n",
    "\n",
    "display(styled_details)\n",
    "\n",
    "# Final Resume\n",
    "print(\"\\nShape of the DF (rows, columns):\", df.shape)\n",
    "print(f\"Rows: {df.shape[0]}\")\n",
    "print(f\"Columns: {df.shape[1]}\")"
   ],
   "outputs": [
    {
     "data": {
      "text/plain": [
       "<pandas.io.formats.style.Styler at 0x1793760d0>"
      ],
      "text/html": [
       "<style type=\"text/css\">\n",
       "#T_17958 th {\n",
       "  background-color: #f0f0f0;\n",
       "  color: black;\n",
       "  font-weight: bold;\n",
       "  text-align: left;\n",
       "  padding: 8px;\n",
       "}\n",
       "#T_17958 td {\n",
       "  padding: 8px;\n",
       "}\n",
       "#T_17958_row0_col0, #T_17958_row0_col1, #T_17958_row0_col2, #T_17958_row0_col3, #T_17958_row0_col4, #T_17958_row1_col0, #T_17958_row1_col1, #T_17958_row1_col2, #T_17958_row1_col3, #T_17958_row1_col4, #T_17958_row2_col0, #T_17958_row2_col1, #T_17958_row2_col2, #T_17958_row2_col3, #T_17958_row2_col4, #T_17958_row3_col0, #T_17958_row3_col1, #T_17958_row3_col2, #T_17958_row3_col3, #T_17958_row3_col4, #T_17958_row4_col0, #T_17958_row4_col1, #T_17958_row4_col2, #T_17958_row4_col3, #T_17958_row4_col4, #T_17958_row5_col0, #T_17958_row5_col1, #T_17958_row5_col2, #T_17958_row5_col3, #T_17958_row5_col4, #T_17958_row6_col0, #T_17958_row6_col1, #T_17958_row6_col2, #T_17958_row6_col3, #T_17958_row6_col4, #T_17958_row7_col0, #T_17958_row7_col1, #T_17958_row7_col2, #T_17958_row7_col3, #T_17958_row7_col4, #T_17958_row8_col0, #T_17958_row8_col1, #T_17958_row8_col2, #T_17958_row8_col3, #T_17958_row8_col4, #T_17958_row9_col0, #T_17958_row9_col1, #T_17958_row9_col2, #T_17958_row9_col3, #T_17958_row9_col4, #T_17958_row10_col0, #T_17958_row10_col1, #T_17958_row10_col2, #T_17958_row10_col3, #T_17958_row10_col4 {\n",
       "  text-align: left;\n",
       "  white-space: pre-wrap;\n",
       "}\n",
       "</style>\n",
       "<table id=\"T_17958\">\n",
       "  <thead>\n",
       "    <tr>\n",
       "      <th class=\"blank level0\" >&nbsp;</th>\n",
       "      <th id=\"T_17958_level0_col0\" class=\"col_heading level0 col0\" >Data Type</th>\n",
       "      <th id=\"T_17958_level0_col1\" class=\"col_heading level0 col1\" >Unique Values</th>\n",
       "      <th id=\"T_17958_level0_col2\" class=\"col_heading level0 col2\" >Sample Values</th>\n",
       "      <th id=\"T_17958_level0_col3\" class=\"col_heading level0 col3\" >Missing Values</th>\n",
       "      <th id=\"T_17958_level0_col4\" class=\"col_heading level0 col4\" >Missing %</th>\n",
       "    </tr>\n",
       "  </thead>\n",
       "  <tbody>\n",
       "    <tr>\n",
       "      <th id=\"T_17958_level0_row0\" class=\"row_heading level0 row0\" >Date</th>\n",
       "      <td id=\"T_17958_row0_col0\" class=\"data row0 col0\" >object</td>\n",
       "      <td id=\"T_17958_row0_col1\" class=\"data row0 col1\" >274</td>\n",
       "      <td id=\"T_17958_row0_col2\" class=\"data row0 col2\" >['2024-01-01', '2024-01-02', '2024-01-03'] ... (274 unique values)</td>\n",
       "      <td id=\"T_17958_row0_col3\" class=\"data row0 col3\" >0</td>\n",
       "      <td id=\"T_17958_row0_col4\" class=\"data row0 col4\" >0.000000</td>\n",
       "    </tr>\n",
       "    <tr>\n",
       "      <th id=\"T_17958_level0_row1\" class=\"row_heading level0 row1\" >Week</th>\n",
       "      <td id=\"T_17958_row1_col0\" class=\"data row1 col0\" >int64</td>\n",
       "      <td id=\"T_17958_row1_col1\" class=\"data row1 col1\" >40</td>\n",
       "      <td id=\"T_17958_row1_col2\" class=\"data row1 col2\" >[1, 2, 3] ... (40 unique values)</td>\n",
       "      <td id=\"T_17958_row1_col3\" class=\"data row1 col3\" >0</td>\n",
       "      <td id=\"T_17958_row1_col4\" class=\"data row1 col4\" >0.000000</td>\n",
       "    </tr>\n",
       "    <tr>\n",
       "      <th id=\"T_17958_level0_row2\" class=\"row_heading level0 row2\" >Line</th>\n",
       "      <td id=\"T_17958_row2_col0\" class=\"data row2 col0\" >object</td>\n",
       "      <td id=\"T_17958_row2_col1\" class=\"data row2 col1\" >30</td>\n",
       "      <td id=\"T_17958_row2_col2\" class=\"data row2 col2\" >['505', '600', '501'] ... (31 unique values)</td>\n",
       "      <td id=\"T_17958_row2_col3\" class=\"data row2 col3\" >16</td>\n",
       "      <td id=\"T_17958_row2_col4\" class=\"data row2 col4\" >0.170000</td>\n",
       "    </tr>\n",
       "    <tr>\n",
       "      <th id=\"T_17958_level0_row3\" class=\"row_heading level0 row3\" >Time</th>\n",
       "      <td id=\"T_17958_row3_col0\" class=\"data row3 col0\" >object</td>\n",
       "      <td id=\"T_17958_row3_col1\" class=\"data row3 col1\" >1425</td>\n",
       "      <td id=\"T_17958_row3_col2\" class=\"data row3 col2\" >['02:45', '03:06', '03:53'] ... (1425 unique values)</td>\n",
       "      <td id=\"T_17958_row3_col3\" class=\"data row3 col3\" >0</td>\n",
       "      <td id=\"T_17958_row3_col4\" class=\"data row3 col4\" >0.000000</td>\n",
       "    </tr>\n",
       "    <tr>\n",
       "      <th id=\"T_17958_level0_row4\" class=\"row_heading level0 row4\" >Day</th>\n",
       "      <td id=\"T_17958_row4_col0\" class=\"data row4 col0\" >object</td>\n",
       "      <td id=\"T_17958_row4_col1\" class=\"data row4 col1\" >7</td>\n",
       "      <td id=\"T_17958_row4_col2\" class=\"data row4 col2\" >['Monday', 'Tuesday', 'Wednesday'] ... (7 unique values)</td>\n",
       "      <td id=\"T_17958_row4_col3\" class=\"data row4 col3\" >0</td>\n",
       "      <td id=\"T_17958_row4_col4\" class=\"data row4 col4\" >0.000000</td>\n",
       "    </tr>\n",
       "    <tr>\n",
       "      <th id=\"T_17958_level0_row5\" class=\"row_heading level0 row5\" >Location</th>\n",
       "      <td id=\"T_17958_row5_col0\" class=\"data row5 col0\" >object</td>\n",
       "      <td id=\"T_17958_row5_col1\" class=\"data row5 col1\" >1632</td>\n",
       "      <td id=\"T_17958_row5_col2\" class=\"data row5 col2\" >['DUNDAS AND MCCAUL', 'COLLEGE AND GLADSTONE', 'DUNDAS WEST STATION'] ... (1633 unique values)</td>\n",
       "      <td id=\"T_17958_row5_col3\" class=\"data row5 col3\" >1</td>\n",
       "      <td id=\"T_17958_row5_col4\" class=\"data row5 col4\" >0.010000</td>\n",
       "    </tr>\n",
       "    <tr>\n",
       "      <th id=\"T_17958_level0_row6\" class=\"row_heading level0 row6\" >Incident</th>\n",
       "      <td id=\"T_17958_row6_col0\" class=\"data row6 col0\" >object</td>\n",
       "      <td id=\"T_17958_row6_col1\" class=\"data row6 col1\" >13</td>\n",
       "      <td id=\"T_17958_row6_col2\" class=\"data row6 col2\" >['Security', 'Emergency Services', 'Diversion'] ... (13 unique values)</td>\n",
       "      <td id=\"T_17958_row6_col3\" class=\"data row6 col3\" >0</td>\n",
       "      <td id=\"T_17958_row6_col4\" class=\"data row6 col4\" >0.000000</td>\n",
       "    </tr>\n",
       "    <tr>\n",
       "      <th id=\"T_17958_level0_row7\" class=\"row_heading level0 row7\" >Min Delay</th>\n",
       "      <td id=\"T_17958_row7_col0\" class=\"data row7 col0\" >int64</td>\n",
       "      <td id=\"T_17958_row7_col1\" class=\"data row7 col1\" >196</td>\n",
       "      <td id=\"T_17958_row7_col2\" class=\"data row7 col2\" >[10, 52, 37] ... (196 unique values)</td>\n",
       "      <td id=\"T_17958_row7_col3\" class=\"data row7 col3\" >0</td>\n",
       "      <td id=\"T_17958_row7_col4\" class=\"data row7 col4\" >0.000000</td>\n",
       "    </tr>\n",
       "    <tr>\n",
       "      <th id=\"T_17958_level0_row8\" class=\"row_heading level0 row8\" >Min Gap</th>\n",
       "      <td id=\"T_17958_row8_col0\" class=\"data row8 col0\" >int64</td>\n",
       "      <td id=\"T_17958_row8_col1\" class=\"data row8 col1\" >205</td>\n",
       "      <td id=\"T_17958_row8_col2\" class=\"data row8 col2\" >[20, 72, 0] ... (205 unique values)</td>\n",
       "      <td id=\"T_17958_row8_col3\" class=\"data row8 col3\" >0</td>\n",
       "      <td id=\"T_17958_row8_col4\" class=\"data row8 col4\" >0.000000</td>\n",
       "    </tr>\n",
       "    <tr>\n",
       "      <th id=\"T_17958_level0_row9\" class=\"row_heading level0 row9\" >Bound</th>\n",
       "      <td id=\"T_17958_row9_col0\" class=\"data row9 col0\" >object</td>\n",
       "      <td id=\"T_17958_row9_col1\" class=\"data row9 col1\" >6</td>\n",
       "      <td id=\"T_17958_row9_col2\" class=\"data row9 col2\" >['W', 'E', nan] ... (7 unique values)</td>\n",
       "      <td id=\"T_17958_row9_col3\" class=\"data row9 col3\" >1071</td>\n",
       "      <td id=\"T_17958_row9_col4\" class=\"data row9 col4\" >11.610000</td>\n",
       "    </tr>\n",
       "    <tr>\n",
       "      <th id=\"T_17958_level0_row10\" class=\"row_heading level0 row10\" >Vehicle</th>\n",
       "      <td id=\"T_17958_row10_col0\" class=\"data row10 col0\" >int64</td>\n",
       "      <td id=\"T_17958_row10_col1\" class=\"data row10 col1\" >1012</td>\n",
       "      <td id=\"T_17958_row10_col2\" class=\"data row10 col2\" >[4416, 4461, 4551] ... (1012 unique values)</td>\n",
       "      <td id=\"T_17958_row10_col3\" class=\"data row10 col3\" >0</td>\n",
       "      <td id=\"T_17958_row10_col4\" class=\"data row10 col4\" >0.000000</td>\n",
       "    </tr>\n",
       "  </tbody>\n",
       "</table>\n"
      ]
     },
     "metadata": {},
     "output_type": "display_data"
    },
    {
     "name": "stdout",
     "output_type": "stream",
     "text": [
      "\n",
      "Shape of the DF (rows, columns): (9228, 11)\n",
      "Rows: 9228\n",
      "Columns: 11\n"
     ]
    }
   ],
   "execution_count": 35
  },
  {
   "metadata": {},
   "cell_type": "markdown",
   "source": [
    "With this analysis we can notice that we have some NAN values, in two columns Line and bound, they add up to 11% of our data set\n",
    "\n",
    "Also with this table we can notice that there might be an \"id\" value, as the column with more Unique values is Vehicle, and can be Interpreted as something as a \"car plate\"."
   ]
  },
  {
   "metadata": {
    "ExecuteTime": {
     "end_time": "2024-11-25T04:42:01.998238Z",
     "start_time": "2024-11-25T04:42:01.991532Z"
    }
   },
   "cell_type": "code",
   "source": "df.info()",
   "outputs": [
    {
     "name": "stdout",
     "output_type": "stream",
     "text": [
      "<class 'pandas.core.frame.DataFrame'>\n",
      "Index: 9228 entries, 0 to 11085\n",
      "Data columns (total 11 columns):\n",
      " #   Column     Non-Null Count  Dtype \n",
      "---  ------     --------------  ----- \n",
      " 0   Date       9228 non-null   object\n",
      " 1   Week       9228 non-null   int64 \n",
      " 2   Line       9212 non-null   object\n",
      " 3   Time       9228 non-null   object\n",
      " 4   Day        9228 non-null   object\n",
      " 5   Location   9227 non-null   object\n",
      " 6   Incident   9228 non-null   object\n",
      " 7   Min Delay  9228 non-null   int64 \n",
      " 8   Min Gap    9228 non-null   int64 \n",
      " 9   Bound      8157 non-null   object\n",
      " 10  Vehicle    9228 non-null   int64 \n",
      "dtypes: int64(4), object(7)\n",
      "memory usage: 865.1+ KB\n"
     ]
    }
   ],
   "execution_count": 36
  },
  {
   "metadata": {},
   "cell_type": "markdown",
   "source": "With this approach we can see the data type of each of our columns most of them are categorical"
  },
  {
   "metadata": {
    "ExecuteTime": {
     "end_time": "2024-11-25T04:42:02.019953Z",
     "start_time": "2024-11-25T04:42:02.014166Z"
    }
   },
   "cell_type": "code",
   "source": [
    "# Lets work on our missing values\n",
    "\n",
    "# Line has 16 registers with empty values, as it represents less than 1% of our data set it won't harm dropping them\n",
    "df = df.dropna(subset=['Line'])\n",
    "# Location has one empty value, lets drop it\n",
    "df = df.dropna(subset=['Location'])"
   ],
   "outputs": [],
   "execution_count": 37
  },
  {
   "metadata": {
    "ExecuteTime": {
     "end_time": "2024-11-25T04:42:02.170663Z",
     "start_time": "2024-11-25T04:42:02.167926Z"
    }
   },
   "cell_type": "code",
   "source": "df[\"Bound\"].value_counts()",
   "outputs": [
    {
     "data": {
      "text/plain": [
       "Bound\n",
       "W    2999\n",
       "E    2977\n",
       "N    1089\n",
       "S    1077\n",
       "B       2\n",
       "8       1\n",
       "Name: count, dtype: int64"
      ]
     },
     "execution_count": 38,
     "metadata": {},
     "output_type": "execute_result"
    }
   ],
   "execution_count": 38
  },
  {
   "metadata": {
    "ExecuteTime": {
     "end_time": "2024-11-25T04:42:02.344762Z",
     "start_time": "2024-11-25T04:42:02.339605Z"
    }
   },
   "cell_type": "code",
   "source": [
    "# looking into the possible of our data in Bound, we can see the Cardinal point, and some \"weird\" values, also we have 1071 empty values representing 11.61% of our data set, if we get rid of them we are losing a los of info, that's why we are creating the category \"other\"\n",
    "df['Bound'] = df['Bound'].replace(['B', '8', np.nan], 'Other')\n",
    "df[\"Bound\"].value_counts()"
   ],
   "outputs": [
    {
     "data": {
      "text/plain": [
       "Bound\n",
       "W        2999\n",
       "E        2977\n",
       "N        1089\n",
       "S        1077\n",
       "Other    1069\n",
       "Name: count, dtype: int64"
      ]
     },
     "execution_count": 39,
     "metadata": {},
     "output_type": "execute_result"
    }
   ],
   "execution_count": 39
  },
  {
   "metadata": {},
   "cell_type": "markdown",
   "source": "Some the key aspects are now we dont have missing values, and we kept, as much information as possible."
  },
  {
   "metadata": {
    "ExecuteTime": {
     "end_time": "2024-11-25T04:42:02.399977Z",
     "start_time": "2024-11-25T04:42:02.387211Z"
    }
   },
   "cell_type": "code",
   "source": [
    "# Function created for aesthetic, if we have more than 3 values it adds a ...\n",
    "def format_unique_values(values):\n",
    "    if len(values) > 3:\n",
    "        return f\"{list(values[:3])} ... ({len(values)} unique values)\"\n",
    "    return list(values)\n",
    "\n",
    "# This is added for structure\n",
    "summary = {\n",
    "    'Data Type': df.dtypes, # Luego el tipo de dato\n",
    "    'Unique Values': [df[col].nunique() for col in df.columns], # luego el número de valores unicos\n",
    "    'Sample Values': [format_unique_values(df[col].unique()) for col in df.columns], # Usando la función de arriba mostrar algunos valores\n",
    "    'Missing Values': df.isnull().sum(), # Cantidad de valores Faltantes\n",
    "    'Missing %': round(df.isnull().sum() / len(df) * 100,2) # Es la proporción cuantos valores hay faltantes\n",
    "}\n",
    "\n",
    "details = pd.DataFrame(summary)\n",
    "\n",
    "# This part is added to format the final table\n",
    "pd.set_option('display.max_columns', None)\n",
    "pd.set_option('display.max_colwidth', None)\n",
    "pd.set_option('display.width', 1000)\n",
    "styled_details = details.style.set_properties(**{\n",
    "    'text-align': 'left',\n",
    "    'white-space': 'pre-wrap'\n",
    "}).set_table_styles([\n",
    "    {'selector': 'th', 'props': [('background-color', '#f0f0f0'),\n",
    "                                ('color', 'black'),\n",
    "                                ('font-weight', 'bold'),\n",
    "                                ('text-align', 'left'),\n",
    "                                ('padding', '8px')]},\n",
    "    {'selector': 'td', 'props': [('padding', '8px')]}\n",
    "])\n",
    "\n",
    "display(styled_details)\n",
    "\n",
    "# Final Resume\n",
    "print(\"\\nShape of the DF (rows, columns):\", df.shape)\n",
    "print(f\"Rows: {df.shape[0]}\")\n",
    "print(f\"Columns: {df.shape[1]}\")\n"
   ],
   "outputs": [
    {
     "data": {
      "text/plain": [
       "<pandas.io.formats.style.Styler at 0x30d52e550>"
      ],
      "text/html": [
       "<style type=\"text/css\">\n",
       "#T_24a82 th {\n",
       "  background-color: #f0f0f0;\n",
       "  color: black;\n",
       "  font-weight: bold;\n",
       "  text-align: left;\n",
       "  padding: 8px;\n",
       "}\n",
       "#T_24a82 td {\n",
       "  padding: 8px;\n",
       "}\n",
       "#T_24a82_row0_col0, #T_24a82_row0_col1, #T_24a82_row0_col2, #T_24a82_row0_col3, #T_24a82_row0_col4, #T_24a82_row1_col0, #T_24a82_row1_col1, #T_24a82_row1_col2, #T_24a82_row1_col3, #T_24a82_row1_col4, #T_24a82_row2_col0, #T_24a82_row2_col1, #T_24a82_row2_col2, #T_24a82_row2_col3, #T_24a82_row2_col4, #T_24a82_row3_col0, #T_24a82_row3_col1, #T_24a82_row3_col2, #T_24a82_row3_col3, #T_24a82_row3_col4, #T_24a82_row4_col0, #T_24a82_row4_col1, #T_24a82_row4_col2, #T_24a82_row4_col3, #T_24a82_row4_col4, #T_24a82_row5_col0, #T_24a82_row5_col1, #T_24a82_row5_col2, #T_24a82_row5_col3, #T_24a82_row5_col4, #T_24a82_row6_col0, #T_24a82_row6_col1, #T_24a82_row6_col2, #T_24a82_row6_col3, #T_24a82_row6_col4, #T_24a82_row7_col0, #T_24a82_row7_col1, #T_24a82_row7_col2, #T_24a82_row7_col3, #T_24a82_row7_col4, #T_24a82_row8_col0, #T_24a82_row8_col1, #T_24a82_row8_col2, #T_24a82_row8_col3, #T_24a82_row8_col4, #T_24a82_row9_col0, #T_24a82_row9_col1, #T_24a82_row9_col2, #T_24a82_row9_col3, #T_24a82_row9_col4, #T_24a82_row10_col0, #T_24a82_row10_col1, #T_24a82_row10_col2, #T_24a82_row10_col3, #T_24a82_row10_col4 {\n",
       "  text-align: left;\n",
       "  white-space: pre-wrap;\n",
       "}\n",
       "</style>\n",
       "<table id=\"T_24a82\">\n",
       "  <thead>\n",
       "    <tr>\n",
       "      <th class=\"blank level0\" >&nbsp;</th>\n",
       "      <th id=\"T_24a82_level0_col0\" class=\"col_heading level0 col0\" >Data Type</th>\n",
       "      <th id=\"T_24a82_level0_col1\" class=\"col_heading level0 col1\" >Unique Values</th>\n",
       "      <th id=\"T_24a82_level0_col2\" class=\"col_heading level0 col2\" >Sample Values</th>\n",
       "      <th id=\"T_24a82_level0_col3\" class=\"col_heading level0 col3\" >Missing Values</th>\n",
       "      <th id=\"T_24a82_level0_col4\" class=\"col_heading level0 col4\" >Missing %</th>\n",
       "    </tr>\n",
       "  </thead>\n",
       "  <tbody>\n",
       "    <tr>\n",
       "      <th id=\"T_24a82_level0_row0\" class=\"row_heading level0 row0\" >Date</th>\n",
       "      <td id=\"T_24a82_row0_col0\" class=\"data row0 col0\" >object</td>\n",
       "      <td id=\"T_24a82_row0_col1\" class=\"data row0 col1\" >274</td>\n",
       "      <td id=\"T_24a82_row0_col2\" class=\"data row0 col2\" >['2024-01-01', '2024-01-02', '2024-01-03'] ... (274 unique values)</td>\n",
       "      <td id=\"T_24a82_row0_col3\" class=\"data row0 col3\" >0</td>\n",
       "      <td id=\"T_24a82_row0_col4\" class=\"data row0 col4\" >0.000000</td>\n",
       "    </tr>\n",
       "    <tr>\n",
       "      <th id=\"T_24a82_level0_row1\" class=\"row_heading level0 row1\" >Week</th>\n",
       "      <td id=\"T_24a82_row1_col0\" class=\"data row1 col0\" >int64</td>\n",
       "      <td id=\"T_24a82_row1_col1\" class=\"data row1 col1\" >40</td>\n",
       "      <td id=\"T_24a82_row1_col2\" class=\"data row1 col2\" >[1, 2, 3] ... (40 unique values)</td>\n",
       "      <td id=\"T_24a82_row1_col3\" class=\"data row1 col3\" >0</td>\n",
       "      <td id=\"T_24a82_row1_col4\" class=\"data row1 col4\" >0.000000</td>\n",
       "    </tr>\n",
       "    <tr>\n",
       "      <th id=\"T_24a82_level0_row2\" class=\"row_heading level0 row2\" >Line</th>\n",
       "      <td id=\"T_24a82_row2_col0\" class=\"data row2 col0\" >object</td>\n",
       "      <td id=\"T_24a82_row2_col1\" class=\"data row2 col1\" >30</td>\n",
       "      <td id=\"T_24a82_row2_col2\" class=\"data row2 col2\" >['505', '600', '501'] ... (30 unique values)</td>\n",
       "      <td id=\"T_24a82_row2_col3\" class=\"data row2 col3\" >0</td>\n",
       "      <td id=\"T_24a82_row2_col4\" class=\"data row2 col4\" >0.000000</td>\n",
       "    </tr>\n",
       "    <tr>\n",
       "      <th id=\"T_24a82_level0_row3\" class=\"row_heading level0 row3\" >Time</th>\n",
       "      <td id=\"T_24a82_row3_col0\" class=\"data row3 col0\" >object</td>\n",
       "      <td id=\"T_24a82_row3_col1\" class=\"data row3 col1\" >1425</td>\n",
       "      <td id=\"T_24a82_row3_col2\" class=\"data row3 col2\" >['02:45', '03:06', '03:53'] ... (1425 unique values)</td>\n",
       "      <td id=\"T_24a82_row3_col3\" class=\"data row3 col3\" >0</td>\n",
       "      <td id=\"T_24a82_row3_col4\" class=\"data row3 col4\" >0.000000</td>\n",
       "    </tr>\n",
       "    <tr>\n",
       "      <th id=\"T_24a82_level0_row4\" class=\"row_heading level0 row4\" >Day</th>\n",
       "      <td id=\"T_24a82_row4_col0\" class=\"data row4 col0\" >object</td>\n",
       "      <td id=\"T_24a82_row4_col1\" class=\"data row4 col1\" >7</td>\n",
       "      <td id=\"T_24a82_row4_col2\" class=\"data row4 col2\" >['Monday', 'Tuesday', 'Wednesday'] ... (7 unique values)</td>\n",
       "      <td id=\"T_24a82_row4_col3\" class=\"data row4 col3\" >0</td>\n",
       "      <td id=\"T_24a82_row4_col4\" class=\"data row4 col4\" >0.000000</td>\n",
       "    </tr>\n",
       "    <tr>\n",
       "      <th id=\"T_24a82_level0_row5\" class=\"row_heading level0 row5\" >Location</th>\n",
       "      <td id=\"T_24a82_row5_col0\" class=\"data row5 col0\" >object</td>\n",
       "      <td id=\"T_24a82_row5_col1\" class=\"data row5 col1\" >1630</td>\n",
       "      <td id=\"T_24a82_row5_col2\" class=\"data row5 col2\" >['DUNDAS AND MCCAUL', 'COLLEGE AND GLADSTONE', 'DUNDAS WEST STATION'] ... (1630 unique values)</td>\n",
       "      <td id=\"T_24a82_row5_col3\" class=\"data row5 col3\" >0</td>\n",
       "      <td id=\"T_24a82_row5_col4\" class=\"data row5 col4\" >0.000000</td>\n",
       "    </tr>\n",
       "    <tr>\n",
       "      <th id=\"T_24a82_level0_row6\" class=\"row_heading level0 row6\" >Incident</th>\n",
       "      <td id=\"T_24a82_row6_col0\" class=\"data row6 col0\" >object</td>\n",
       "      <td id=\"T_24a82_row6_col1\" class=\"data row6 col1\" >13</td>\n",
       "      <td id=\"T_24a82_row6_col2\" class=\"data row6 col2\" >['Security', 'Emergency Services', 'Diversion'] ... (13 unique values)</td>\n",
       "      <td id=\"T_24a82_row6_col3\" class=\"data row6 col3\" >0</td>\n",
       "      <td id=\"T_24a82_row6_col4\" class=\"data row6 col4\" >0.000000</td>\n",
       "    </tr>\n",
       "    <tr>\n",
       "      <th id=\"T_24a82_level0_row7\" class=\"row_heading level0 row7\" >Min Delay</th>\n",
       "      <td id=\"T_24a82_row7_col0\" class=\"data row7 col0\" >int64</td>\n",
       "      <td id=\"T_24a82_row7_col1\" class=\"data row7 col1\" >196</td>\n",
       "      <td id=\"T_24a82_row7_col2\" class=\"data row7 col2\" >[10, 52, 37] ... (196 unique values)</td>\n",
       "      <td id=\"T_24a82_row7_col3\" class=\"data row7 col3\" >0</td>\n",
       "      <td id=\"T_24a82_row7_col4\" class=\"data row7 col4\" >0.000000</td>\n",
       "    </tr>\n",
       "    <tr>\n",
       "      <th id=\"T_24a82_level0_row8\" class=\"row_heading level0 row8\" >Min Gap</th>\n",
       "      <td id=\"T_24a82_row8_col0\" class=\"data row8 col0\" >int64</td>\n",
       "      <td id=\"T_24a82_row8_col1\" class=\"data row8 col1\" >205</td>\n",
       "      <td id=\"T_24a82_row8_col2\" class=\"data row8 col2\" >[20, 72, 0] ... (205 unique values)</td>\n",
       "      <td id=\"T_24a82_row8_col3\" class=\"data row8 col3\" >0</td>\n",
       "      <td id=\"T_24a82_row8_col4\" class=\"data row8 col4\" >0.000000</td>\n",
       "    </tr>\n",
       "    <tr>\n",
       "      <th id=\"T_24a82_level0_row9\" class=\"row_heading level0 row9\" >Bound</th>\n",
       "      <td id=\"T_24a82_row9_col0\" class=\"data row9 col0\" >object</td>\n",
       "      <td id=\"T_24a82_row9_col1\" class=\"data row9 col1\" >5</td>\n",
       "      <td id=\"T_24a82_row9_col2\" class=\"data row9 col2\" >['W', 'E', 'Other'] ... (5 unique values)</td>\n",
       "      <td id=\"T_24a82_row9_col3\" class=\"data row9 col3\" >0</td>\n",
       "      <td id=\"T_24a82_row9_col4\" class=\"data row9 col4\" >0.000000</td>\n",
       "    </tr>\n",
       "    <tr>\n",
       "      <th id=\"T_24a82_level0_row10\" class=\"row_heading level0 row10\" >Vehicle</th>\n",
       "      <td id=\"T_24a82_row10_col0\" class=\"data row10 col0\" >int64</td>\n",
       "      <td id=\"T_24a82_row10_col1\" class=\"data row10 col1\" >1012</td>\n",
       "      <td id=\"T_24a82_row10_col2\" class=\"data row10 col2\" >[4416, 4461, 4551] ... (1012 unique values)</td>\n",
       "      <td id=\"T_24a82_row10_col3\" class=\"data row10 col3\" >0</td>\n",
       "      <td id=\"T_24a82_row10_col4\" class=\"data row10 col4\" >0.000000</td>\n",
       "    </tr>\n",
       "  </tbody>\n",
       "</table>\n"
      ]
     },
     "metadata": {},
     "output_type": "display_data"
    },
    {
     "name": "stdout",
     "output_type": "stream",
     "text": [
      "\n",
      "Shape of the DF (rows, columns): (9211, 11)\n",
      "Rows: 9211\n",
      "Columns: 11\n"
     ]
    }
   ],
   "execution_count": 40
  },
  {
   "metadata": {},
   "cell_type": "markdown",
   "source": "We removed 17 values from the original data set, and joined some categorical features for the moment."
  },
  {
   "metadata": {
    "ExecuteTime": {
     "end_time": "2024-11-25T04:42:02.453409Z",
     "start_time": "2024-11-25T04:42:02.433282Z"
    }
   },
   "cell_type": "code",
   "source": [
    "# Let's clean and prepare the information\n",
    "\n",
    "# time is a categorical feature, but it can be represented on a scale from 0-1440 (0-24 hours in minutes)\n",
    "df['Time'] = pd.to_datetime(df['Time'], format='%H:%M').dt.hour * 60 + pd.to_datetime(df['Time'], format='%H:%M').dt.minute"
   ],
   "outputs": [],
   "execution_count": 41
  },
  {
   "metadata": {
    "ExecuteTime": {
     "end_time": "2024-11-25T04:42:02.477563Z",
     "start_time": "2024-11-25T04:42:02.471847Z"
    }
   },
   "cell_type": "code",
   "source": [
    "# Let's make the date \"more understandable\"\n",
    "df['Date'] = pd.to_datetime(df['Date'])\n",
    "df['Year'] = df['Date'].dt.year\n",
    "df['Month'] = df['Date'].dt.month\n",
    "df['Day'] = df['Date'].dt.day\n",
    "df.drop(\"Date\", axis=1, inplace=True) # as we extracted what we needed we can get rid of this column"
   ],
   "outputs": [],
   "execution_count": 42
  },
  {
   "metadata": {
    "ExecuteTime": {
     "end_time": "2024-11-25T04:42:02.630404Z",
     "start_time": "2024-11-25T04:42:02.620427Z"
    }
   },
   "cell_type": "code",
   "source": [
    "# Function created for aesthetic, if we have more than 3 values it adds a ...\n",
    "def format_unique_values(values):\n",
    "    if len(values) > 3:\n",
    "        return f\"{list(values[:3])} ... ({len(values)} unique values)\"\n",
    "    return list(values)\n",
    "\n",
    "# This is added for structure\n",
    "summary = {\n",
    "    'Data Type': df.dtypes, # Luego el tipo de dato\n",
    "    'Unique Values': [df[col].nunique() for col in df.columns], # luego el número de valores unicos\n",
    "    'Sample Values': [format_unique_values(df[col].unique()) for col in df.columns], # Usando la función de arriba mostrar algunos valores\n",
    "    'Missing Values': df.isnull().sum(), # Cantidad de valores Faltantes\n",
    "    'Missing %': round(df.isnull().sum() / len(df) * 100,2) # Es la proporción cuantos valores hay faltantes\n",
    "}\n",
    "\n",
    "details = pd.DataFrame(summary)\n",
    "\n",
    "# This part is added to format the final table\n",
    "pd.set_option('display.max_columns', None)\n",
    "pd.set_option('display.max_colwidth', None)\n",
    "pd.set_option('display.width', 1000)\n",
    "styled_details = details.style.set_properties(**{\n",
    "    'text-align': 'left',\n",
    "    'white-space': 'pre-wrap'\n",
    "}).set_table_styles([\n",
    "    {'selector': 'th', 'props': [('background-color', '#f0f0f0'),\n",
    "                                ('color', 'black'),\n",
    "                                ('font-weight', 'bold'),\n",
    "                                ('text-align', 'left'),\n",
    "                                ('padding', '8px')]},\n",
    "    {'selector': 'td', 'props': [('padding', '8px')]}\n",
    "])\n",
    "\n",
    "display(styled_details)\n",
    "\n",
    "# Final Resume\n",
    "print(\"\\nShape of the DF (rows, columns):\", df.shape)\n",
    "print(f\"Rows: {df.shape[0]}\")\n",
    "print(f\"Columns: {df.shape[1]}\")"
   ],
   "outputs": [
    {
     "data": {
      "text/plain": [
       "<pandas.io.formats.style.Styler at 0x30d3efc50>"
      ],
      "text/html": [
       "<style type=\"text/css\">\n",
       "#T_81da8 th {\n",
       "  background-color: #f0f0f0;\n",
       "  color: black;\n",
       "  font-weight: bold;\n",
       "  text-align: left;\n",
       "  padding: 8px;\n",
       "}\n",
       "#T_81da8 td {\n",
       "  padding: 8px;\n",
       "}\n",
       "#T_81da8_row0_col0, #T_81da8_row0_col1, #T_81da8_row0_col2, #T_81da8_row0_col3, #T_81da8_row0_col4, #T_81da8_row1_col0, #T_81da8_row1_col1, #T_81da8_row1_col2, #T_81da8_row1_col3, #T_81da8_row1_col4, #T_81da8_row2_col0, #T_81da8_row2_col1, #T_81da8_row2_col2, #T_81da8_row2_col3, #T_81da8_row2_col4, #T_81da8_row3_col0, #T_81da8_row3_col1, #T_81da8_row3_col2, #T_81da8_row3_col3, #T_81da8_row3_col4, #T_81da8_row4_col0, #T_81da8_row4_col1, #T_81da8_row4_col2, #T_81da8_row4_col3, #T_81da8_row4_col4, #T_81da8_row5_col0, #T_81da8_row5_col1, #T_81da8_row5_col2, #T_81da8_row5_col3, #T_81da8_row5_col4, #T_81da8_row6_col0, #T_81da8_row6_col1, #T_81da8_row6_col2, #T_81da8_row6_col3, #T_81da8_row6_col4, #T_81da8_row7_col0, #T_81da8_row7_col1, #T_81da8_row7_col2, #T_81da8_row7_col3, #T_81da8_row7_col4, #T_81da8_row8_col0, #T_81da8_row8_col1, #T_81da8_row8_col2, #T_81da8_row8_col3, #T_81da8_row8_col4, #T_81da8_row9_col0, #T_81da8_row9_col1, #T_81da8_row9_col2, #T_81da8_row9_col3, #T_81da8_row9_col4, #T_81da8_row10_col0, #T_81da8_row10_col1, #T_81da8_row10_col2, #T_81da8_row10_col3, #T_81da8_row10_col4, #T_81da8_row11_col0, #T_81da8_row11_col1, #T_81da8_row11_col2, #T_81da8_row11_col3, #T_81da8_row11_col4 {\n",
       "  text-align: left;\n",
       "  white-space: pre-wrap;\n",
       "}\n",
       "</style>\n",
       "<table id=\"T_81da8\">\n",
       "  <thead>\n",
       "    <tr>\n",
       "      <th class=\"blank level0\" >&nbsp;</th>\n",
       "      <th id=\"T_81da8_level0_col0\" class=\"col_heading level0 col0\" >Data Type</th>\n",
       "      <th id=\"T_81da8_level0_col1\" class=\"col_heading level0 col1\" >Unique Values</th>\n",
       "      <th id=\"T_81da8_level0_col2\" class=\"col_heading level0 col2\" >Sample Values</th>\n",
       "      <th id=\"T_81da8_level0_col3\" class=\"col_heading level0 col3\" >Missing Values</th>\n",
       "      <th id=\"T_81da8_level0_col4\" class=\"col_heading level0 col4\" >Missing %</th>\n",
       "    </tr>\n",
       "  </thead>\n",
       "  <tbody>\n",
       "    <tr>\n",
       "      <th id=\"T_81da8_level0_row0\" class=\"row_heading level0 row0\" >Week</th>\n",
       "      <td id=\"T_81da8_row0_col0\" class=\"data row0 col0\" >int64</td>\n",
       "      <td id=\"T_81da8_row0_col1\" class=\"data row0 col1\" >40</td>\n",
       "      <td id=\"T_81da8_row0_col2\" class=\"data row0 col2\" >[1, 2, 3] ... (40 unique values)</td>\n",
       "      <td id=\"T_81da8_row0_col3\" class=\"data row0 col3\" >0</td>\n",
       "      <td id=\"T_81da8_row0_col4\" class=\"data row0 col4\" >0.000000</td>\n",
       "    </tr>\n",
       "    <tr>\n",
       "      <th id=\"T_81da8_level0_row1\" class=\"row_heading level0 row1\" >Line</th>\n",
       "      <td id=\"T_81da8_row1_col0\" class=\"data row1 col0\" >object</td>\n",
       "      <td id=\"T_81da8_row1_col1\" class=\"data row1 col1\" >30</td>\n",
       "      <td id=\"T_81da8_row1_col2\" class=\"data row1 col2\" >['505', '600', '501'] ... (30 unique values)</td>\n",
       "      <td id=\"T_81da8_row1_col3\" class=\"data row1 col3\" >0</td>\n",
       "      <td id=\"T_81da8_row1_col4\" class=\"data row1 col4\" >0.000000</td>\n",
       "    </tr>\n",
       "    <tr>\n",
       "      <th id=\"T_81da8_level0_row2\" class=\"row_heading level0 row2\" >Time</th>\n",
       "      <td id=\"T_81da8_row2_col0\" class=\"data row2 col0\" >int32</td>\n",
       "      <td id=\"T_81da8_row2_col1\" class=\"data row2 col1\" >1425</td>\n",
       "      <td id=\"T_81da8_row2_col2\" class=\"data row2 col2\" >[165, 186, 233] ... (1425 unique values)</td>\n",
       "      <td id=\"T_81da8_row2_col3\" class=\"data row2 col3\" >0</td>\n",
       "      <td id=\"T_81da8_row2_col4\" class=\"data row2 col4\" >0.000000</td>\n",
       "    </tr>\n",
       "    <tr>\n",
       "      <th id=\"T_81da8_level0_row3\" class=\"row_heading level0 row3\" >Day</th>\n",
       "      <td id=\"T_81da8_row3_col0\" class=\"data row3 col0\" >int32</td>\n",
       "      <td id=\"T_81da8_row3_col1\" class=\"data row3 col1\" >31</td>\n",
       "      <td id=\"T_81da8_row3_col2\" class=\"data row3 col2\" >[1, 2, 3] ... (31 unique values)</td>\n",
       "      <td id=\"T_81da8_row3_col3\" class=\"data row3 col3\" >0</td>\n",
       "      <td id=\"T_81da8_row3_col4\" class=\"data row3 col4\" >0.000000</td>\n",
       "    </tr>\n",
       "    <tr>\n",
       "      <th id=\"T_81da8_level0_row4\" class=\"row_heading level0 row4\" >Location</th>\n",
       "      <td id=\"T_81da8_row4_col0\" class=\"data row4 col0\" >object</td>\n",
       "      <td id=\"T_81da8_row4_col1\" class=\"data row4 col1\" >1630</td>\n",
       "      <td id=\"T_81da8_row4_col2\" class=\"data row4 col2\" >['DUNDAS AND MCCAUL', 'COLLEGE AND GLADSTONE', 'DUNDAS WEST STATION'] ... (1630 unique values)</td>\n",
       "      <td id=\"T_81da8_row4_col3\" class=\"data row4 col3\" >0</td>\n",
       "      <td id=\"T_81da8_row4_col4\" class=\"data row4 col4\" >0.000000</td>\n",
       "    </tr>\n",
       "    <tr>\n",
       "      <th id=\"T_81da8_level0_row5\" class=\"row_heading level0 row5\" >Incident</th>\n",
       "      <td id=\"T_81da8_row5_col0\" class=\"data row5 col0\" >object</td>\n",
       "      <td id=\"T_81da8_row5_col1\" class=\"data row5 col1\" >13</td>\n",
       "      <td id=\"T_81da8_row5_col2\" class=\"data row5 col2\" >['Security', 'Emergency Services', 'Diversion'] ... (13 unique values)</td>\n",
       "      <td id=\"T_81da8_row5_col3\" class=\"data row5 col3\" >0</td>\n",
       "      <td id=\"T_81da8_row5_col4\" class=\"data row5 col4\" >0.000000</td>\n",
       "    </tr>\n",
       "    <tr>\n",
       "      <th id=\"T_81da8_level0_row6\" class=\"row_heading level0 row6\" >Min Delay</th>\n",
       "      <td id=\"T_81da8_row6_col0\" class=\"data row6 col0\" >int64</td>\n",
       "      <td id=\"T_81da8_row6_col1\" class=\"data row6 col1\" >196</td>\n",
       "      <td id=\"T_81da8_row6_col2\" class=\"data row6 col2\" >[10, 52, 37] ... (196 unique values)</td>\n",
       "      <td id=\"T_81da8_row6_col3\" class=\"data row6 col3\" >0</td>\n",
       "      <td id=\"T_81da8_row6_col4\" class=\"data row6 col4\" >0.000000</td>\n",
       "    </tr>\n",
       "    <tr>\n",
       "      <th id=\"T_81da8_level0_row7\" class=\"row_heading level0 row7\" >Min Gap</th>\n",
       "      <td id=\"T_81da8_row7_col0\" class=\"data row7 col0\" >int64</td>\n",
       "      <td id=\"T_81da8_row7_col1\" class=\"data row7 col1\" >205</td>\n",
       "      <td id=\"T_81da8_row7_col2\" class=\"data row7 col2\" >[20, 72, 0] ... (205 unique values)</td>\n",
       "      <td id=\"T_81da8_row7_col3\" class=\"data row7 col3\" >0</td>\n",
       "      <td id=\"T_81da8_row7_col4\" class=\"data row7 col4\" >0.000000</td>\n",
       "    </tr>\n",
       "    <tr>\n",
       "      <th id=\"T_81da8_level0_row8\" class=\"row_heading level0 row8\" >Bound</th>\n",
       "      <td id=\"T_81da8_row8_col0\" class=\"data row8 col0\" >object</td>\n",
       "      <td id=\"T_81da8_row8_col1\" class=\"data row8 col1\" >5</td>\n",
       "      <td id=\"T_81da8_row8_col2\" class=\"data row8 col2\" >['W', 'E', 'Other'] ... (5 unique values)</td>\n",
       "      <td id=\"T_81da8_row8_col3\" class=\"data row8 col3\" >0</td>\n",
       "      <td id=\"T_81da8_row8_col4\" class=\"data row8 col4\" >0.000000</td>\n",
       "    </tr>\n",
       "    <tr>\n",
       "      <th id=\"T_81da8_level0_row9\" class=\"row_heading level0 row9\" >Vehicle</th>\n",
       "      <td id=\"T_81da8_row9_col0\" class=\"data row9 col0\" >int64</td>\n",
       "      <td id=\"T_81da8_row9_col1\" class=\"data row9 col1\" >1012</td>\n",
       "      <td id=\"T_81da8_row9_col2\" class=\"data row9 col2\" >[4416, 4461, 4551] ... (1012 unique values)</td>\n",
       "      <td id=\"T_81da8_row9_col3\" class=\"data row9 col3\" >0</td>\n",
       "      <td id=\"T_81da8_row9_col4\" class=\"data row9 col4\" >0.000000</td>\n",
       "    </tr>\n",
       "    <tr>\n",
       "      <th id=\"T_81da8_level0_row10\" class=\"row_heading level0 row10\" >Year</th>\n",
       "      <td id=\"T_81da8_row10_col0\" class=\"data row10 col0\" >int32</td>\n",
       "      <td id=\"T_81da8_row10_col1\" class=\"data row10 col1\" >1</td>\n",
       "      <td id=\"T_81da8_row10_col2\" class=\"data row10 col2\" >[2024]</td>\n",
       "      <td id=\"T_81da8_row10_col3\" class=\"data row10 col3\" >0</td>\n",
       "      <td id=\"T_81da8_row10_col4\" class=\"data row10 col4\" >0.000000</td>\n",
       "    </tr>\n",
       "    <tr>\n",
       "      <th id=\"T_81da8_level0_row11\" class=\"row_heading level0 row11\" >Month</th>\n",
       "      <td id=\"T_81da8_row11_col0\" class=\"data row11 col0\" >int32</td>\n",
       "      <td id=\"T_81da8_row11_col1\" class=\"data row11 col1\" >9</td>\n",
       "      <td id=\"T_81da8_row11_col2\" class=\"data row11 col2\" >[1, 2, 3] ... (9 unique values)</td>\n",
       "      <td id=\"T_81da8_row11_col3\" class=\"data row11 col3\" >0</td>\n",
       "      <td id=\"T_81da8_row11_col4\" class=\"data row11 col4\" >0.000000</td>\n",
       "    </tr>\n",
       "  </tbody>\n",
       "</table>\n"
      ]
     },
     "metadata": {},
     "output_type": "display_data"
    },
    {
     "name": "stdout",
     "output_type": "stream",
     "text": [
      "\n",
      "Shape of the DF (rows, columns): (9211, 12)\n",
      "Rows: 9211\n",
      "Columns: 12\n"
     ]
    }
   ],
   "execution_count": 43
  },
  {
   "metadata": {
    "ExecuteTime": {
     "end_time": "2024-11-25T04:42:02.774519Z",
     "start_time": "2024-11-25T04:42:02.772247Z"
    }
   },
   "cell_type": "code",
   "source": [
    "# As year is a \"constant\" we can drop it\n",
    "df.drop(\"Year\", axis=1, inplace=True)"
   ],
   "outputs": [],
   "execution_count": 44
  },
  {
   "metadata": {
    "ExecuteTime": {
     "end_time": "2024-11-25T04:42:02.919107Z",
     "start_time": "2024-11-25T04:42:02.911037Z"
    }
   },
   "cell_type": "code",
   "source": "df.describe().T",
   "outputs": [
    {
     "data": {
      "text/plain": [
       "            count         mean          std  min     25%     50%     75%      max\n",
       "Week       9211.0    19.600586    11.490938  1.0     9.0    19.0    30.0     40.0\n",
       "Time       9211.0   796.409510   382.466572  0.0   504.0   837.0  1103.0   1439.0\n",
       "Day        9211.0    15.631202     8.875922  1.0     8.0    16.0    23.0     31.0\n",
       "Min Delay  9211.0    18.560417    34.648966  1.0     9.0    10.0    15.0    873.0\n",
       "Min Gap    9211.0    27.909673    35.590619  0.0    18.0    20.0    25.0    883.0\n",
       "Vehicle    9211.0  5159.474216  2282.499822  0.0  4461.0  4532.0  4600.0  77624.0\n",
       "Month      9211.0     4.901856     2.619547  1.0     3.0     5.0     7.0      9.0"
      ],
      "text/html": [
       "<div>\n",
       "<style scoped>\n",
       "    .dataframe tbody tr th:only-of-type {\n",
       "        vertical-align: middle;\n",
       "    }\n",
       "\n",
       "    .dataframe tbody tr th {\n",
       "        vertical-align: top;\n",
       "    }\n",
       "\n",
       "    .dataframe thead th {\n",
       "        text-align: right;\n",
       "    }\n",
       "</style>\n",
       "<table border=\"1\" class=\"dataframe\">\n",
       "  <thead>\n",
       "    <tr style=\"text-align: right;\">\n",
       "      <th></th>\n",
       "      <th>count</th>\n",
       "      <th>mean</th>\n",
       "      <th>std</th>\n",
       "      <th>min</th>\n",
       "      <th>25%</th>\n",
       "      <th>50%</th>\n",
       "      <th>75%</th>\n",
       "      <th>max</th>\n",
       "    </tr>\n",
       "  </thead>\n",
       "  <tbody>\n",
       "    <tr>\n",
       "      <th>Week</th>\n",
       "      <td>9211.0</td>\n",
       "      <td>19.600586</td>\n",
       "      <td>11.490938</td>\n",
       "      <td>1.0</td>\n",
       "      <td>9.0</td>\n",
       "      <td>19.0</td>\n",
       "      <td>30.0</td>\n",
       "      <td>40.0</td>\n",
       "    </tr>\n",
       "    <tr>\n",
       "      <th>Time</th>\n",
       "      <td>9211.0</td>\n",
       "      <td>796.409510</td>\n",
       "      <td>382.466572</td>\n",
       "      <td>0.0</td>\n",
       "      <td>504.0</td>\n",
       "      <td>837.0</td>\n",
       "      <td>1103.0</td>\n",
       "      <td>1439.0</td>\n",
       "    </tr>\n",
       "    <tr>\n",
       "      <th>Day</th>\n",
       "      <td>9211.0</td>\n",
       "      <td>15.631202</td>\n",
       "      <td>8.875922</td>\n",
       "      <td>1.0</td>\n",
       "      <td>8.0</td>\n",
       "      <td>16.0</td>\n",
       "      <td>23.0</td>\n",
       "      <td>31.0</td>\n",
       "    </tr>\n",
       "    <tr>\n",
       "      <th>Min Delay</th>\n",
       "      <td>9211.0</td>\n",
       "      <td>18.560417</td>\n",
       "      <td>34.648966</td>\n",
       "      <td>1.0</td>\n",
       "      <td>9.0</td>\n",
       "      <td>10.0</td>\n",
       "      <td>15.0</td>\n",
       "      <td>873.0</td>\n",
       "    </tr>\n",
       "    <tr>\n",
       "      <th>Min Gap</th>\n",
       "      <td>9211.0</td>\n",
       "      <td>27.909673</td>\n",
       "      <td>35.590619</td>\n",
       "      <td>0.0</td>\n",
       "      <td>18.0</td>\n",
       "      <td>20.0</td>\n",
       "      <td>25.0</td>\n",
       "      <td>883.0</td>\n",
       "    </tr>\n",
       "    <tr>\n",
       "      <th>Vehicle</th>\n",
       "      <td>9211.0</td>\n",
       "      <td>5159.474216</td>\n",
       "      <td>2282.499822</td>\n",
       "      <td>0.0</td>\n",
       "      <td>4461.0</td>\n",
       "      <td>4532.0</td>\n",
       "      <td>4600.0</td>\n",
       "      <td>77624.0</td>\n",
       "    </tr>\n",
       "    <tr>\n",
       "      <th>Month</th>\n",
       "      <td>9211.0</td>\n",
       "      <td>4.901856</td>\n",
       "      <td>2.619547</td>\n",
       "      <td>1.0</td>\n",
       "      <td>3.0</td>\n",
       "      <td>5.0</td>\n",
       "      <td>7.0</td>\n",
       "      <td>9.0</td>\n",
       "    </tr>\n",
       "  </tbody>\n",
       "</table>\n",
       "</div>"
      ]
     },
     "execution_count": 45,
     "metadata": {},
     "output_type": "execute_result"
    }
   ],
   "execution_count": 45
  },
  {
   "metadata": {},
   "cell_type": "markdown",
   "source": [
    "Our numerical data can be described and understood in this table something to be careful if the difference between the mean and the max value\n",
    "\n",
    "It is very untypical in Min Gap and in Min Delay.\n",
    "\n",
    "Also Vehicle is a categorical feature so it will be used that way"
   ]
  },
  {
   "metadata": {
    "ExecuteTime": {
     "end_time": "2024-11-25T04:42:03.071836Z",
     "start_time": "2024-11-25T04:42:03.069292Z"
    }
   },
   "cell_type": "code",
   "source": "df.columns",
   "outputs": [
    {
     "data": {
      "text/plain": [
       "Index(['Week', 'Line', 'Time', 'Day', 'Location', 'Incident', 'Min Delay', 'Min Gap', 'Bound', 'Vehicle', 'Month'], dtype='object')"
      ]
     },
     "execution_count": 46,
     "metadata": {},
     "output_type": "execute_result"
    }
   ],
   "execution_count": 46
  },
  {
   "metadata": {
    "ExecuteTime": {
     "end_time": "2024-11-25T04:42:03.486045Z",
     "start_time": "2024-11-25T04:42:03.095510Z"
    }
   },
   "cell_type": "code",
   "source": [
    "graficar_num = ['Week', 'Day', 'Time', 'Min Delay', 'Min Gap', 'Month']\n",
    "plt.figure(figsize=(20, 6))\n",
    "\n",
    "for idx, feature in enumerate(graficar_num, 1):\n",
    "    plt.subplot(1, 6, idx)\n",
    "    sns.boxplot(data=df, y=feature)\n",
    "    plt.title(f'{feature} Box plot', pad=20)\n",
    "    plt.xlabel(feature)\n",
    "    plt.ylabel('Count')\n",
    "\n",
    "plt.tight_layout()\n",
    "plt.show()"
   ],
   "outputs": [
    {
     "data": {
      "text/plain": [
       "<Figure size 2000x600 with 6 Axes>"
      ],
      "image/png": "[encoded data removed]"
     },
     "metadata": {},
     "output_type": "display_data"
    }
   ],
   "execution_count": 47
  },
  {
   "metadata": {},
   "cell_type": "markdown",
   "source": " as we look at the graphs above there is some work to do, the Min Delay and Min Gap Box plot show a lot of outliers"
  },
  {
   "metadata": {
    "ExecuteTime": {
     "end_time": "2024-11-25T04:42:03.820524Z",
     "start_time": "2024-11-25T04:42:03.489525Z"
    }
   },
   "cell_type": "code",
   "source": [
    "# Now let's analyze Categorical Features\n",
    "\n",
    "cat = ['Line', 'Incident','Bound']\n",
    "plt.figure(figsize=(20, 6))\n",
    "\n",
    "for idx, feature in enumerate(cat, 1):\n",
    "    plt.subplot(1, 3, idx)\n",
    "    sns.histplot(data=df, y=feature)\n",
    "    plt.title(f'{feature} Box plot', pad=20)\n",
    "    plt.xlabel(feature)\n",
    "    plt.ylabel('Count')\n",
    "\n",
    "plt.tight_layout()\n",
    "plt.show()\n"
   ],
   "outputs": [
    {
     "data": {
      "text/plain": [
       "<Figure size 2000x600 with 3 Axes>"
      ],
      "image/png": "[encoded data removed]"
     },
     "metadata": {},
     "output_type": "display_data"
    }
   ],
   "execution_count": 48
  },
  {
   "metadata": {},
   "cell_type": "markdown",
   "source": "When we select those columns with less than 100 \"unique\" values we can see that the is an interesting concentration of values on specific lines, an even in the incident causes, also the direction has values that \"concentrate\" in certain areas"
  },
  {
   "metadata": {
    "ExecuteTime": {
     "end_time": "2024-11-25T04:42:04.082635Z",
     "start_time": "2024-11-25T04:42:04.079987Z"
    }
   },
   "cell_type": "code",
   "source": "df[(\"Vehicle\")].value_counts()",
   "outputs": [
    {
     "data": {
      "text/plain": [
       "Vehicle\n",
       "0       151\n",
       "4566     52\n",
       "4571     49\n",
       "4588     48\n",
       "4494     48\n",
       "       ... \n",
       "3353      1\n",
       "7049      1\n",
       "3128      1\n",
       "7086      1\n",
       "1351      1\n",
       "Name: count, Length: 1012, dtype: int64"
      ]
     },
     "execution_count": 49,
     "metadata": {},
     "output_type": "execute_result"
    }
   ],
   "execution_count": 49
  },
  {
   "metadata": {
    "ExecuteTime": {
     "end_time": "2024-11-25T04:42:04.102649Z",
     "start_time": "2024-11-25T04:42:04.099231Z"
    }
   },
   "cell_type": "code",
   "source": "df[(\"Location\")].value_counts()",
   "outputs": [
    {
     "data": {
      "text/plain": [
       "Location\n",
       "SPADINA STATION           221\n",
       "BROADVIEW STATION         219\n",
       "DUNDAS WEST STATION       196\n",
       "WOLSELEY LOOP             134\n",
       "HUMBER LOOP               107\n",
       "                         ... \n",
       "KINGSTON RD AND BROOKS      1\n",
       "COLLEGE AND BEVERELY        1\n",
       "RONCESALLES YARD            1\n",
       "WOLESELY LOOP               1\n",
       "KINGSTON ROAD AND WEVE      1\n",
       "Name: count, Length: 1630, dtype: int64"
      ]
     },
     "execution_count": 50,
     "metadata": {},
     "output_type": "execute_result"
    }
   ],
   "execution_count": 50
  },
  {
   "metadata": {
    "ExecuteTime": {
     "end_time": "2024-11-25T04:42:04.165326Z",
     "start_time": "2024-11-25T04:42:04.138079Z"
    }
   },
   "cell_type": "code",
   "source": [
    "from sklearn.preprocessing import LabelEncoder\n",
    "le = LabelEncoder()\n",
    "# now this categorical features lets \"turn\" them into numerical values\n",
    "df['Line'] = le.fit_transform(df['Line'])\n",
    "df['Incident'] = le.fit_transform(df['Incident'])\n",
    "df['Bound'] = le.fit_transform(df['Bound'])\n",
    "# we are using One hot encoder as thery don't have an order and as the frequency doesnt matter\n",
    "df_encoded = pd.get_dummies(df, columns=[\"Location\", \"Location\"],\n",
    "                           prefix=['Location', 'Vehicle'])\n",
    "df.drop(\"Location\", axis=1, inplace=True)\n",
    "df.drop(\"Vehicle\", axis=1, inplace=True)"
   ],
   "outputs": [],
   "execution_count": 51
  },
  {
   "metadata": {},
   "cell_type": "markdown",
   "source": "The values of location and Vehicle are specific, that why we have a lot of unique values, it is important to notice that there are some missing values in vehicle represented by \"0\", one solution could be getting random values and using them but for the moment we are leaving them as they are."
  },
  {
   "metadata": {
    "ExecuteTime": {
     "end_time": "2024-11-25T04:42:04.193097Z",
     "start_time": "2024-11-25T04:42:04.186863Z"
    }
   },
   "cell_type": "code",
   "source": [
    "from sklearn.model_selection import train_test_split\n",
    "from sklearn.preprocessing import StandardScaler, OneHotEncoder\n",
    "from sklearn.pipeline import Pipeline\n",
    "from sklearn.compose import ColumnTransformer\n",
    "from sklearn.metrics import mean_squared_error, r2_score\n",
    "import xgboost as xgb\n",
    "from sklearn.metrics import classification_report, confusion_matrix, roc_curve, auc\n",
    "\n",
    "\n",
    "X = df.drop('Min Delay', axis=1)\n",
    "y = df['Min Delay']\n",
    "X_train, X_test, y_train, y_test = train_test_split(X, y, random_state=101, train_size=0.7)\n",
    "X.head()"
   ],
   "outputs": [
    {
     "data": {
      "text/plain": [
       "   Week  Line  Time  Day  Incident  Min Gap  Bound  Month\n",
       "0     1    14   165    1        11       20      4      1\n",
       "1     1    14   186    1         3       72      0      1\n",
       "3     1    14   233    1        11        0      4      1\n",
       "4     1    25   267    1         2       93      0      1\n",
       "5     1    11   273    1         2       84      0      1"
      ],
      "text/html": [
       "<div>\n",
       "<style scoped>\n",
       "    .dataframe tbody tr th:only-of-type {\n",
       "        vertical-align: middle;\n",
       "    }\n",
       "\n",
       "    .dataframe tbody tr th {\n",
       "        vertical-align: top;\n",
       "    }\n",
       "\n",
       "    .dataframe thead th {\n",
       "        text-align: right;\n",
       "    }\n",
       "</style>\n",
       "<table border=\"1\" class=\"dataframe\">\n",
       "  <thead>\n",
       "    <tr style=\"text-align: right;\">\n",
       "      <th></th>\n",
       "      <th>Week</th>\n",
       "      <th>Line</th>\n",
       "      <th>Time</th>\n",
       "      <th>Day</th>\n",
       "      <th>Incident</th>\n",
       "      <th>Min Gap</th>\n",
       "      <th>Bound</th>\n",
       "      <th>Month</th>\n",
       "    </tr>\n",
       "  </thead>\n",
       "  <tbody>\n",
       "    <tr>\n",
       "      <th>0</th>\n",
       "      <td>1</td>\n",
       "      <td>14</td>\n",
       "      <td>165</td>\n",
       "      <td>1</td>\n",
       "      <td>11</td>\n",
       "      <td>20</td>\n",
       "      <td>4</td>\n",
       "      <td>1</td>\n",
       "    </tr>\n",
       "    <tr>\n",
       "      <th>1</th>\n",
       "      <td>1</td>\n",
       "      <td>14</td>\n",
       "      <td>186</td>\n",
       "      <td>1</td>\n",
       "      <td>3</td>\n",
       "      <td>72</td>\n",
       "      <td>0</td>\n",
       "      <td>1</td>\n",
       "    </tr>\n",
       "    <tr>\n",
       "      <th>3</th>\n",
       "      <td>1</td>\n",
       "      <td>14</td>\n",
       "      <td>233</td>\n",
       "      <td>1</td>\n",
       "      <td>11</td>\n",
       "      <td>0</td>\n",
       "      <td>4</td>\n",
       "      <td>1</td>\n",
       "    </tr>\n",
       "    <tr>\n",
       "      <th>4</th>\n",
       "      <td>1</td>\n",
       "      <td>25</td>\n",
       "      <td>267</td>\n",
       "      <td>1</td>\n",
       "      <td>2</td>\n",
       "      <td>93</td>\n",
       "      <td>0</td>\n",
       "      <td>1</td>\n",
       "    </tr>\n",
       "    <tr>\n",
       "      <th>5</th>\n",
       "      <td>1</td>\n",
       "      <td>11</td>\n",
       "      <td>273</td>\n",
       "      <td>1</td>\n",
       "      <td>2</td>\n",
       "      <td>84</td>\n",
       "      <td>0</td>\n",
       "      <td>1</td>\n",
       "    </tr>\n",
       "  </tbody>\n",
       "</table>\n",
       "</div>"
      ]
     },
     "execution_count": 52,
     "metadata": {},
     "output_type": "execute_result"
    }
   ],
   "execution_count": 52
  },
  {
   "metadata": {
    "ExecuteTime": {
     "end_time": "2024-11-25T04:42:04.212477Z",
     "start_time": "2024-11-25T04:42:04.208252Z"
    }
   },
   "cell_type": "code",
   "source": [
    "from sklearn.preprocessing import StandardScaler\n",
    "scaler = StandardScaler()\n",
    "X_train_scaled = scaler.fit_transform(X_train) #Fit transform en entrenamiento\n",
    "X_test_scaled = scaler.transform(X_test) #Transform solo en prueba"
   ],
   "outputs": [],
   "execution_count": 53
  },
  {
   "metadata": {
    "ExecuteTime": {
     "end_time": "2024-11-25T04:42:04.257561Z",
     "start_time": "2024-11-25T04:42:04.236227Z"
    }
   },
   "cell_type": "code",
   "source": [
    "model = LinearRegression()\n",
    "model.fit(X_train_scaled, y_train)\n",
    "y_pred = model.predict(X_test_scaled)"
   ],
   "outputs": [],
   "execution_count": 54
  },
  {
   "metadata": {
    "ExecuteTime": {
     "end_time": "2024-11-25T04:42:04.307105Z",
     "start_time": "2024-11-25T04:42:04.301072Z"
    }
   },
   "cell_type": "code",
   "source": [
    "print(f\"\"\"\n",
    "Coeficientes: {model.coef_}\n",
    "Intercepto: {model.intercept_}\n",
    "RMSE: {np.sqrt(mean_squared_error(y_test,y_pred))}\n",
    "R2: {r2_score(y_test,y_pred)}\n",
    "\"\"\")"
   ],
   "outputs": [
    {
     "name": "stdout",
     "output_type": "stream",
     "text": [
      "\n",
      "Coeficientes: [ 7.39185268  0.88956096  0.4305411  -0.85386997 -0.10296626 34.99213002\n",
      " -0.127955   -7.11495863]\n",
      "Intercepto: 18.687606638746704\n",
      "RMSE: 9.963897174142412\n",
      "R2: 0.8996599484789259\n",
      "\n"
     ]
    }
   ],
   "execution_count": 55
  },
  {
   "metadata": {
    "ExecuteTime": {
     "end_time": "2024-11-25T04:42:04.700267Z",
     "start_time": "2024-11-25T04:42:04.678399Z"
    }
   },
   "cell_type": "code",
   "source": [
    "#Calcular residuos\n",
    "residuals = y_test-model.predict(X_test_scaled)\n",
    "residuals = residuals.values\n",
    "residuals"
   ],
   "outputs": [
    {
     "data": {
      "text/plain": [
       "array([-1.21246823, -0.01108042, -1.68269925, ..., -1.84436472,\n",
       "       -1.16850549,  0.56924694])"
      ]
     },
     "execution_count": 56,
     "metadata": {},
     "output_type": "execute_result"
    }
   ],
   "execution_count": 56
  },
  {
   "metadata": {
    "ExecuteTime": {
     "end_time": "2024-11-25T04:42:05.073028Z",
     "start_time": "2024-11-25T04:42:04.981226Z"
    }
   },
   "cell_type": "code",
   "source": [
    "plt.figure(figsize=(10,6))\n",
    "plt.scatter(y_test, residuals, color='purple', alpha=0.5)\n",
    "plt.axhline(y=0, color='red',linestyle='--')\n",
    "plt.title('Rersiduals Plot')\n",
    "plt.xlabel('Predicted Values')\n",
    "plt.ylabel('Residuals')\n",
    "plt.show()"
   ],
   "outputs": [
    {
     "data": {
      "text/plain": [
       "<Figure size 1000x600 with 1 Axes>"
      ],
      "image/png": "[encoded data removed]"
     },
     "metadata": {},
     "output_type": "display_data"
    }
   ],
   "execution_count": 57
  },
  {
   "metadata": {
    "ExecuteTime": {
     "end_time": "2024-11-25T04:42:05.327414Z",
     "start_time": "2024-11-25T04:42:05.075368Z"
    }
   },
   "cell_type": "code",
   "source": [
    "residuals = residuals.reshape(1,-1)\n",
    "residuals = residuals[0]\n",
    "res_df = pd.DataFrame({'residuals':residuals})\n",
    "sns.kdeplot(res_df, x='residuals',fill=True)"
   ],
   "outputs": [
    {
     "data": {
      "text/plain": [
       "<Axes: xlabel='residuals', ylabel='Density'>"
      ]
     },
     "execution_count": 58,
     "metadata": {},
     "output_type": "execute_result"
    },
    {
     "data": {
      "text/plain": [
       "<Figure size 640x480 with 1 Axes>"
      ],
      "image/png": "[encoded data removed]"
     },
     "metadata": {},
     "output_type": "display_data"
    }
   ],
   "execution_count": 58
  },
  {
   "metadata": {
    "ExecuteTime": {
     "end_time": "2024-11-25T04:42:05.653539Z",
     "start_time": "2024-11-25T04:42:05.567713Z"
    }
   },
   "cell_type": "code",
   "source": [
    "(osm,osr),(slope,intercept,r) = stats.probplot(residuals, dist='norm', plot=plt)\n",
    "sns.set(style='whitegrid')\n",
    "plt.title('Q-Q Plot')\n",
    "plt.xlabel('Theoretical Quantiles')\n",
    "plt.ylabel('Data Quantiles')\n",
    "plt.show()"
   ],
   "outputs": [
    {
     "data": {
      "text/plain": [
       "<Figure size 640x480 with 1 Axes>"
      ],
      "image/png": "[encoded data removed]"
     },
     "metadata": {},
     "output_type": "display_data"
    }
   ],
   "execution_count": 59
  },
  {
   "metadata": {
    "ExecuteTime": {
     "end_time": "2024-11-25T04:42:05.791085Z",
     "start_time": "2024-11-25T04:42:05.788795Z"
    }
   },
   "cell_type": "code",
   "source": [
    "statistic, p_value = stats.shapiro(residuals)\n",
    "\n",
    "print(f\"Estadistico:{statistic}\")\n",
    "print(f\"Valor P:{p_value}\")\n",
    "\n",
    "alpha = 0.05\n",
    "\n",
    "if p_value <alpha:\n",
    "  print(\"Rechazamos la hipotesis nula: los datos no siguen una distribucion normal\")\n",
    "else:\n",
    "  print(\"Fallamos en rechazar la hipotesis nula. Los datos podrian seguir una distribucion normal\")"
   ],
   "outputs": [
    {
     "name": "stdout",
     "output_type": "stream",
     "text": [
      "Estadistico:0.261563241481781\n",
      "Valor P:0.0\n",
      "Rechazamos la hipotesis nula: los datos no siguen una distribucion normal\n"
     ]
    }
   ],
   "execution_count": 60
  },
  {
   "metadata": {},
   "cell_type": "code",
   "source": "",
   "outputs": [],
   "execution_count": null
  }
 ],
 "metadata": {
  "kernelspec": {
   "display_name": "Python 3",
   "language": "python",
   "name": "python3"
  },
  "language_info": {
   "codemirror_mode": {
    "name": "ipython",
    "version": 3
   },
   "file_extension": ".py",
   "mimetype": "text/x-python",
   "name": "python",
   "nbconvert_exporter": "python",
   "pygments_lexer": "ipython3",
   "version": "3.11.10"
  }
 },
 "nbformat": 4,
 "nbformat_minor": 2
}
