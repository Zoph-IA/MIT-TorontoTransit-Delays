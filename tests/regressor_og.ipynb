{
 "cells": [
  {
   "cell_type": "code",
   "metadata": {
    "ExecuteTime": {
     "end_time": "2024-11-25T05:30:00.868864Z",
     "start_time": "2024-11-25T05:30:00.621224Z"
    }
   },
   "source": [
    "from pyexpat import features\n",
    "import pandas as pd\n",
    "import numpy as np\n",
    "from sklearn.model_selection import train_test_split\n",
    "from sklearn.linear_model import LinearRegression\n",
    "from sklearn.preprocessing import StandardScaler\n",
    "from sklearn.metrics import mean_squared_error, r2_score, mean_absolute_error\n",
    "import matplotlib.pyplot as plt\n",
    "import seaborn as sns\n",
    "from scipy import stats\n",
    "from aiohttp.web_routedef import static\n",
    "from mpmath import residual\n",
    "\n",
    "df = pd.read_csv(\"/Users/lorenzoreinoso/Documents/MIT-StreetCar-Delay/data_updated.csv\")"
   ],
   "outputs": [],
   "execution_count": 1
  },
  {
   "cell_type": "code",
   "metadata": {
    "ExecuteTime": {
     "end_time": "2024-11-25T05:30:00.878386Z",
     "start_time": "2024-11-25T05:30:00.871776Z"
    }
   },
   "source": "df.head(10)",
   "outputs": [
    {
     "data": {
      "text/plain": [
       "         Date  Week Line   Time     Day                Location  \\\n",
       "0  2024-01-01     1  505  02:45  Monday       DUNDAS AND MCCAUL   \n",
       "1  2024-01-01     1  505  03:06  Monday   COLLEGE AND GLADSTONE   \n",
       "2  2024-01-01     1  503  03:21  Monday  PARLIAMENT AND SHUTTER   \n",
       "3  2024-01-01     1  505  03:53  Monday     DUNDAS WEST STATION   \n",
       "4  2024-01-01     1  600  04:27  Monday      QUEEN AND BATHURST   \n",
       "5  2024-01-01     1  501  04:33  Monday      QUEEN AND BATHRUST   \n",
       "6  2024-01-01     1  501  04:39  Monday      QUEEN AND PORTLAND   \n",
       "7  2024-01-01     1  507  04:52  Monday       RONCESVALLES YARD   \n",
       "8  2024-01-01     1  506  04:53  Monday        RONCESVALLE YARD   \n",
       "9  2024-01-01     1  501  04:54  Monday       RONCESVALLES YARD   \n",
       "\n",
       "             Incident  Min Delay  Min Gap Bound  Vehicle  \n",
       "0            Security         10       20     W     4416  \n",
       "1  Emergency Services         52       72     E     4461  \n",
       "2            Security          0        0     N     4545  \n",
       "3            Security         37        0     W     4551  \n",
       "4           Diversion         78       93     E     8116  \n",
       "5           Diversion         74       84     E     3531  \n",
       "6           Diversion         39       49     W     4516  \n",
       "7       General Delay          6       18     E     4479  \n",
       "8       General Delay         13       28     E     4408  \n",
       "9       General Delay         15       30     W     4411  "
      ],
      "text/html": [
       "<div>\n",
       "<style scoped>\n",
       "    .dataframe tbody tr th:only-of-type {\n",
       "        vertical-align: middle;\n",
       "    }\n",
       "\n",
       "    .dataframe tbody tr th {\n",
       "        vertical-align: top;\n",
       "    }\n",
       "\n",
       "    .dataframe thead th {\n",
       "        text-align: right;\n",
       "    }\n",
       "</style>\n",
       "<table border=\"1\" class=\"dataframe\">\n",
       "  <thead>\n",
       "    <tr style=\"text-align: right;\">\n",
       "      <th></th>\n",
       "      <th>Date</th>\n",
       "      <th>Week</th>\n",
       "      <th>Line</th>\n",
       "      <th>Time</th>\n",
       "      <th>Day</th>\n",
       "      <th>Location</th>\n",
       "      <th>Incident</th>\n",
       "      <th>Min Delay</th>\n",
       "      <th>Min Gap</th>\n",
       "      <th>Bound</th>\n",
       "      <th>Vehicle</th>\n",
       "    </tr>\n",
       "  </thead>\n",
       "  <tbody>\n",
       "    <tr>\n",
       "      <th>0</th>\n",
       "      <td>2024-01-01</td>\n",
       "      <td>1</td>\n",
       "      <td>505</td>\n",
       "      <td>02:45</td>\n",
       "      <td>Monday</td>\n",
       "      <td>DUNDAS AND MCCAUL</td>\n",
       "      <td>Security</td>\n",
       "      <td>10</td>\n",
       "      <td>20</td>\n",
       "      <td>W</td>\n",
       "      <td>4416</td>\n",
       "    </tr>\n",
       "    <tr>\n",
       "      <th>1</th>\n",
       "      <td>2024-01-01</td>\n",
       "      <td>1</td>\n",
       "      <td>505</td>\n",
       "      <td>03:06</td>\n",
       "      <td>Monday</td>\n",
       "      <td>COLLEGE AND GLADSTONE</td>\n",
       "      <td>Emergency Services</td>\n",
       "      <td>52</td>\n",
       "      <td>72</td>\n",
       "      <td>E</td>\n",
       "      <td>4461</td>\n",
       "    </tr>\n",
       "    <tr>\n",
       "      <th>2</th>\n",
       "      <td>2024-01-01</td>\n",
       "      <td>1</td>\n",
       "      <td>503</td>\n",
       "      <td>03:21</td>\n",
       "      <td>Monday</td>\n",
       "      <td>PARLIAMENT AND SHUTTER</td>\n",
       "      <td>Security</td>\n",
       "      <td>0</td>\n",
       "      <td>0</td>\n",
       "      <td>N</td>\n",
       "      <td>4545</td>\n",
       "    </tr>\n",
       "    <tr>\n",
       "      <th>3</th>\n",
       "      <td>2024-01-01</td>\n",
       "      <td>1</td>\n",
       "      <td>505</td>\n",
       "      <td>03:53</td>\n",
       "      <td>Monday</td>\n",
       "      <td>DUNDAS WEST STATION</td>\n",
       "      <td>Security</td>\n",
       "      <td>37</td>\n",
       "      <td>0</td>\n",
       "      <td>W</td>\n",
       "      <td>4551</td>\n",
       "    </tr>\n",
       "    <tr>\n",
       "      <th>4</th>\n",
       "      <td>2024-01-01</td>\n",
       "      <td>1</td>\n",
       "      <td>600</td>\n",
       "      <td>04:27</td>\n",
       "      <td>Monday</td>\n",
       "      <td>QUEEN AND BATHURST</td>\n",
       "      <td>Diversion</td>\n",
       "      <td>78</td>\n",
       "      <td>93</td>\n",
       "      <td>E</td>\n",
       "      <td>8116</td>\n",
       "    </tr>\n",
       "    <tr>\n",
       "      <th>5</th>\n",
       "      <td>2024-01-01</td>\n",
       "      <td>1</td>\n",
       "      <td>501</td>\n",
       "      <td>04:33</td>\n",
       "      <td>Monday</td>\n",
       "      <td>QUEEN AND BATHRUST</td>\n",
       "      <td>Diversion</td>\n",
       "      <td>74</td>\n",
       "      <td>84</td>\n",
       "      <td>E</td>\n",
       "      <td>3531</td>\n",
       "    </tr>\n",
       "    <tr>\n",
       "      <th>6</th>\n",
       "      <td>2024-01-01</td>\n",
       "      <td>1</td>\n",
       "      <td>501</td>\n",
       "      <td>04:39</td>\n",
       "      <td>Monday</td>\n",
       "      <td>QUEEN AND PORTLAND</td>\n",
       "      <td>Diversion</td>\n",
       "      <td>39</td>\n",
       "      <td>49</td>\n",
       "      <td>W</td>\n",
       "      <td>4516</td>\n",
       "    </tr>\n",
       "    <tr>\n",
       "      <th>7</th>\n",
       "      <td>2024-01-01</td>\n",
       "      <td>1</td>\n",
       "      <td>507</td>\n",
       "      <td>04:52</td>\n",
       "      <td>Monday</td>\n",
       "      <td>RONCESVALLES YARD</td>\n",
       "      <td>General Delay</td>\n",
       "      <td>6</td>\n",
       "      <td>18</td>\n",
       "      <td>E</td>\n",
       "      <td>4479</td>\n",
       "    </tr>\n",
       "    <tr>\n",
       "      <th>8</th>\n",
       "      <td>2024-01-01</td>\n",
       "      <td>1</td>\n",
       "      <td>506</td>\n",
       "      <td>04:53</td>\n",
       "      <td>Monday</td>\n",
       "      <td>RONCESVALLE YARD</td>\n",
       "      <td>General Delay</td>\n",
       "      <td>13</td>\n",
       "      <td>28</td>\n",
       "      <td>E</td>\n",
       "      <td>4408</td>\n",
       "    </tr>\n",
       "    <tr>\n",
       "      <th>9</th>\n",
       "      <td>2024-01-01</td>\n",
       "      <td>1</td>\n",
       "      <td>501</td>\n",
       "      <td>04:54</td>\n",
       "      <td>Monday</td>\n",
       "      <td>RONCESVALLES YARD</td>\n",
       "      <td>General Delay</td>\n",
       "      <td>15</td>\n",
       "      <td>30</td>\n",
       "      <td>W</td>\n",
       "      <td>4411</td>\n",
       "    </tr>\n",
       "  </tbody>\n",
       "</table>\n",
       "</div>"
      ]
     },
     "execution_count": 2,
     "metadata": {},
     "output_type": "execute_result"
    }
   ],
   "execution_count": 2
  },
  {
   "metadata": {
    "ExecuteTime": {
     "end_time": "2024-11-25T05:30:01.010929Z",
     "start_time": "2024-11-25T05:30:01.008609Z"
    }
   },
   "cell_type": "code",
   "source": "df.shape",
   "outputs": [
    {
     "data": {
      "text/plain": [
       "(11087, 11)"
      ]
     },
     "execution_count": 3,
     "metadata": {},
     "output_type": "execute_result"
    }
   ],
   "execution_count": 3
  },
  {
   "metadata": {
    "ExecuteTime": {
     "end_time": "2024-11-25T05:30:01.045622Z",
     "start_time": "2024-11-25T05:30:01.039705Z"
    }
   },
   "cell_type": "code",
   "source": [
    "df = df[df[\"Min Delay\"]>=15]\n",
    "df.shape"
   ],
   "outputs": [
    {
     "data": {
      "text/plain": [
       "(2459, 11)"
      ]
     },
     "execution_count": 4,
     "metadata": {},
     "output_type": "execute_result"
    }
   ],
   "execution_count": 4
  },
  {
   "metadata": {
    "ExecuteTime": {
     "end_time": "2024-11-25T05:30:01.081163Z",
     "start_time": "2024-11-25T05:30:01.075715Z"
    }
   },
   "cell_type": "code",
   "source": "df.head()",
   "outputs": [
    {
     "data": {
      "text/plain": [
       "         Date  Week Line   Time     Day               Location  \\\n",
       "1  2024-01-01     1  505  03:06  Monday  COLLEGE AND GLADSTONE   \n",
       "3  2024-01-01     1  505  03:53  Monday    DUNDAS WEST STATION   \n",
       "4  2024-01-01     1  600  04:27  Monday     QUEEN AND BATHURST   \n",
       "5  2024-01-01     1  501  04:33  Monday     QUEEN AND BATHRUST   \n",
       "6  2024-01-01     1  501  04:39  Monday     QUEEN AND PORTLAND   \n",
       "\n",
       "             Incident  Min Delay  Min Gap Bound  Vehicle  \n",
       "1  Emergency Services         52       72     E     4461  \n",
       "3            Security         37        0     W     4551  \n",
       "4           Diversion         78       93     E     8116  \n",
       "5           Diversion         74       84     E     3531  \n",
       "6           Diversion         39       49     W     4516  "
      ],
      "text/html": [
       "<div>\n",
       "<style scoped>\n",
       "    .dataframe tbody tr th:only-of-type {\n",
       "        vertical-align: middle;\n",
       "    }\n",
       "\n",
       "    .dataframe tbody tr th {\n",
       "        vertical-align: top;\n",
       "    }\n",
       "\n",
       "    .dataframe thead th {\n",
       "        text-align: right;\n",
       "    }\n",
       "</style>\n",
       "<table border=\"1\" class=\"dataframe\">\n",
       "  <thead>\n",
       "    <tr style=\"text-align: right;\">\n",
       "      <th></th>\n",
       "      <th>Date</th>\n",
       "      <th>Week</th>\n",
       "      <th>Line</th>\n",
       "      <th>Time</th>\n",
       "      <th>Day</th>\n",
       "      <th>Location</th>\n",
       "      <th>Incident</th>\n",
       "      <th>Min Delay</th>\n",
       "      <th>Min Gap</th>\n",
       "      <th>Bound</th>\n",
       "      <th>Vehicle</th>\n",
       "    </tr>\n",
       "  </thead>\n",
       "  <tbody>\n",
       "    <tr>\n",
       "      <th>1</th>\n",
       "      <td>2024-01-01</td>\n",
       "      <td>1</td>\n",
       "      <td>505</td>\n",
       "      <td>03:06</td>\n",
       "      <td>Monday</td>\n",
       "      <td>COLLEGE AND GLADSTONE</td>\n",
       "      <td>Emergency Services</td>\n",
       "      <td>52</td>\n",
       "      <td>72</td>\n",
       "      <td>E</td>\n",
       "      <td>4461</td>\n",
       "    </tr>\n",
       "    <tr>\n",
       "      <th>3</th>\n",
       "      <td>2024-01-01</td>\n",
       "      <td>1</td>\n",
       "      <td>505</td>\n",
       "      <td>03:53</td>\n",
       "      <td>Monday</td>\n",
       "      <td>DUNDAS WEST STATION</td>\n",
       "      <td>Security</td>\n",
       "      <td>37</td>\n",
       "      <td>0</td>\n",
       "      <td>W</td>\n",
       "      <td>4551</td>\n",
       "    </tr>\n",
       "    <tr>\n",
       "      <th>4</th>\n",
       "      <td>2024-01-01</td>\n",
       "      <td>1</td>\n",
       "      <td>600</td>\n",
       "      <td>04:27</td>\n",
       "      <td>Monday</td>\n",
       "      <td>QUEEN AND BATHURST</td>\n",
       "      <td>Diversion</td>\n",
       "      <td>78</td>\n",
       "      <td>93</td>\n",
       "      <td>E</td>\n",
       "      <td>8116</td>\n",
       "    </tr>\n",
       "    <tr>\n",
       "      <th>5</th>\n",
       "      <td>2024-01-01</td>\n",
       "      <td>1</td>\n",
       "      <td>501</td>\n",
       "      <td>04:33</td>\n",
       "      <td>Monday</td>\n",
       "      <td>QUEEN AND BATHRUST</td>\n",
       "      <td>Diversion</td>\n",
       "      <td>74</td>\n",
       "      <td>84</td>\n",
       "      <td>E</td>\n",
       "      <td>3531</td>\n",
       "    </tr>\n",
       "    <tr>\n",
       "      <th>6</th>\n",
       "      <td>2024-01-01</td>\n",
       "      <td>1</td>\n",
       "      <td>501</td>\n",
       "      <td>04:39</td>\n",
       "      <td>Monday</td>\n",
       "      <td>QUEEN AND PORTLAND</td>\n",
       "      <td>Diversion</td>\n",
       "      <td>39</td>\n",
       "      <td>49</td>\n",
       "      <td>W</td>\n",
       "      <td>4516</td>\n",
       "    </tr>\n",
       "  </tbody>\n",
       "</table>\n",
       "</div>"
      ]
     },
     "execution_count": 5,
     "metadata": {},
     "output_type": "execute_result"
    }
   ],
   "execution_count": 5
  },
  {
   "metadata": {},
   "cell_type": "markdown",
   "source": [
    "We want to make sure that we are taking into consideration all the events that had delay in order to predict, the time that it will take for them to arrive.\n",
    "\n",
    "It's really important to take into consideration as much valuable information as we can."
   ]
  },
  {
   "metadata": {
    "ExecuteTime": {
     "end_time": "2024-11-25T05:30:01.172005Z",
     "start_time": "2024-11-25T05:30:01.124105Z"
    }
   },
   "cell_type": "code",
   "source": [
    "# Function created for aesthetic, if we have more than 3 values it adds a ...\n",
    "def format_unique_values(values):\n",
    "    if len(values) > 3:\n",
    "        return f\"{list(values[:3])} ... ({len(values)} unique values)\"\n",
    "    return list(values)\n",
    "\n",
    "# This is added for structure\n",
    "summary = {\n",
    "    'Data Type': df.dtypes, # Luego el tipo de dato\n",
    "    'Unique Values': [df[col].nunique() for col in df.columns], # luego el número de valores unicos\n",
    "    'Sample Values': [format_unique_values(df[col].unique()) for col in df.columns], # Usando la función de arriba mostrar algunos valores\n",
    "    'Missing Values': df.isnull().sum(), # Cantidad de valores Faltantes\n",
    "    'Missing %': round(df.isnull().sum() / len(df) * 100,2) # Es la proporción cuantos valores hay faltantes\n",
    "}\n",
    "\n",
    "details = pd.DataFrame(summary)\n",
    "\n",
    "# This part is added to format the final table\n",
    "pd.set_option('display.max_columns', None)\n",
    "pd.set_option('display.max_colwidth', None)\n",
    "pd.set_option('display.width', 1000)\n",
    "styled_details = details.style.set_properties(**{\n",
    "    'text-align': 'left',\n",
    "    'white-space': 'pre-wrap'\n",
    "}).set_table_styles([\n",
    "    {'selector': 'th', 'props': [('background-color', '#f0f0f0'),\n",
    "                                ('color', 'black'),\n",
    "                                ('font-weight', 'bold'),\n",
    "                                ('text-align', 'left'),\n",
    "                                ('padding', '8px')]},\n",
    "    {'selector': 'td', 'props': [('padding', '8px')]}\n",
    "])\n",
    "\n",
    "display(styled_details)\n",
    "\n",
    "# Final Resume\n",
    "print(\"\\nShape of the DF (rows, columns):\", df.shape)\n",
    "print(f\"Rows: {df.shape[0]}\")\n",
    "print(f\"Columns: {df.shape[1]}\")"
   ],
   "outputs": [
    {
     "data": {
      "text/plain": [
       "<pandas.io.formats.style.Styler at 0x17fcadb50>"
      ],
      "text/html": [
       "<style type=\"text/css\">\n",
       "#T_5116f th {\n",
       "  background-color: #f0f0f0;\n",
       "  color: black;\n",
       "  font-weight: bold;\n",
       "  text-align: left;\n",
       "  padding: 8px;\n",
       "}\n",
       "#T_5116f td {\n",
       "  padding: 8px;\n",
       "}\n",
       "#T_5116f_row0_col0, #T_5116f_row0_col1, #T_5116f_row0_col2, #T_5116f_row0_col3, #T_5116f_row0_col4, #T_5116f_row1_col0, #T_5116f_row1_col1, #T_5116f_row1_col2, #T_5116f_row1_col3, #T_5116f_row1_col4, #T_5116f_row2_col0, #T_5116f_row2_col1, #T_5116f_row2_col2, #T_5116f_row2_col3, #T_5116f_row2_col4, #T_5116f_row3_col0, #T_5116f_row3_col1, #T_5116f_row3_col2, #T_5116f_row3_col3, #T_5116f_row3_col4, #T_5116f_row4_col0, #T_5116f_row4_col1, #T_5116f_row4_col2, #T_5116f_row4_col3, #T_5116f_row4_col4, #T_5116f_row5_col0, #T_5116f_row5_col1, #T_5116f_row5_col2, #T_5116f_row5_col3, #T_5116f_row5_col4, #T_5116f_row6_col0, #T_5116f_row6_col1, #T_5116f_row6_col2, #T_5116f_row6_col3, #T_5116f_row6_col4, #T_5116f_row7_col0, #T_5116f_row7_col1, #T_5116f_row7_col2, #T_5116f_row7_col3, #T_5116f_row7_col4, #T_5116f_row8_col0, #T_5116f_row8_col1, #T_5116f_row8_col2, #T_5116f_row8_col3, #T_5116f_row8_col4, #T_5116f_row9_col0, #T_5116f_row9_col1, #T_5116f_row9_col2, #T_5116f_row9_col3, #T_5116f_row9_col4, #T_5116f_row10_col0, #T_5116f_row10_col1, #T_5116f_row10_col2, #T_5116f_row10_col3, #T_5116f_row10_col4 {\n",
       "  text-align: left;\n",
       "  white-space: pre-wrap;\n",
       "}\n",
       "</style>\n",
       "<table id=\"T_5116f\">\n",
       "  <thead>\n",
       "    <tr>\n",
       "      <th class=\"blank level0\" >&nbsp;</th>\n",
       "      <th id=\"T_5116f_level0_col0\" class=\"col_heading level0 col0\" >Data Type</th>\n",
       "      <th id=\"T_5116f_level0_col1\" class=\"col_heading level0 col1\" >Unique Values</th>\n",
       "      <th id=\"T_5116f_level0_col2\" class=\"col_heading level0 col2\" >Sample Values</th>\n",
       "      <th id=\"T_5116f_level0_col3\" class=\"col_heading level0 col3\" >Missing Values</th>\n",
       "      <th id=\"T_5116f_level0_col4\" class=\"col_heading level0 col4\" >Missing %</th>\n",
       "    </tr>\n",
       "  </thead>\n",
       "  <tbody>\n",
       "    <tr>\n",
       "      <th id=\"T_5116f_level0_row0\" class=\"row_heading level0 row0\" >Date</th>\n",
       "      <td id=\"T_5116f_row0_col0\" class=\"data row0 col0\" >object</td>\n",
       "      <td id=\"T_5116f_row0_col1\" class=\"data row0 col1\" >273</td>\n",
       "      <td id=\"T_5116f_row0_col2\" class=\"data row0 col2\" >['2024-01-01', '2024-01-02', '2024-01-03'] ... (273 unique values)</td>\n",
       "      <td id=\"T_5116f_row0_col3\" class=\"data row0 col3\" >0</td>\n",
       "      <td id=\"T_5116f_row0_col4\" class=\"data row0 col4\" >0.000000</td>\n",
       "    </tr>\n",
       "    <tr>\n",
       "      <th id=\"T_5116f_level0_row1\" class=\"row_heading level0 row1\" >Week</th>\n",
       "      <td id=\"T_5116f_row1_col0\" class=\"data row1 col0\" >int64</td>\n",
       "      <td id=\"T_5116f_row1_col1\" class=\"data row1 col1\" >40</td>\n",
       "      <td id=\"T_5116f_row1_col2\" class=\"data row1 col2\" >[1, 2, 3] ... (40 unique values)</td>\n",
       "      <td id=\"T_5116f_row1_col3\" class=\"data row1 col3\" >0</td>\n",
       "      <td id=\"T_5116f_row1_col4\" class=\"data row1 col4\" >0.000000</td>\n",
       "    </tr>\n",
       "    <tr>\n",
       "      <th id=\"T_5116f_level0_row2\" class=\"row_heading level0 row2\" >Line</th>\n",
       "      <td id=\"T_5116f_row2_col0\" class=\"data row2 col0\" >object</td>\n",
       "      <td id=\"T_5116f_row2_col1\" class=\"data row2 col1\" >23</td>\n",
       "      <td id=\"T_5116f_row2_col2\" class=\"data row2 col2\" >['505', '600', '501'] ... (24 unique values)</td>\n",
       "      <td id=\"T_5116f_row2_col3\" class=\"data row2 col3\" >4</td>\n",
       "      <td id=\"T_5116f_row2_col4\" class=\"data row2 col4\" >0.160000</td>\n",
       "    </tr>\n",
       "    <tr>\n",
       "      <th id=\"T_5116f_level0_row3\" class=\"row_heading level0 row3\" >Time</th>\n",
       "      <td id=\"T_5116f_row3_col0\" class=\"data row3 col0\" >object</td>\n",
       "      <td id=\"T_5116f_row3_col1\" class=\"data row3 col1\" >1174</td>\n",
       "      <td id=\"T_5116f_row3_col2\" class=\"data row3 col2\" >['03:06', '03:53', '04:27'] ... (1174 unique values)</td>\n",
       "      <td id=\"T_5116f_row3_col3\" class=\"data row3 col3\" >0</td>\n",
       "      <td id=\"T_5116f_row3_col4\" class=\"data row3 col4\" >0.000000</td>\n",
       "    </tr>\n",
       "    <tr>\n",
       "      <th id=\"T_5116f_level0_row4\" class=\"row_heading level0 row4\" >Day</th>\n",
       "      <td id=\"T_5116f_row4_col0\" class=\"data row4 col0\" >object</td>\n",
       "      <td id=\"T_5116f_row4_col1\" class=\"data row4 col1\" >7</td>\n",
       "      <td id=\"T_5116f_row4_col2\" class=\"data row4 col2\" >['Monday', 'Tuesday', 'Wednesday'] ... (7 unique values)</td>\n",
       "      <td id=\"T_5116f_row4_col3\" class=\"data row4 col3\" >0</td>\n",
       "      <td id=\"T_5116f_row4_col4\" class=\"data row4 col4\" >0.000000</td>\n",
       "    </tr>\n",
       "    <tr>\n",
       "      <th id=\"T_5116f_level0_row5\" class=\"row_heading level0 row5\" >Location</th>\n",
       "      <td id=\"T_5116f_row5_col0\" class=\"data row5 col0\" >object</td>\n",
       "      <td id=\"T_5116f_row5_col1\" class=\"data row5 col1\" >794</td>\n",
       "      <td id=\"T_5116f_row5_col2\" class=\"data row5 col2\" >['COLLEGE AND GLADSTONE', 'DUNDAS WEST STATION', 'QUEEN AND BATHURST'] ... (794 unique values)</td>\n",
       "      <td id=\"T_5116f_row5_col3\" class=\"data row5 col3\" >0</td>\n",
       "      <td id=\"T_5116f_row5_col4\" class=\"data row5 col4\" >0.000000</td>\n",
       "    </tr>\n",
       "    <tr>\n",
       "      <th id=\"T_5116f_level0_row6\" class=\"row_heading level0 row6\" >Incident</th>\n",
       "      <td id=\"T_5116f_row6_col0\" class=\"data row6 col0\" >object</td>\n",
       "      <td id=\"T_5116f_row6_col1\" class=\"data row6 col1\" >13</td>\n",
       "      <td id=\"T_5116f_row6_col2\" class=\"data row6 col2\" >['Emergency Services', 'Security', 'Diversion'] ... (13 unique values)</td>\n",
       "      <td id=\"T_5116f_row6_col3\" class=\"data row6 col3\" >0</td>\n",
       "      <td id=\"T_5116f_row6_col4\" class=\"data row6 col4\" >0.000000</td>\n",
       "    </tr>\n",
       "    <tr>\n",
       "      <th id=\"T_5116f_level0_row7\" class=\"row_heading level0 row7\" >Min Delay</th>\n",
       "      <td id=\"T_5116f_row7_col0\" class=\"data row7 col0\" >int64</td>\n",
       "      <td id=\"T_5116f_row7_col1\" class=\"data row7 col1\" >182</td>\n",
       "      <td id=\"T_5116f_row7_col2\" class=\"data row7 col2\" >[52, 37, 78] ... (182 unique values)</td>\n",
       "      <td id=\"T_5116f_row7_col3\" class=\"data row7 col3\" >0</td>\n",
       "      <td id=\"T_5116f_row7_col4\" class=\"data row7 col4\" >0.000000</td>\n",
       "    </tr>\n",
       "    <tr>\n",
       "      <th id=\"T_5116f_level0_row8\" class=\"row_heading level0 row8\" >Min Gap</th>\n",
       "      <td id=\"T_5116f_row8_col0\" class=\"data row8 col0\" >int64</td>\n",
       "      <td id=\"T_5116f_row8_col1\" class=\"data row8 col1\" >194</td>\n",
       "      <td id=\"T_5116f_row8_col2\" class=\"data row8 col2\" >[72, 0, 93] ... (194 unique values)</td>\n",
       "      <td id=\"T_5116f_row8_col3\" class=\"data row8 col3\" >0</td>\n",
       "      <td id=\"T_5116f_row8_col4\" class=\"data row8 col4\" >0.000000</td>\n",
       "    </tr>\n",
       "    <tr>\n",
       "      <th id=\"T_5116f_level0_row9\" class=\"row_heading level0 row9\" >Bound</th>\n",
       "      <td id=\"T_5116f_row9_col0\" class=\"data row9 col0\" >object</td>\n",
       "      <td id=\"T_5116f_row9_col1\" class=\"data row9 col1\" >6</td>\n",
       "      <td id=\"T_5116f_row9_col2\" class=\"data row9 col2\" >['E', 'W', 'S'] ... (7 unique values)</td>\n",
       "      <td id=\"T_5116f_row9_col3\" class=\"data row9 col3\" >329</td>\n",
       "      <td id=\"T_5116f_row9_col4\" class=\"data row9 col4\" >13.380000</td>\n",
       "    </tr>\n",
       "    <tr>\n",
       "      <th id=\"T_5116f_level0_row10\" class=\"row_heading level0 row10\" >Vehicle</th>\n",
       "      <td id=\"T_5116f_row10_col0\" class=\"data row10 col0\" >int64</td>\n",
       "      <td id=\"T_5116f_row10_col1\" class=\"data row10 col1\" >419</td>\n",
       "      <td id=\"T_5116f_row10_col2\" class=\"data row10 col2\" >[4461, 4551, 8116] ... (419 unique values)</td>\n",
       "      <td id=\"T_5116f_row10_col3\" class=\"data row10 col3\" >0</td>\n",
       "      <td id=\"T_5116f_row10_col4\" class=\"data row10 col4\" >0.000000</td>\n",
       "    </tr>\n",
       "  </tbody>\n",
       "</table>\n"
      ]
     },
     "metadata": {},
     "output_type": "display_data"
    },
    {
     "name": "stdout",
     "output_type": "stream",
     "text": [
      "\n",
      "Shape of the DF (rows, columns): (2459, 11)\n",
      "Rows: 2459\n",
      "Columns: 11\n"
     ]
    }
   ],
   "execution_count": 6
  },
  {
   "metadata": {},
   "cell_type": "markdown",
   "source": [
    "With this analysis we can notice that we have some NAN values, in two columns Line and bound, they add up to 11% of our data set\n",
    "\n",
    "Also with this table we can notice that there might be an \"id\" value, as the column with more Unique values is Vehicle, and can be Interpreted as something as a \"car plate\"."
   ]
  },
  {
   "metadata": {
    "ExecuteTime": {
     "end_time": "2024-11-25T05:30:01.254423Z",
     "start_time": "2024-11-25T05:30:01.245432Z"
    }
   },
   "cell_type": "code",
   "source": "df.info()",
   "outputs": [
    {
     "name": "stdout",
     "output_type": "stream",
     "text": [
      "<class 'pandas.core.frame.DataFrame'>\n",
      "Index: 2459 entries, 1 to 11072\n",
      "Data columns (total 11 columns):\n",
      " #   Column     Non-Null Count  Dtype \n",
      "---  ------     --------------  ----- \n",
      " 0   Date       2459 non-null   object\n",
      " 1   Week       2459 non-null   int64 \n",
      " 2   Line       2455 non-null   object\n",
      " 3   Time       2459 non-null   object\n",
      " 4   Day        2459 non-null   object\n",
      " 5   Location   2459 non-null   object\n",
      " 6   Incident   2459 non-null   object\n",
      " 7   Min Delay  2459 non-null   int64 \n",
      " 8   Min Gap    2459 non-null   int64 \n",
      " 9   Bound      2130 non-null   object\n",
      " 10  Vehicle    2459 non-null   int64 \n",
      "dtypes: int64(4), object(7)\n",
      "memory usage: 230.5+ KB\n"
     ]
    }
   ],
   "execution_count": 7
  },
  {
   "metadata": {},
   "cell_type": "markdown",
   "source": "With this approach we can see the data type of each of our columns most of them are categorical"
  },
  {
   "metadata": {
    "ExecuteTime": {
     "end_time": "2024-11-25T05:30:01.269457Z",
     "start_time": "2024-11-25T05:30:01.265790Z"
    }
   },
   "cell_type": "code",
   "source": [
    "# Lets work on our missing values\n",
    "\n",
    "# Line has 16 registers with empty values, as it represents less than 1% of our data set it won't harm dropping them\n",
    "df = df.dropna(subset=['Line'])\n",
    "# Location has one empty value, lets drop it\n",
    "df = df.dropna(subset=['Location'])"
   ],
   "outputs": [],
   "execution_count": 8
  },
  {
   "metadata": {
    "ExecuteTime": {
     "end_time": "2024-11-25T05:30:01.305757Z",
     "start_time": "2024-11-25T05:30:01.302787Z"
    }
   },
   "cell_type": "code",
   "source": "df[\"Bound\"].value_counts()",
   "outputs": [
    {
     "data": {
      "text/plain": [
       "Bound\n",
       "E    879\n",
       "W    780\n",
       "N    238\n",
       "S    228\n",
       "B      1\n",
       "8      1\n",
       "Name: count, dtype: int64"
      ]
     },
     "execution_count": 9,
     "metadata": {},
     "output_type": "execute_result"
    }
   ],
   "execution_count": 9
  },
  {
   "metadata": {
    "ExecuteTime": {
     "end_time": "2024-11-25T05:30:01.352609Z",
     "start_time": "2024-11-25T05:30:01.340021Z"
    }
   },
   "cell_type": "code",
   "source": [
    "# looking into the possible of our data in Bound, we can see the Cardinal point, and some \"weird\" values, also we have 1071 empty values representing 11.61% of our data set, if we get rid of them we are losing a los of info, that's why we are creating the category \"other\"\n",
    "df['Bound'] = df['Bound'].replace(['B', '8', np.nan], 'Other')\n",
    "df[\"Bound\"].value_counts()"
   ],
   "outputs": [
    {
     "data": {
      "text/plain": [
       "Bound\n",
       "E        879\n",
       "W        780\n",
       "Other    330\n",
       "N        238\n",
       "S        228\n",
       "Name: count, dtype: int64"
      ]
     },
     "execution_count": 10,
     "metadata": {},
     "output_type": "execute_result"
    }
   ],
   "execution_count": 10
  },
  {
   "metadata": {},
   "cell_type": "markdown",
   "source": "Some the key aspects are now we dont have missing values, and we kept, as much information as possible."
  },
  {
   "metadata": {
    "ExecuteTime": {
     "end_time": "2024-11-25T05:30:01.402818Z",
     "start_time": "2024-11-25T05:30:01.390217Z"
    }
   },
   "cell_type": "code",
   "source": [
    "# Function created for aesthetic, if we have more than 3 values it adds a ...\n",
    "def format_unique_values(values):\n",
    "    if len(values) > 3:\n",
    "        return f\"{list(values[:3])} ... ({len(values)} unique values)\"\n",
    "    return list(values)\n",
    "\n",
    "# This is added for structure\n",
    "summary = {\n",
    "    'Data Type': df.dtypes, # Luego el tipo de dato\n",
    "    'Unique Values': [df[col].nunique() for col in df.columns], # luego el número de valores unicos\n",
    "    'Sample Values': [format_unique_values(df[col].unique()) for col in df.columns], # Usando la función de arriba mostrar algunos valores\n",
    "    'Missing Values': df.isnull().sum(), # Cantidad de valores Faltantes\n",
    "    'Missing %': round(df.isnull().sum() / len(df) * 100,2) # Es la proporción cuantos valores hay faltantes\n",
    "}\n",
    "\n",
    "details = pd.DataFrame(summary)\n",
    "\n",
    "# This part is added to format the final table\n",
    "pd.set_option('display.max_columns', None)\n",
    "pd.set_option('display.max_colwidth', None)\n",
    "pd.set_option('display.width', 1000)\n",
    "styled_details = details.style.set_properties(**{\n",
    "    'text-align': 'left',\n",
    "    'white-space': 'pre-wrap'\n",
    "}).set_table_styles([\n",
    "    {'selector': 'th', 'props': [('background-color', '#f0f0f0'),\n",
    "                                ('color', 'black'),\n",
    "                                ('font-weight', 'bold'),\n",
    "                                ('text-align', 'left'),\n",
    "                                ('padding', '8px')]},\n",
    "    {'selector': 'td', 'props': [('padding', '8px')]}\n",
    "])\n",
    "\n",
    "display(styled_details)\n",
    "\n",
    "# Final Resume\n",
    "print(\"\\nShape of the DF (rows, columns):\", df.shape)\n",
    "print(f\"Rows: {df.shape[0]}\")\n",
    "print(f\"Columns: {df.shape[1]}\")\n"
   ],
   "outputs": [
    {
     "data": {
      "text/plain": [
       "<pandas.io.formats.style.Styler at 0x17fc7e9d0>"
      ],
      "text/html": [
       "<style type=\"text/css\">\n",
       "#T_42e20 th {\n",
       "  background-color: #f0f0f0;\n",
       "  color: black;\n",
       "  font-weight: bold;\n",
       "  text-align: left;\n",
       "  padding: 8px;\n",
       "}\n",
       "#T_42e20 td {\n",
       "  padding: 8px;\n",
       "}\n",
       "#T_42e20_row0_col0, #T_42e20_row0_col1, #T_42e20_row0_col2, #T_42e20_row0_col3, #T_42e20_row0_col4, #T_42e20_row1_col0, #T_42e20_row1_col1, #T_42e20_row1_col2, #T_42e20_row1_col3, #T_42e20_row1_col4, #T_42e20_row2_col0, #T_42e20_row2_col1, #T_42e20_row2_col2, #T_42e20_row2_col3, #T_42e20_row2_col4, #T_42e20_row3_col0, #T_42e20_row3_col1, #T_42e20_row3_col2, #T_42e20_row3_col3, #T_42e20_row3_col4, #T_42e20_row4_col0, #T_42e20_row4_col1, #T_42e20_row4_col2, #T_42e20_row4_col3, #T_42e20_row4_col4, #T_42e20_row5_col0, #T_42e20_row5_col1, #T_42e20_row5_col2, #T_42e20_row5_col3, #T_42e20_row5_col4, #T_42e20_row6_col0, #T_42e20_row6_col1, #T_42e20_row6_col2, #T_42e20_row6_col3, #T_42e20_row6_col4, #T_42e20_row7_col0, #T_42e20_row7_col1, #T_42e20_row7_col2, #T_42e20_row7_col3, #T_42e20_row7_col4, #T_42e20_row8_col0, #T_42e20_row8_col1, #T_42e20_row8_col2, #T_42e20_row8_col3, #T_42e20_row8_col4, #T_42e20_row9_col0, #T_42e20_row9_col1, #T_42e20_row9_col2, #T_42e20_row9_col3, #T_42e20_row9_col4, #T_42e20_row10_col0, #T_42e20_row10_col1, #T_42e20_row10_col2, #T_42e20_row10_col3, #T_42e20_row10_col4 {\n",
       "  text-align: left;\n",
       "  white-space: pre-wrap;\n",
       "}\n",
       "</style>\n",
       "<table id=\"T_42e20\">\n",
       "  <thead>\n",
       "    <tr>\n",
       "      <th class=\"blank level0\" >&nbsp;</th>\n",
       "      <th id=\"T_42e20_level0_col0\" class=\"col_heading level0 col0\" >Data Type</th>\n",
       "      <th id=\"T_42e20_level0_col1\" class=\"col_heading level0 col1\" >Unique Values</th>\n",
       "      <th id=\"T_42e20_level0_col2\" class=\"col_heading level0 col2\" >Sample Values</th>\n",
       "      <th id=\"T_42e20_level0_col3\" class=\"col_heading level0 col3\" >Missing Values</th>\n",
       "      <th id=\"T_42e20_level0_col4\" class=\"col_heading level0 col4\" >Missing %</th>\n",
       "    </tr>\n",
       "  </thead>\n",
       "  <tbody>\n",
       "    <tr>\n",
       "      <th id=\"T_42e20_level0_row0\" class=\"row_heading level0 row0\" >Date</th>\n",
       "      <td id=\"T_42e20_row0_col0\" class=\"data row0 col0\" >object</td>\n",
       "      <td id=\"T_42e20_row0_col1\" class=\"data row0 col1\" >273</td>\n",
       "      <td id=\"T_42e20_row0_col2\" class=\"data row0 col2\" >['2024-01-01', '2024-01-02', '2024-01-03'] ... (273 unique values)</td>\n",
       "      <td id=\"T_42e20_row0_col3\" class=\"data row0 col3\" >0</td>\n",
       "      <td id=\"T_42e20_row0_col4\" class=\"data row0 col4\" >0.000000</td>\n",
       "    </tr>\n",
       "    <tr>\n",
       "      <th id=\"T_42e20_level0_row1\" class=\"row_heading level0 row1\" >Week</th>\n",
       "      <td id=\"T_42e20_row1_col0\" class=\"data row1 col0\" >int64</td>\n",
       "      <td id=\"T_42e20_row1_col1\" class=\"data row1 col1\" >40</td>\n",
       "      <td id=\"T_42e20_row1_col2\" class=\"data row1 col2\" >[1, 2, 3] ... (40 unique values)</td>\n",
       "      <td id=\"T_42e20_row1_col3\" class=\"data row1 col3\" >0</td>\n",
       "      <td id=\"T_42e20_row1_col4\" class=\"data row1 col4\" >0.000000</td>\n",
       "    </tr>\n",
       "    <tr>\n",
       "      <th id=\"T_42e20_level0_row2\" class=\"row_heading level0 row2\" >Line</th>\n",
       "      <td id=\"T_42e20_row2_col0\" class=\"data row2 col0\" >object</td>\n",
       "      <td id=\"T_42e20_row2_col1\" class=\"data row2 col1\" >23</td>\n",
       "      <td id=\"T_42e20_row2_col2\" class=\"data row2 col2\" >['505', '600', '501'] ... (23 unique values)</td>\n",
       "      <td id=\"T_42e20_row2_col3\" class=\"data row2 col3\" >0</td>\n",
       "      <td id=\"T_42e20_row2_col4\" class=\"data row2 col4\" >0.000000</td>\n",
       "    </tr>\n",
       "    <tr>\n",
       "      <th id=\"T_42e20_level0_row3\" class=\"row_heading level0 row3\" >Time</th>\n",
       "      <td id=\"T_42e20_row3_col0\" class=\"data row3 col0\" >object</td>\n",
       "      <td id=\"T_42e20_row3_col1\" class=\"data row3 col1\" >1173</td>\n",
       "      <td id=\"T_42e20_row3_col2\" class=\"data row3 col2\" >['03:06', '03:53', '04:27'] ... (1173 unique values)</td>\n",
       "      <td id=\"T_42e20_row3_col3\" class=\"data row3 col3\" >0</td>\n",
       "      <td id=\"T_42e20_row3_col4\" class=\"data row3 col4\" >0.000000</td>\n",
       "    </tr>\n",
       "    <tr>\n",
       "      <th id=\"T_42e20_level0_row4\" class=\"row_heading level0 row4\" >Day</th>\n",
       "      <td id=\"T_42e20_row4_col0\" class=\"data row4 col0\" >object</td>\n",
       "      <td id=\"T_42e20_row4_col1\" class=\"data row4 col1\" >7</td>\n",
       "      <td id=\"T_42e20_row4_col2\" class=\"data row4 col2\" >['Monday', 'Tuesday', 'Wednesday'] ... (7 unique values)</td>\n",
       "      <td id=\"T_42e20_row4_col3\" class=\"data row4 col3\" >0</td>\n",
       "      <td id=\"T_42e20_row4_col4\" class=\"data row4 col4\" >0.000000</td>\n",
       "    </tr>\n",
       "    <tr>\n",
       "      <th id=\"T_42e20_level0_row5\" class=\"row_heading level0 row5\" >Location</th>\n",
       "      <td id=\"T_42e20_row5_col0\" class=\"data row5 col0\" >object</td>\n",
       "      <td id=\"T_42e20_row5_col1\" class=\"data row5 col1\" >793</td>\n",
       "      <td id=\"T_42e20_row5_col2\" class=\"data row5 col2\" >['COLLEGE AND GLADSTONE', 'DUNDAS WEST STATION', 'QUEEN AND BATHURST'] ... (793 unique values)</td>\n",
       "      <td id=\"T_42e20_row5_col3\" class=\"data row5 col3\" >0</td>\n",
       "      <td id=\"T_42e20_row5_col4\" class=\"data row5 col4\" >0.000000</td>\n",
       "    </tr>\n",
       "    <tr>\n",
       "      <th id=\"T_42e20_level0_row6\" class=\"row_heading level0 row6\" >Incident</th>\n",
       "      <td id=\"T_42e20_row6_col0\" class=\"data row6 col0\" >object</td>\n",
       "      <td id=\"T_42e20_row6_col1\" class=\"data row6 col1\" >13</td>\n",
       "      <td id=\"T_42e20_row6_col2\" class=\"data row6 col2\" >['Emergency Services', 'Security', 'Diversion'] ... (13 unique values)</td>\n",
       "      <td id=\"T_42e20_row6_col3\" class=\"data row6 col3\" >0</td>\n",
       "      <td id=\"T_42e20_row6_col4\" class=\"data row6 col4\" >0.000000</td>\n",
       "    </tr>\n",
       "    <tr>\n",
       "      <th id=\"T_42e20_level0_row7\" class=\"row_heading level0 row7\" >Min Delay</th>\n",
       "      <td id=\"T_42e20_row7_col0\" class=\"data row7 col0\" >int64</td>\n",
       "      <td id=\"T_42e20_row7_col1\" class=\"data row7 col1\" >182</td>\n",
       "      <td id=\"T_42e20_row7_col2\" class=\"data row7 col2\" >[52, 37, 78] ... (182 unique values)</td>\n",
       "      <td id=\"T_42e20_row7_col3\" class=\"data row7 col3\" >0</td>\n",
       "      <td id=\"T_42e20_row7_col4\" class=\"data row7 col4\" >0.000000</td>\n",
       "    </tr>\n",
       "    <tr>\n",
       "      <th id=\"T_42e20_level0_row8\" class=\"row_heading level0 row8\" >Min Gap</th>\n",
       "      <td id=\"T_42e20_row8_col0\" class=\"data row8 col0\" >int64</td>\n",
       "      <td id=\"T_42e20_row8_col1\" class=\"data row8 col1\" >194</td>\n",
       "      <td id=\"T_42e20_row8_col2\" class=\"data row8 col2\" >[72, 0, 93] ... (194 unique values)</td>\n",
       "      <td id=\"T_42e20_row8_col3\" class=\"data row8 col3\" >0</td>\n",
       "      <td id=\"T_42e20_row8_col4\" class=\"data row8 col4\" >0.000000</td>\n",
       "    </tr>\n",
       "    <tr>\n",
       "      <th id=\"T_42e20_level0_row9\" class=\"row_heading level0 row9\" >Bound</th>\n",
       "      <td id=\"T_42e20_row9_col0\" class=\"data row9 col0\" >object</td>\n",
       "      <td id=\"T_42e20_row9_col1\" class=\"data row9 col1\" >5</td>\n",
       "      <td id=\"T_42e20_row9_col2\" class=\"data row9 col2\" >['E', 'W', 'S'] ... (5 unique values)</td>\n",
       "      <td id=\"T_42e20_row9_col3\" class=\"data row9 col3\" >0</td>\n",
       "      <td id=\"T_42e20_row9_col4\" class=\"data row9 col4\" >0.000000</td>\n",
       "    </tr>\n",
       "    <tr>\n",
       "      <th id=\"T_42e20_level0_row10\" class=\"row_heading level0 row10\" >Vehicle</th>\n",
       "      <td id=\"T_42e20_row10_col0\" class=\"data row10 col0\" >int64</td>\n",
       "      <td id=\"T_42e20_row10_col1\" class=\"data row10 col1\" >418</td>\n",
       "      <td id=\"T_42e20_row10_col2\" class=\"data row10 col2\" >[4461, 4551, 8116] ... (418 unique values)</td>\n",
       "      <td id=\"T_42e20_row10_col3\" class=\"data row10 col3\" >0</td>\n",
       "      <td id=\"T_42e20_row10_col4\" class=\"data row10 col4\" >0.000000</td>\n",
       "    </tr>\n",
       "  </tbody>\n",
       "</table>\n"
      ]
     },
     "metadata": {},
     "output_type": "display_data"
    },
    {
     "name": "stdout",
     "output_type": "stream",
     "text": [
      "\n",
      "Shape of the DF (rows, columns): (2455, 11)\n",
      "Rows: 2455\n",
      "Columns: 11\n"
     ]
    }
   ],
   "execution_count": 11
  },
  {
   "metadata": {},
   "cell_type": "markdown",
   "source": "We removed 17 values from the original data set, and joined some categorical features for the moment."
  },
  {
   "metadata": {
    "ExecuteTime": {
     "end_time": "2024-11-25T05:30:01.446317Z",
     "start_time": "2024-11-25T05:30:01.437885Z"
    }
   },
   "cell_type": "code",
   "source": [
    "# Let's clean and prepare the information\n",
    "\n",
    "# time is a categorical feature, but it can be represented on a scale from 0-1440 (0-24 hours in minutes)\n",
    "df['Time'] = pd.to_datetime(df['Time'], format='%H:%M').dt.hour * 60 + pd.to_datetime(df['Time'], format='%H:%M').dt.minute"
   ],
   "outputs": [],
   "execution_count": 12
  },
  {
   "metadata": {
    "ExecuteTime": {
     "end_time": "2024-11-25T05:30:01.495524Z",
     "start_time": "2024-11-25T05:30:01.489974Z"
    }
   },
   "cell_type": "code",
   "source": [
    "# Let's make the date \"more understandable\"\n",
    "df['Date'] = pd.to_datetime(df['Date'])\n",
    "df['Year'] = df['Date'].dt.year\n",
    "df['Month'] = df['Date'].dt.month\n",
    "df['Day'] = df['Date'].dt.day\n",
    "df.drop(\"Date\", axis=1, inplace=True) # as we extracted what we needed we can get rid of this column"
   ],
   "outputs": [],
   "execution_count": 13
  },
  {
   "metadata": {
    "ExecuteTime": {
     "end_time": "2024-11-25T05:30:01.531233Z",
     "start_time": "2024-11-25T05:30:01.519230Z"
    }
   },
   "cell_type": "code",
   "source": [
    "# Function created for aesthetic, if we have more than 3 values it adds a ...\n",
    "def format_unique_values(values):\n",
    "    if len(values) > 3:\n",
    "        return f\"{list(values[:3])} ... ({len(values)} unique values)\"\n",
    "    return list(values)\n",
    "\n",
    "# This is added for structure\n",
    "summary = {\n",
    "    'Data Type': df.dtypes, # Luego el tipo de dato\n",
    "    'Unique Values': [df[col].nunique() for col in df.columns], # luego el número de valores unicos\n",
    "    'Sample Values': [format_unique_values(df[col].unique()) for col in df.columns], # Usando la función de arriba mostrar algunos valores\n",
    "    'Missing Values': df.isnull().sum(), # Cantidad de valores Faltantes\n",
    "    'Missing %': round(df.isnull().sum() / len(df) * 100,2) # Es la proporción cuantos valores hay faltantes\n",
    "}\n",
    "\n",
    "details = pd.DataFrame(summary)\n",
    "\n",
    "# This part is added to format the final table\n",
    "pd.set_option('display.max_columns', None)\n",
    "pd.set_option('display.max_colwidth', None)\n",
    "pd.set_option('display.width', 1000)\n",
    "styled_details = details.style.set_properties(**{\n",
    "    'text-align': 'left',\n",
    "    'white-space': 'pre-wrap'\n",
    "}).set_table_styles([\n",
    "    {'selector': 'th', 'props': [('background-color', '#f0f0f0'),\n",
    "                                ('color', 'black'),\n",
    "                                ('font-weight', 'bold'),\n",
    "                                ('text-align', 'left'),\n",
    "                                ('padding', '8px')]},\n",
    "    {'selector': 'td', 'props': [('padding', '8px')]}\n",
    "])\n",
    "\n",
    "display(styled_details)\n",
    "\n",
    "# Final Resume\n",
    "print(\"\\nShape of the DF (rows, columns):\", df.shape)\n",
    "print(f\"Rows: {df.shape[0]}\")\n",
    "print(f\"Columns: {df.shape[1]}\")"
   ],
   "outputs": [
    {
     "data": {
      "text/plain": [
       "<pandas.io.formats.style.Styler at 0x3014ff9d0>"
      ],
      "text/html": [
       "<style type=\"text/css\">\n",
       "#T_54749 th {\n",
       "  background-color: #f0f0f0;\n",
       "  color: black;\n",
       "  font-weight: bold;\n",
       "  text-align: left;\n",
       "  padding: 8px;\n",
       "}\n",
       "#T_54749 td {\n",
       "  padding: 8px;\n",
       "}\n",
       "#T_54749_row0_col0, #T_54749_row0_col1, #T_54749_row0_col2, #T_54749_row0_col3, #T_54749_row0_col4, #T_54749_row1_col0, #T_54749_row1_col1, #T_54749_row1_col2, #T_54749_row1_col3, #T_54749_row1_col4, #T_54749_row2_col0, #T_54749_row2_col1, #T_54749_row2_col2, #T_54749_row2_col3, #T_54749_row2_col4, #T_54749_row3_col0, #T_54749_row3_col1, #T_54749_row3_col2, #T_54749_row3_col3, #T_54749_row3_col4, #T_54749_row4_col0, #T_54749_row4_col1, #T_54749_row4_col2, #T_54749_row4_col3, #T_54749_row4_col4, #T_54749_row5_col0, #T_54749_row5_col1, #T_54749_row5_col2, #T_54749_row5_col3, #T_54749_row5_col4, #T_54749_row6_col0, #T_54749_row6_col1, #T_54749_row6_col2, #T_54749_row6_col3, #T_54749_row6_col4, #T_54749_row7_col0, #T_54749_row7_col1, #T_54749_row7_col2, #T_54749_row7_col3, #T_54749_row7_col4, #T_54749_row8_col0, #T_54749_row8_col1, #T_54749_row8_col2, #T_54749_row8_col3, #T_54749_row8_col4, #T_54749_row9_col0, #T_54749_row9_col1, #T_54749_row9_col2, #T_54749_row9_col3, #T_54749_row9_col4, #T_54749_row10_col0, #T_54749_row10_col1, #T_54749_row10_col2, #T_54749_row10_col3, #T_54749_row10_col4, #T_54749_row11_col0, #T_54749_row11_col1, #T_54749_row11_col2, #T_54749_row11_col3, #T_54749_row11_col4 {\n",
       "  text-align: left;\n",
       "  white-space: pre-wrap;\n",
       "}\n",
       "</style>\n",
       "<table id=\"T_54749\">\n",
       "  <thead>\n",
       "    <tr>\n",
       "      <th class=\"blank level0\" >&nbsp;</th>\n",
       "      <th id=\"T_54749_level0_col0\" class=\"col_heading level0 col0\" >Data Type</th>\n",
       "      <th id=\"T_54749_level0_col1\" class=\"col_heading level0 col1\" >Unique Values</th>\n",
       "      <th id=\"T_54749_level0_col2\" class=\"col_heading level0 col2\" >Sample Values</th>\n",
       "      <th id=\"T_54749_level0_col3\" class=\"col_heading level0 col3\" >Missing Values</th>\n",
       "      <th id=\"T_54749_level0_col4\" class=\"col_heading level0 col4\" >Missing %</th>\n",
       "    </tr>\n",
       "  </thead>\n",
       "  <tbody>\n",
       "    <tr>\n",
       "      <th id=\"T_54749_level0_row0\" class=\"row_heading level0 row0\" >Week</th>\n",
       "      <td id=\"T_54749_row0_col0\" class=\"data row0 col0\" >int64</td>\n",
       "      <td id=\"T_54749_row0_col1\" class=\"data row0 col1\" >40</td>\n",
       "      <td id=\"T_54749_row0_col2\" class=\"data row0 col2\" >[1, 2, 3] ... (40 unique values)</td>\n",
       "      <td id=\"T_54749_row0_col3\" class=\"data row0 col3\" >0</td>\n",
       "      <td id=\"T_54749_row0_col4\" class=\"data row0 col4\" >0.000000</td>\n",
       "    </tr>\n",
       "    <tr>\n",
       "      <th id=\"T_54749_level0_row1\" class=\"row_heading level0 row1\" >Line</th>\n",
       "      <td id=\"T_54749_row1_col0\" class=\"data row1 col0\" >object</td>\n",
       "      <td id=\"T_54749_row1_col1\" class=\"data row1 col1\" >23</td>\n",
       "      <td id=\"T_54749_row1_col2\" class=\"data row1 col2\" >['505', '600', '501'] ... (23 unique values)</td>\n",
       "      <td id=\"T_54749_row1_col3\" class=\"data row1 col3\" >0</td>\n",
       "      <td id=\"T_54749_row1_col4\" class=\"data row1 col4\" >0.000000</td>\n",
       "    </tr>\n",
       "    <tr>\n",
       "      <th id=\"T_54749_level0_row2\" class=\"row_heading level0 row2\" >Time</th>\n",
       "      <td id=\"T_54749_row2_col0\" class=\"data row2 col0\" >int32</td>\n",
       "      <td id=\"T_54749_row2_col1\" class=\"data row2 col1\" >1173</td>\n",
       "      <td id=\"T_54749_row2_col2\" class=\"data row2 col2\" >[186, 233, 267] ... (1173 unique values)</td>\n",
       "      <td id=\"T_54749_row2_col3\" class=\"data row2 col3\" >0</td>\n",
       "      <td id=\"T_54749_row2_col4\" class=\"data row2 col4\" >0.000000</td>\n",
       "    </tr>\n",
       "    <tr>\n",
       "      <th id=\"T_54749_level0_row3\" class=\"row_heading level0 row3\" >Day</th>\n",
       "      <td id=\"T_54749_row3_col0\" class=\"data row3 col0\" >int32</td>\n",
       "      <td id=\"T_54749_row3_col1\" class=\"data row3 col1\" >31</td>\n",
       "      <td id=\"T_54749_row3_col2\" class=\"data row3 col2\" >[1, 2, 3] ... (31 unique values)</td>\n",
       "      <td id=\"T_54749_row3_col3\" class=\"data row3 col3\" >0</td>\n",
       "      <td id=\"T_54749_row3_col4\" class=\"data row3 col4\" >0.000000</td>\n",
       "    </tr>\n",
       "    <tr>\n",
       "      <th id=\"T_54749_level0_row4\" class=\"row_heading level0 row4\" >Location</th>\n",
       "      <td id=\"T_54749_row4_col0\" class=\"data row4 col0\" >object</td>\n",
       "      <td id=\"T_54749_row4_col1\" class=\"data row4 col1\" >793</td>\n",
       "      <td id=\"T_54749_row4_col2\" class=\"data row4 col2\" >['COLLEGE AND GLADSTONE', 'DUNDAS WEST STATION', 'QUEEN AND BATHURST'] ... (793 unique values)</td>\n",
       "      <td id=\"T_54749_row4_col3\" class=\"data row4 col3\" >0</td>\n",
       "      <td id=\"T_54749_row4_col4\" class=\"data row4 col4\" >0.000000</td>\n",
       "    </tr>\n",
       "    <tr>\n",
       "      <th id=\"T_54749_level0_row5\" class=\"row_heading level0 row5\" >Incident</th>\n",
       "      <td id=\"T_54749_row5_col0\" class=\"data row5 col0\" >object</td>\n",
       "      <td id=\"T_54749_row5_col1\" class=\"data row5 col1\" >13</td>\n",
       "      <td id=\"T_54749_row5_col2\" class=\"data row5 col2\" >['Emergency Services', 'Security', 'Diversion'] ... (13 unique values)</td>\n",
       "      <td id=\"T_54749_row5_col3\" class=\"data row5 col3\" >0</td>\n",
       "      <td id=\"T_54749_row5_col4\" class=\"data row5 col4\" >0.000000</td>\n",
       "    </tr>\n",
       "    <tr>\n",
       "      <th id=\"T_54749_level0_row6\" class=\"row_heading level0 row6\" >Min Delay</th>\n",
       "      <td id=\"T_54749_row6_col0\" class=\"data row6 col0\" >int64</td>\n",
       "      <td id=\"T_54749_row6_col1\" class=\"data row6 col1\" >182</td>\n",
       "      <td id=\"T_54749_row6_col2\" class=\"data row6 col2\" >[52, 37, 78] ... (182 unique values)</td>\n",
       "      <td id=\"T_54749_row6_col3\" class=\"data row6 col3\" >0</td>\n",
       "      <td id=\"T_54749_row6_col4\" class=\"data row6 col4\" >0.000000</td>\n",
       "    </tr>\n",
       "    <tr>\n",
       "      <th id=\"T_54749_level0_row7\" class=\"row_heading level0 row7\" >Min Gap</th>\n",
       "      <td id=\"T_54749_row7_col0\" class=\"data row7 col0\" >int64</td>\n",
       "      <td id=\"T_54749_row7_col1\" class=\"data row7 col1\" >194</td>\n",
       "      <td id=\"T_54749_row7_col2\" class=\"data row7 col2\" >[72, 0, 93] ... (194 unique values)</td>\n",
       "      <td id=\"T_54749_row7_col3\" class=\"data row7 col3\" >0</td>\n",
       "      <td id=\"T_54749_row7_col4\" class=\"data row7 col4\" >0.000000</td>\n",
       "    </tr>\n",
       "    <tr>\n",
       "      <th id=\"T_54749_level0_row8\" class=\"row_heading level0 row8\" >Bound</th>\n",
       "      <td id=\"T_54749_row8_col0\" class=\"data row8 col0\" >object</td>\n",
       "      <td id=\"T_54749_row8_col1\" class=\"data row8 col1\" >5</td>\n",
       "      <td id=\"T_54749_row8_col2\" class=\"data row8 col2\" >['E', 'W', 'S'] ... (5 unique values)</td>\n",
       "      <td id=\"T_54749_row8_col3\" class=\"data row8 col3\" >0</td>\n",
       "      <td id=\"T_54749_row8_col4\" class=\"data row8 col4\" >0.000000</td>\n",
       "    </tr>\n",
       "    <tr>\n",
       "      <th id=\"T_54749_level0_row9\" class=\"row_heading level0 row9\" >Vehicle</th>\n",
       "      <td id=\"T_54749_row9_col0\" class=\"data row9 col0\" >int64</td>\n",
       "      <td id=\"T_54749_row9_col1\" class=\"data row9 col1\" >418</td>\n",
       "      <td id=\"T_54749_row9_col2\" class=\"data row9 col2\" >[4461, 4551, 8116] ... (418 unique values)</td>\n",
       "      <td id=\"T_54749_row9_col3\" class=\"data row9 col3\" >0</td>\n",
       "      <td id=\"T_54749_row9_col4\" class=\"data row9 col4\" >0.000000</td>\n",
       "    </tr>\n",
       "    <tr>\n",
       "      <th id=\"T_54749_level0_row10\" class=\"row_heading level0 row10\" >Year</th>\n",
       "      <td id=\"T_54749_row10_col0\" class=\"data row10 col0\" >int32</td>\n",
       "      <td id=\"T_54749_row10_col1\" class=\"data row10 col1\" >1</td>\n",
       "      <td id=\"T_54749_row10_col2\" class=\"data row10 col2\" >[2024]</td>\n",
       "      <td id=\"T_54749_row10_col3\" class=\"data row10 col3\" >0</td>\n",
       "      <td id=\"T_54749_row10_col4\" class=\"data row10 col4\" >0.000000</td>\n",
       "    </tr>\n",
       "    <tr>\n",
       "      <th id=\"T_54749_level0_row11\" class=\"row_heading level0 row11\" >Month</th>\n",
       "      <td id=\"T_54749_row11_col0\" class=\"data row11 col0\" >int32</td>\n",
       "      <td id=\"T_54749_row11_col1\" class=\"data row11 col1\" >9</td>\n",
       "      <td id=\"T_54749_row11_col2\" class=\"data row11 col2\" >[1, 2, 3] ... (9 unique values)</td>\n",
       "      <td id=\"T_54749_row11_col3\" class=\"data row11 col3\" >0</td>\n",
       "      <td id=\"T_54749_row11_col4\" class=\"data row11 col4\" >0.000000</td>\n",
       "    </tr>\n",
       "  </tbody>\n",
       "</table>\n"
      ]
     },
     "metadata": {},
     "output_type": "display_data"
    },
    {
     "name": "stdout",
     "output_type": "stream",
     "text": [
      "\n",
      "Shape of the DF (rows, columns): (2455, 12)\n",
      "Rows: 2455\n",
      "Columns: 12\n"
     ]
    }
   ],
   "execution_count": 14
  },
  {
   "metadata": {
    "ExecuteTime": {
     "end_time": "2024-11-25T05:30:01.567043Z",
     "start_time": "2024-11-25T05:30:01.564566Z"
    }
   },
   "cell_type": "code",
   "source": [
    "# As year is a \"constant\" we can drop it\n",
    "df.drop(\"Year\", axis=1, inplace=True)"
   ],
   "outputs": [],
   "execution_count": 15
  },
  {
   "metadata": {
    "ExecuteTime": {
     "end_time": "2024-11-25T05:30:01.588471Z",
     "start_time": "2024-11-25T05:30:01.578400Z"
    }
   },
   "cell_type": "code",
   "source": "df.describe().T",
   "outputs": [
    {
     "data": {
      "text/plain": [
       "            count         mean          std   min     25%     50%     75%     max\n",
       "Week       2455.0    20.279837    11.519141   1.0    10.0    20.0    31.0    40.0\n",
       "Time       2455.0   742.964969   424.935427   0.0   341.0   778.0  1103.0  1439.0\n",
       "Day        2455.0    15.505906     8.816375   1.0     8.0    15.0    23.0    31.0\n",
       "Min Delay  2455.0    45.578819    59.109545  15.0    20.0    30.0    48.0   873.0\n",
       "Min Gap    2455.0    55.787373    59.781131   0.0    30.0    40.0    60.0   883.0\n",
       "Vehicle    2455.0  4643.459470  1383.710092   0.0  4452.0  4515.0  4575.0  8872.0\n",
       "Month      2455.0     5.062322     2.625456   1.0     3.0     5.0     7.0     9.0"
      ],
      "text/html": [
       "<div>\n",
       "<style scoped>\n",
       "    .dataframe tbody tr th:only-of-type {\n",
       "        vertical-align: middle;\n",
       "    }\n",
       "\n",
       "    .dataframe tbody tr th {\n",
       "        vertical-align: top;\n",
       "    }\n",
       "\n",
       "    .dataframe thead th {\n",
       "        text-align: right;\n",
       "    }\n",
       "</style>\n",
       "<table border=\"1\" class=\"dataframe\">\n",
       "  <thead>\n",
       "    <tr style=\"text-align: right;\">\n",
       "      <th></th>\n",
       "      <th>count</th>\n",
       "      <th>mean</th>\n",
       "      <th>std</th>\n",
       "      <th>min</th>\n",
       "      <th>25%</th>\n",
       "      <th>50%</th>\n",
       "      <th>75%</th>\n",
       "      <th>max</th>\n",
       "    </tr>\n",
       "  </thead>\n",
       "  <tbody>\n",
       "    <tr>\n",
       "      <th>Week</th>\n",
       "      <td>2455.0</td>\n",
       "      <td>20.279837</td>\n",
       "      <td>11.519141</td>\n",
       "      <td>1.0</td>\n",
       "      <td>10.0</td>\n",
       "      <td>20.0</td>\n",
       "      <td>31.0</td>\n",
       "      <td>40.0</td>\n",
       "    </tr>\n",
       "    <tr>\n",
       "      <th>Time</th>\n",
       "      <td>2455.0</td>\n",
       "      <td>742.964969</td>\n",
       "      <td>424.935427</td>\n",
       "      <td>0.0</td>\n",
       "      <td>341.0</td>\n",
       "      <td>778.0</td>\n",
       "      <td>1103.0</td>\n",
       "      <td>1439.0</td>\n",
       "    </tr>\n",
       "    <tr>\n",
       "      <th>Day</th>\n",
       "      <td>2455.0</td>\n",
       "      <td>15.505906</td>\n",
       "      <td>8.816375</td>\n",
       "      <td>1.0</td>\n",
       "      <td>8.0</td>\n",
       "      <td>15.0</td>\n",
       "      <td>23.0</td>\n",
       "      <td>31.0</td>\n",
       "    </tr>\n",
       "    <tr>\n",
       "      <th>Min Delay</th>\n",
       "      <td>2455.0</td>\n",
       "      <td>45.578819</td>\n",
       "      <td>59.109545</td>\n",
       "      <td>15.0</td>\n",
       "      <td>20.0</td>\n",
       "      <td>30.0</td>\n",
       "      <td>48.0</td>\n",
       "      <td>873.0</td>\n",
       "    </tr>\n",
       "    <tr>\n",
       "      <th>Min Gap</th>\n",
       "      <td>2455.0</td>\n",
       "      <td>55.787373</td>\n",
       "      <td>59.781131</td>\n",
       "      <td>0.0</td>\n",
       "      <td>30.0</td>\n",
       "      <td>40.0</td>\n",
       "      <td>60.0</td>\n",
       "      <td>883.0</td>\n",
       "    </tr>\n",
       "    <tr>\n",
       "      <th>Vehicle</th>\n",
       "      <td>2455.0</td>\n",
       "      <td>4643.459470</td>\n",
       "      <td>1383.710092</td>\n",
       "      <td>0.0</td>\n",
       "      <td>4452.0</td>\n",
       "      <td>4515.0</td>\n",
       "      <td>4575.0</td>\n",
       "      <td>8872.0</td>\n",
       "    </tr>\n",
       "    <tr>\n",
       "      <th>Month</th>\n",
       "      <td>2455.0</td>\n",
       "      <td>5.062322</td>\n",
       "      <td>2.625456</td>\n",
       "      <td>1.0</td>\n",
       "      <td>3.0</td>\n",
       "      <td>5.0</td>\n",
       "      <td>7.0</td>\n",
       "      <td>9.0</td>\n",
       "    </tr>\n",
       "  </tbody>\n",
       "</table>\n",
       "</div>"
      ]
     },
     "execution_count": 16,
     "metadata": {},
     "output_type": "execute_result"
    }
   ],
   "execution_count": 16
  },
  {
   "metadata": {},
   "cell_type": "markdown",
   "source": [
    "Our numerical data can be described and understood in this table something to be careful if the difference between the mean and the max value\n",
    "\n",
    "It is very untypical in Min Gap and in Min Delay.\n",
    "\n",
    "Also Vehicle is a categorical feature so it will be used that way"
   ]
  },
  {
   "metadata": {
    "ExecuteTime": {
     "end_time": "2024-11-25T05:30:01.707902Z",
     "start_time": "2024-11-25T05:30:01.617368Z"
    }
   },
   "cell_type": "code",
   "source": "sns.boxplot(data = df, y = \"Min Delay\")",
   "outputs": [
    {
     "data": {
      "text/plain": [
       "<Axes: ylabel='Min Delay'>"
      ]
     },
     "execution_count": 17,
     "metadata": {},
     "output_type": "execute_result"
    },
    {
     "data": {
      "text/plain": [
       "<Figure size 640x480 with 1 Axes>"
      ],
      "image/png": "[encoded data removed]"
     },
     "metadata": {},
     "output_type": "display_data"
    }
   ],
   "execution_count": 17
  },
  {
   "metadata": {},
   "cell_type": "markdown",
   "source": "Our variable to ve predicted is the Min Delay, so we need to \"remove\" the outiers in order to have a more accurate model"
  },
  {
   "metadata": {
    "ExecuteTime": {
     "end_time": "2024-11-25T05:30:01.843313Z",
     "start_time": "2024-11-25T05:30:01.735012Z"
    }
   },
   "cell_type": "code",
   "source": [
    "import pandas as pd\n",
    "import numpy as np\n",
    "import seaborn as sns\n",
    "import matplotlib.pyplot as plt\n",
    "\n",
    "def remove_outliers_iqr(df, column, k=1.5):\n",
    "    Q1 = df[column].quantile(0.25)\n",
    "    Q3 = df[column].quantile(0.75)\n",
    "    IQR = Q3 - Q1\n",
    "    lower_bound = Q1 - k * IQR\n",
    "    upper_bound = Q3 + k * IQR\n",
    "    return df[(df[column] >= lower_bound) & (df[column] <= upper_bound)]\n",
    "\n",
    "# Remove outliers\n",
    "df_clean = remove_outliers_iqr(df, 'Min Delay')\n",
    "\n",
    "# Create a cleaner visualization\n",
    "plt.figure(figsize=(10, 6))\n",
    "sns.boxplot(data=df_clean, y='Min Delay', color='skyblue', showfliers=False)\n",
    "\n",
    "# Customize the plot\n",
    "plt.title('Distribution of Min Delay (Outliers Removed)', pad=15)\n",
    "plt.ylabel('Min Delay')\n",
    "\n",
    "# Clean up the plot\n",
    "plt.grid(False)\n",
    "plt.gca().spines['top'].set_visible(False)\n",
    "plt.gca().spines['right'].set_visible(False)\n",
    "\n",
    "# Use a clean background style\n",
    "plt.style.use('seaborn-darkgrid')\n",
    "\n",
    "plt.tight_layout()\n",
    "plt.show()"
   ],
   "outputs": [
    {
     "name": "stderr",
     "output_type": "stream",
     "text": [
      "/var/folders/nz/ntbk00f557jfbvm0fp_h8yyh0000gn/T/ipykernel_15371/2320036977.py:31: MatplotlibDeprecationWarning: The seaborn styles shipped by Matplotlib are deprecated since 3.6, as they no longer correspond to the styles shipped by seaborn. However, they will remain available as 'seaborn-v0_8-<style>'. Alternatively, directly use the seaborn API instead.\n",
      "  plt.style.use('seaborn-darkgrid')\n"
     ]
    },
    {
     "data": {
      "text/plain": [
       "<Figure size 1000x600 with 1 Axes>"
      ],
      "image/png": "[encoded data removed]"
     },
     "metadata": {},
     "output_type": "display_data"
    }
   ],
   "execution_count": 18
  },
  {
   "metadata": {
    "ExecuteTime": {
     "end_time": "2024-11-25T05:30:01.847469Z",
     "start_time": "2024-11-25T05:30:01.846016Z"
    }
   },
   "cell_type": "code",
   "source": "df= df_clean",
   "outputs": [],
   "execution_count": 19
  },
  {
   "metadata": {
    "ExecuteTime": {
     "end_time": "2024-11-25T05:30:01.866459Z",
     "start_time": "2024-11-25T05:30:01.863858Z"
    }
   },
   "cell_type": "code",
   "source": "df.columns",
   "outputs": [
    {
     "data": {
      "text/plain": [
       "Index(['Week', 'Line', 'Time', 'Day', 'Location', 'Incident', 'Min Delay', 'Min Gap', 'Bound', 'Vehicle', 'Month'], dtype='object')"
      ]
     },
     "execution_count": 20,
     "metadata": {},
     "output_type": "execute_result"
    }
   ],
   "execution_count": 20
  },
  {
   "metadata": {
    "ExecuteTime": {
     "end_time": "2024-11-25T05:30:02.260620Z",
     "start_time": "2024-11-25T05:30:01.869032Z"
    }
   },
   "cell_type": "code",
   "source": [
    "graficar_num = ['Week', 'Day', 'Time', 'Min Delay', 'Min Gap', 'Month']\n",
    "plt.figure(figsize=(20, 6))\n",
    "\n",
    "for idx, feature in enumerate(graficar_num, 1):\n",
    "    plt.subplot(1, 6, idx)\n",
    "    sns.boxplot(data=df, y=feature)\n",
    "    plt.title(f'{feature} Box plot', pad=20)\n",
    "    plt.xlabel(feature)\n",
    "    plt.ylabel('Count')\n",
    "\n",
    "plt.tight_layout()\n",
    "plt.show()"
   ],
   "outputs": [
    {
     "data": {
      "text/plain": [
       "<Figure size 2000x600 with 6 Axes>"
      ],
      "image/png": "[encoded data removed]"
     },
     "metadata": {},
     "output_type": "display_data"
    }
   ],
   "execution_count": 21
  },
  {
   "metadata": {},
   "cell_type": "markdown",
   "source": " as we look at the graphs above there is some work to do, the Min Delay and Min Gap Box plot show a lot of outliers"
  },
  {
   "metadata": {
    "ExecuteTime": {
     "end_time": "2024-11-25T05:30:02.639347Z",
     "start_time": "2024-11-25T05:30:02.274615Z"
    }
   },
   "cell_type": "code",
   "source": [
    "# Now let's analyze Categorical Features\n",
    "\n",
    "cat = ['Line', 'Incident','Bound']\n",
    "plt.figure(figsize=(20, 6))\n",
    "\n",
    "for idx, feature in enumerate(cat, 1):\n",
    "    plt.subplot(1, 3, idx)\n",
    "    sns.histplot(data=df, y=feature)\n",
    "    plt.title(f'{feature} Box plot', pad=20)\n",
    "    plt.xlabel(feature)\n",
    "    plt.ylabel('Count')\n",
    "\n",
    "plt.tight_layout()\n",
    "plt.show()\n"
   ],
   "outputs": [
    {
     "data": {
      "text/plain": [
       "<Figure size 2000x600 with 3 Axes>"
      ],
      "image/png": "[encoded data removed]"
     },
     "metadata": {},
     "output_type": "display_data"
    }
   ],
   "execution_count": 22
  },
  {
   "metadata": {},
   "cell_type": "markdown",
   "source": "When we select those columns with less than 100 \"unique\" values we can see that the is an interesting concentration of values on specific lines, an even in the incident causes, also the direction has values that \"concentrate\" in certain areas"
  },
  {
   "metadata": {
    "ExecuteTime": {
     "end_time": "2024-11-25T05:30:02.651479Z",
     "start_time": "2024-11-25T05:30:02.648917Z"
    }
   },
   "cell_type": "code",
   "source": "df[(\"Vehicle\")].value_counts()",
   "outputs": [
    {
     "data": {
      "text/plain": [
       "Vehicle\n",
       "0       73\n",
       "4531    19\n",
       "4423    19\n",
       "4488    18\n",
       "4431    18\n",
       "        ..\n",
       "8629     1\n",
       "7044     1\n",
       "8219     1\n",
       "8082     1\n",
       "8334     1\n",
       "Name: count, Length: 397, dtype: int64"
      ]
     },
     "execution_count": 23,
     "metadata": {},
     "output_type": "execute_result"
    }
   ],
   "execution_count": 23
  },
  {
   "metadata": {
    "ExecuteTime": {
     "end_time": "2024-11-25T05:30:02.735862Z",
     "start_time": "2024-11-25T05:30:02.732689Z"
    }
   },
   "cell_type": "code",
   "source": "df[(\"Location\")].value_counts()",
   "outputs": [
    {
     "data": {
      "text/plain": [
       "Location\n",
       "DUNDAS WEST STATION      50\n",
       "BROADVIEW STATION        42\n",
       "SPADINA STATION          35\n",
       "LONG BRANCH LOOP         27\n",
       "QUEEN AND BROADVIEW      25\n",
       "                         ..\n",
       "QUEEN AND WOODFIELD       1\n",
       "QUEEN AND CONNAUGHT       1\n",
       "LAKESHORE AND 28TH        1\n",
       "CHERRY ST AND EASTERN     1\n",
       "DUNDAS AND GEORGE         1\n",
       "Name: count, Length: 751, dtype: int64"
      ]
     },
     "execution_count": 24,
     "metadata": {},
     "output_type": "execute_result"
    }
   ],
   "execution_count": 24
  },
  {
   "metadata": {
    "ExecuteTime": {
     "end_time": "2024-11-25T05:30:02.775240Z",
     "start_time": "2024-11-25T05:30:02.768987Z"
    }
   },
   "cell_type": "code",
   "source": [
    "from sklearn.preprocessing import LabelEncoder\n",
    "def preprocess_data(df):\n",
    "    # Create copy to avoid modifying original data\n",
    "    df_processed = df.copy()\n",
    "\n",
    "    # Handle categorical variables more effectively\n",
    "    le = LabelEncoder()\n",
    "    categorical_cols = ['Line', 'Incident', 'Bound']\n",
    "    for col in categorical_cols:\n",
    "        df_processed[col] = le.fit_transform(df_processed[col])\n",
    "\n",
    "    # Create frequency encoding for high cardinality features\n",
    "    for col in ['Location', 'Vehicle']:\n",
    "        freq_map = df_processed[col].value_counts(normalize=True).to_dict()\n",
    "        df_processed[f'{col}_freq'] = df_processed[col].map(freq_map)\n",
    "        df_processed.drop(col, axis=1, inplace=True)\n",
    "\n",
    "    return df_processed\n",
    "df = preprocess_data(df)\n"
   ],
   "outputs": [],
   "execution_count": 25
  },
  {
   "metadata": {},
   "cell_type": "markdown",
   "source": "The values of location and Vehicle are specific, that why we have a lot of unique values, it is important to notice that there are some missing values in vehicle represented by \"0\", one solution could be getting random values and using them but for the moment we are leaving them as they are."
  },
  {
   "metadata": {
    "ExecuteTime": {
     "end_time": "2024-11-25T05:30:02.833799Z",
     "start_time": "2024-11-25T05:30:02.806669Z"
    }
   },
   "cell_type": "code",
   "source": [
    "from sklearn.model_selection import train_test_split\n",
    "from sklearn.preprocessing import StandardScaler, OneHotEncoder\n",
    "from sklearn.pipeline import Pipeline\n",
    "from sklearn.compose import ColumnTransformer\n",
    "from sklearn.metrics import mean_squared_error, r2_score\n",
    "import xgboost as xgb\n",
    "from sklearn.metrics import classification_report, confusion_matrix, roc_curve, auc\n",
    "\n",
    "\n",
    "X = df.drop('Min Delay', axis=1)\n",
    "y = df['Min Delay']\n",
    "X_train, X_test, y_train, y_test = train_test_split(X, y, random_state=43, train_size=0.7)\n",
    "X.head()"
   ],
   "outputs": [
    {
     "data": {
      "text/plain": [
       "   Week  Line  Time  Day  Incident  Min Gap  Bound  Month  Location_freq  Vehicle_freq\n",
       "1     1    11   186    1         3       72      0      1       0.000888      0.006214\n",
       "3     1    11   233    1        11        0      4      1       0.022193      0.003107\n",
       "4     1    20   267    1         2       93      0      1       0.005770      0.000444\n",
       "5     1     8   273    1         2       84      0      1       0.000444      0.000444\n",
       "6     1     8   279    1         2       49      4      1       0.001775      0.003995"
      ],
      "text/html": [
       "<div>\n",
       "<style scoped>\n",
       "    .dataframe tbody tr th:only-of-type {\n",
       "        vertical-align: middle;\n",
       "    }\n",
       "\n",
       "    .dataframe tbody tr th {\n",
       "        vertical-align: top;\n",
       "    }\n",
       "\n",
       "    .dataframe thead th {\n",
       "        text-align: right;\n",
       "    }\n",
       "</style>\n",
       "<table border=\"1\" class=\"dataframe\">\n",
       "  <thead>\n",
       "    <tr style=\"text-align: right;\">\n",
       "      <th></th>\n",
       "      <th>Week</th>\n",
       "      <th>Line</th>\n",
       "      <th>Time</th>\n",
       "      <th>Day</th>\n",
       "      <th>Incident</th>\n",
       "      <th>Min Gap</th>\n",
       "      <th>Bound</th>\n",
       "      <th>Month</th>\n",
       "      <th>Location_freq</th>\n",
       "      <th>Vehicle_freq</th>\n",
       "    </tr>\n",
       "  </thead>\n",
       "  <tbody>\n",
       "    <tr>\n",
       "      <th>1</th>\n",
       "      <td>1</td>\n",
       "      <td>11</td>\n",
       "      <td>186</td>\n",
       "      <td>1</td>\n",
       "      <td>3</td>\n",
       "      <td>72</td>\n",
       "      <td>0</td>\n",
       "      <td>1</td>\n",
       "      <td>0.000888</td>\n",
       "      <td>0.006214</td>\n",
       "    </tr>\n",
       "    <tr>\n",
       "      <th>3</th>\n",
       "      <td>1</td>\n",
       "      <td>11</td>\n",
       "      <td>233</td>\n",
       "      <td>1</td>\n",
       "      <td>11</td>\n",
       "      <td>0</td>\n",
       "      <td>4</td>\n",
       "      <td>1</td>\n",
       "      <td>0.022193</td>\n",
       "      <td>0.003107</td>\n",
       "    </tr>\n",
       "    <tr>\n",
       "      <th>4</th>\n",
       "      <td>1</td>\n",
       "      <td>20</td>\n",
       "      <td>267</td>\n",
       "      <td>1</td>\n",
       "      <td>2</td>\n",
       "      <td>93</td>\n",
       "      <td>0</td>\n",
       "      <td>1</td>\n",
       "      <td>0.005770</td>\n",
       "      <td>0.000444</td>\n",
       "    </tr>\n",
       "    <tr>\n",
       "      <th>5</th>\n",
       "      <td>1</td>\n",
       "      <td>8</td>\n",
       "      <td>273</td>\n",
       "      <td>1</td>\n",
       "      <td>2</td>\n",
       "      <td>84</td>\n",
       "      <td>0</td>\n",
       "      <td>1</td>\n",
       "      <td>0.000444</td>\n",
       "      <td>0.000444</td>\n",
       "    </tr>\n",
       "    <tr>\n",
       "      <th>6</th>\n",
       "      <td>1</td>\n",
       "      <td>8</td>\n",
       "      <td>279</td>\n",
       "      <td>1</td>\n",
       "      <td>2</td>\n",
       "      <td>49</td>\n",
       "      <td>4</td>\n",
       "      <td>1</td>\n",
       "      <td>0.001775</td>\n",
       "      <td>0.003995</td>\n",
       "    </tr>\n",
       "  </tbody>\n",
       "</table>\n",
       "</div>"
      ]
     },
     "execution_count": 26,
     "metadata": {},
     "output_type": "execute_result"
    }
   ],
   "execution_count": 26
  },
  {
   "metadata": {
    "ExecuteTime": {
     "end_time": "2024-11-25T05:30:02.860186Z",
     "start_time": "2024-11-25T05:30:02.856160Z"
    }
   },
   "cell_type": "code",
   "source": [
    "from sklearn.preprocessing import StandardScaler\n",
    "scaler = StandardScaler()\n",
    "X_train_scaled = scaler.fit_transform(X_train)\n",
    "X_test_scaled = scaler.transform(X_test)\n",
    "X_train_scaled = pd.DataFrame(X_train_scaled, columns=X_train.columns)\n",
    "X_test_scaled = pd.DataFrame(X_test_scaled, columns=X_test.columns)"
   ],
   "outputs": [],
   "execution_count": 27
  },
  {
   "metadata": {
    "ExecuteTime": {
     "end_time": "2024-11-25T05:30:59.074611Z",
     "start_time": "2024-11-25T05:30:02.912218Z"
    }
   },
   "cell_type": "code",
   "source": [
    "from sklearn.model_selection import train_test_split, cross_val_score, GridSearchCV\n",
    "from sklearn.preprocessing import StandardScaler, LabelEncoder\n",
    "from sklearn.ensemble import RandomForestRegressor\n",
    "from sklearn.metrics import mean_squared_error, r2_score, mean_absolute_error\n",
    "def train_random_forest(X_train, X_test, y_train, y_test):\n",
    "    # Define parameter grid for GridSearchCV\n",
    "    param_grid = {\n",
    "        'n_estimators': [100, 200, 300],\n",
    "        'max_depth': [10, 20, 30, None],\n",
    "        'min_samples_split': [2, 5, 10],\n",
    "        'min_samples_leaf': [1, 2, 4]\n",
    "    }\n",
    "\n",
    "    # Initialize base model\n",
    "    rf_model = RandomForestRegressor(random_state=42)\n",
    "\n",
    "    # Perform GridSearchCV\n",
    "    grid_search = GridSearchCV(\n",
    "        estimator=rf_model,\n",
    "        param_grid=param_grid,\n",
    "        cv=5,\n",
    "        scoring='neg_mean_squared_error',\n",
    "        n_jobs=-1,\n",
    "        verbose=1\n",
    "    )\n",
    "\n",
    "    # Fit the model\n",
    "    grid_search.fit(X_train, y_train)\n",
    "\n",
    "    # Get best model\n",
    "    best_model = grid_search.best_estimator_\n",
    "\n",
    "    return best_model, grid_search.best_params_\n",
    "best_model, best_params = train_random_forest(X_train_scaled, X_test_scaled, y_train, y_test)"
   ],
   "outputs": [
    {
     "name": "stdout",
     "output_type": "stream",
     "text": [
      "Fitting 5 folds for each of 108 candidates, totalling 540 fits\n"
     ]
    }
   ],
   "execution_count": 28
  },
  {
   "metadata": {
    "ExecuteTime": {
     "end_time": "2024-11-25T05:30:59.145526Z",
     "start_time": "2024-11-25T05:30:59.094178Z"
    }
   },
   "cell_type": "code",
   "source": [
    "def evaluate_model(model, X_train, X_test, y_train, y_test):\n",
    "    # Make predictions\n",
    "    y_train_pred = model.predict(X_train)\n",
    "    y_test_pred = model.predict(X_test)\n",
    "\n",
    "    # Calculate metrics\n",
    "    metrics = {\n",
    "        'Train R2': r2_score(y_train, y_train_pred),\n",
    "        'Test R2': r2_score(y_test, y_test_pred),\n",
    "        'Train RMSE': np.sqrt(mean_squared_error(y_train, y_train_pred)),\n",
    "        'Test RMSE': np.sqrt(mean_squared_error(y_test, y_test_pred)),\n",
    "        'Train MAE': mean_absolute_error(y_train, y_train_pred),\n",
    "        'Test MAE': mean_absolute_error(y_test, y_test_pred)\n",
    "    }\n",
    "\n",
    "    # Feature importance analysis\n",
    "    feature_importance = pd.DataFrame({\n",
    "        'feature': X_train.columns,\n",
    "        'importance': model.feature_importances_\n",
    "    }).sort_values('importance', ascending=False)\n",
    "\n",
    "    return metrics, feature_importance\n",
    "metrics, feature_importance = evaluate_model(\n",
    "        best_model, X_train_scaled, X_test_scaled, y_train, y_test\n",
    "    )"
   ],
   "outputs": [],
   "execution_count": 29
  },
  {
   "metadata": {
    "ExecuteTime": {
     "end_time": "2024-11-25T05:30:59.206501Z",
     "start_time": "2024-11-25T05:30:59.202597Z"
    }
   },
   "cell_type": "code",
   "source": "df.columns",
   "outputs": [
    {
     "data": {
      "text/plain": [
       "Index(['Week', 'Line', 'Time', 'Day', 'Incident', 'Min Delay', 'Min Gap', 'Bound', 'Month', 'Location_freq', 'Vehicle_freq'], dtype='object')"
      ]
     },
     "execution_count": 30,
     "metadata": {},
     "output_type": "execute_result"
    }
   ],
   "execution_count": 30
  },
  {
   "metadata": {
    "ExecuteTime": {
     "end_time": "2024-11-25T05:32:55.500203Z",
     "start_time": "2024-11-25T05:32:55.488953Z"
    }
   },
   "cell_type": "code",
   "source": [
    "new_case = pd.DataFrame({\n",
    "    'Week': 21,\n",
    "    'Line': 13,\n",
    "    'Time': 224,\n",
    "    'Day': 11,\n",
    "    'Incident': 4,\n",
    "    'Min Gap': 33,\n",
    "    'Bound': 3,\n",
    "    'Month': 8,\n",
    "    'Location_freq': 0.000444,\n",
    "    'Vehicle_freq': 0.003995\n",
    "}, index=[0])  # Adding index=[0] ensures proper DataFrame format\n",
    "21,0.080977567,0.008659571,7,2,4,3458,0,2024,5,24,14,4,0,0,0,0,1\n",
    "\n",
    "prediction = best_model.predict(new_case)\n",
    "prediction"
   ],
   "outputs": [
    {
     "data": {
      "text/plain": [
       "array([67.48490476])"
      ]
     },
     "execution_count": 41,
     "metadata": {},
     "output_type": "execute_result"
    }
   ],
   "execution_count": 41
  },
  {
   "metadata": {
    "ExecuteTime": {
     "end_time": "2024-11-25T05:30:59.289058Z",
     "start_time": "2024-11-25T05:30:59.284612Z"
    }
   },
   "cell_type": "code",
   "source": "metrics",
   "outputs": [
    {
     "data": {
      "text/plain": [
       "{'Train R2': 0.9801349983099054,\n",
       " 'Test R2': 0.924841609258553,\n",
       " 'Train RMSE': 2.469804547419817,\n",
       " 'Test RMSE': 4.77396464549848,\n",
       " 'Train MAE': 1.2702674911093406,\n",
       " 'Test MAE': 2.5623497287763195}"
      ]
     },
     "execution_count": 32,
     "metadata": {},
     "output_type": "execute_result"
    }
   ],
   "execution_count": 32
  },
  {
   "metadata": {
    "ExecuteTime": {
     "end_time": "2024-11-25T05:30:59.310662Z",
     "start_time": "2024-11-25T05:30:59.306296Z"
    }
   },
   "cell_type": "code",
   "source": "feature_importance",
   "outputs": [
    {
     "data": {
      "text/plain": [
       "         feature  importance\n",
       "5        Min Gap    0.927176\n",
       "2           Time    0.028574\n",
       "1           Line    0.008567\n",
       "3            Day    0.007402\n",
       "9   Vehicle_freq    0.006747\n",
       "4       Incident    0.006627\n",
       "0           Week    0.005012\n",
       "8  Location_freq    0.004792\n",
       "6          Bound    0.003122\n",
       "7          Month    0.001981"
      ],
      "text/html": [
       "<div>\n",
       "<style scoped>\n",
       "    .dataframe tbody tr th:only-of-type {\n",
       "        vertical-align: middle;\n",
       "    }\n",
       "\n",
       "    .dataframe tbody tr th {\n",
       "        vertical-align: top;\n",
       "    }\n",
       "\n",
       "    .dataframe thead th {\n",
       "        text-align: right;\n",
       "    }\n",
       "</style>\n",
       "<table border=\"1\" class=\"dataframe\">\n",
       "  <thead>\n",
       "    <tr style=\"text-align: right;\">\n",
       "      <th></th>\n",
       "      <th>feature</th>\n",
       "      <th>importance</th>\n",
       "    </tr>\n",
       "  </thead>\n",
       "  <tbody>\n",
       "    <tr>\n",
       "      <th>5</th>\n",
       "      <td>Min Gap</td>\n",
       "      <td>0.927176</td>\n",
       "    </tr>\n",
       "    <tr>\n",
       "      <th>2</th>\n",
       "      <td>Time</td>\n",
       "      <td>0.028574</td>\n",
       "    </tr>\n",
       "    <tr>\n",
       "      <th>1</th>\n",
       "      <td>Line</td>\n",
       "      <td>0.008567</td>\n",
       "    </tr>\n",
       "    <tr>\n",
       "      <th>3</th>\n",
       "      <td>Day</td>\n",
       "      <td>0.007402</td>\n",
       "    </tr>\n",
       "    <tr>\n",
       "      <th>9</th>\n",
       "      <td>Vehicle_freq</td>\n",
       "      <td>0.006747</td>\n",
       "    </tr>\n",
       "    <tr>\n",
       "      <th>4</th>\n",
       "      <td>Incident</td>\n",
       "      <td>0.006627</td>\n",
       "    </tr>\n",
       "    <tr>\n",
       "      <th>0</th>\n",
       "      <td>Week</td>\n",
       "      <td>0.005012</td>\n",
       "    </tr>\n",
       "    <tr>\n",
       "      <th>8</th>\n",
       "      <td>Location_freq</td>\n",
       "      <td>0.004792</td>\n",
       "    </tr>\n",
       "    <tr>\n",
       "      <th>6</th>\n",
       "      <td>Bound</td>\n",
       "      <td>0.003122</td>\n",
       "    </tr>\n",
       "    <tr>\n",
       "      <th>7</th>\n",
       "      <td>Month</td>\n",
       "      <td>0.001981</td>\n",
       "    </tr>\n",
       "  </tbody>\n",
       "</table>\n",
       "</div>"
      ]
     },
     "execution_count": 33,
     "metadata": {},
     "output_type": "execute_result"
    }
   ],
   "execution_count": 33
  },
  {
   "metadata": {
    "ExecuteTime": {
     "end_time": "2024-11-25T05:30:59.365565Z",
     "start_time": "2024-11-25T05:30:59.343260Z"
    }
   },
   "cell_type": "code",
   "source": [
    "#Calcular residuos\n",
    "residuals = y_test-best_model.predict(X_test_scaled)\n",
    "residuals = residuals.values\n",
    "residuals"
   ],
   "outputs": [
    {
     "data": {
      "text/plain": [
       "array([-3.98956349e-01, -3.63371032e-01, -4.80815476e-01, -3.14773810e-01,\n",
       "       -6.75695346e-01,  9.99376804e-01,  1.73562049e-01, -1.74688790e+01,\n",
       "       -6.96761905e-01, -3.75813853e-01,  5.18274459e+00, -4.30833333e-02,\n",
       "       -1.98087103e+00, -1.57083333e-01, -1.46760714e+00, -5.84875000e-01,\n",
       "        8.00147096e+00,  1.94968651e+00, -8.50000000e-02, -7.40404762e-01,\n",
       "       -3.40617460e+00, -1.13885119e+00, -8.46825397e-01,  1.08883149e+00,\n",
       "        4.26033730e-01,  1.77500000e-02, -4.93976190e-01, -1.07093254e-01,\n",
       "       -2.74438492e-01,  9.90952381e-02, -7.58055556e-02,  1.20664167e+01,\n",
       "        1.05248214e+00, -3.33333333e-03, -3.10369048e-01, -9.76469246e+00,\n",
       "        6.65494589e-01, -7.76910714e-01,  2.27003211e+00, -1.92524405e+00,\n",
       "       -4.14208333e-01,  5.89705952e+00, -2.18579919e+00, -5.85238095e-02,\n",
       "       -1.84581548e+00, -1.12949405e+00,  5.74674603e-01,  1.19920298e+01,\n",
       "        1.37746032e-01,  2.16819444e+00,  2.17142857e-02, -1.83445635e+00,\n",
       "        8.28460317e-01, -5.59285714e-01,  1.86174603e-01, -2.94809524e-01,\n",
       "       -4.53370635e+00, -1.44037897e+00,  1.00416667e-01, -1.78325812e+00,\n",
       "        1.32346849e+00, -6.16892460e+00,  4.51897186e-01,  1.07096429e+00,\n",
       "        1.24523810e-02, -1.57638770e+01, -1.02232143e-01, -6.12525253e-02,\n",
       "        6.65588095e+00,  8.52764105e+00,  7.17150946e-01, -5.91845238e-02,\n",
       "        1.74894643e+00,  1.42509380e-01, -1.50926587e-01,  8.94821429e-01,\n",
       "        3.31710913e+00,  1.12965188e-01,  2.25029762e-01,  8.09309524e-01,\n",
       "       -2.39754563e+00,  3.37121753e-01, -5.56202381e-01,  9.73777778e-01,\n",
       "       -2.57517857e+00,  1.58032143e+00, -1.44028409e+00,  2.64886580e+00,\n",
       "       -4.10040079e+00,  1.74734848e-02, -3.61230754e+00, -1.82360350e+01,\n",
       "       -1.56903247e+00,  2.61892857e-01, -2.62829365e-01,  3.60071429e-01,\n",
       "       -2.95121726e+00,  2.80248016e-01, -4.12115079e+00,  3.15700794e+00,\n",
       "       -4.93395382e-01, -1.59650794e-01, -9.34166667e-02,  2.81912518e-01,\n",
       "       -5.14132215e-01,  1.30103571e+00,  4.73165079e+00, -3.08811508e-01,\n",
       "       -1.37333333e-01,  2.53251605e+00,  1.76809524e-01,  2.31186905e+00,\n",
       "        1.08466071e+00,  9.39881854e-01, -8.36752976e+00,  6.72965368e-02,\n",
       "        6.23151696e-01,  3.86642857e-01, -3.56763745e+00,  3.97545437e+00,\n",
       "       -1.26297872e+00,  2.01011526e+00, -1.46727381e+00,  6.36034398e+00,\n",
       "        9.77503571e+00, -2.50525794e-01,  1.69105952e+00,  6.19658730e-01,\n",
       "       -5.22029762e-01, -9.79087302e-01, -4.47192659e+00,  2.90042880e+00,\n",
       "       -2.37535714e-01, -1.72503968e-01, -2.26519643e+00,  4.41922619e-01,\n",
       "       -2.90853175e-01, -2.59047619e-02,  1.55745040e+00,  2.37806746e+00,\n",
       "        2.65751786e+00, -1.44610913e+00, -2.84404762e-01, -2.39945527e-01,\n",
       "       -7.18160245e+00, -1.20694444e-01,  1.37556059e+00, -3.53086039e-01,\n",
       "       -3.67034632e-02,  1.09583333e-02,  8.32325036e-01, -9.20472222e-01,\n",
       "       -1.58778804e+01,  3.47936508e-01, -9.70713889e+00,  5.93472222e-02,\n",
       "        8.72027976e+00,  2.73738672e+00,  3.41078788e+00, -9.15369408e+00,\n",
       "       -1.31565476e-01, -2.23564971e+00, -1.48762063e+01,  6.58337302e-01,\n",
       "        2.22933712e+00, -5.14110714e+00, -3.48741071e+00,  6.31958333e-01,\n",
       "       -3.25531288e-01,  1.57123611e+00, -3.86755952e-01, -1.83148268e-01,\n",
       "        6.24102381e+00, -2.71666667e-02,  1.20797421e+00, -2.77366108e+00,\n",
       "        2.81872294e-01, -1.09456349e-01,  2.30483405e-01,  1.84354464e+01,\n",
       "       -1.56168651e+00, -8.84011905e-01,  7.50238095e-02, -1.52894663e+01,\n",
       "        5.39775595e+00, -1.41666667e-03, -1.49366865e+00,  1.32357608e+00,\n",
       "       -5.55371032e+00,  4.35778373e+00,  1.29808929e+00, -8.42028571e+00,\n",
       "       -2.13582143e+00,  5.22783820e+00,  1.99052778e+00, -2.94386508e+00,\n",
       "       -1.54867647e+01,  4.24568254e+00,  4.13087482e+00, -4.13355159e-01,\n",
       "       -2.57583333e-01, -1.30562716e+00, -7.45382738e+00,  2.54535714e-01,\n",
       "        7.32480700e-01, -1.32540963e+00,  1.32285011e+00, -3.94404762e-02,\n",
       "        6.95553571e-01, -3.92738095e-02, -6.88075397e-02,  8.88494769e-01,\n",
       "        4.51504870e-01,  1.88253968e-02, -5.28869048e-02,  3.32511905e+00,\n",
       "       -9.50245310e-01, -2.44964286e-01, -2.09289724e+01,  5.19910714e-01,\n",
       "        5.73064574e-01, -7.54880952e-01, -3.88888889e-02, -3.00507955e+00,\n",
       "        1.04792388e-01,  1.35563690e+00, -3.27869048e-01, -4.22500000e-02,\n",
       "        7.29165224e-01,  5.87804365e+00,  2.20410263e+00,  1.14815079e+00,\n",
       "        7.15278571e+00, -1.53428571e-01, -1.65914755e+01,  5.75965079e+00,\n",
       "        5.24839286e-01,  7.74942460e-01,  4.11871588e+00, -1.28374008e+00,\n",
       "        7.25376190e+00, -3.10916667e-01, -5.25883333e+00, -6.03163690e+00,\n",
       "        2.62232143e-01, -1.50311147e+00,  3.75476190e-02, -3.43424495e+00,\n",
       "        4.97627778e+00,  3.65047619e-01, -1.86250000e-02,  3.70743254e+00,\n",
       "       -9.01114502e+00, -6.04196032e+00, -1.00010456e+01, -3.15079365e-01,\n",
       "       -6.24729762e+00, -5.34464286e-01, -4.03425198e+00, -5.63015873e-01,\n",
       "        1.79977652e+00, -8.14220238e-01, -9.36295635e-01, -6.36392731e+00,\n",
       "       -3.06015079e+00, -2.29173214e+00, -5.91380952e-01,  9.50021368e-02,\n",
       "       -2.23732143e-01,  5.19702381e-02, -2.60166667e-01, -1.07523810e-01,\n",
       "        4.20238095e-01, -5.90714286e-02,  1.34711310e+00,  4.16962210e+00,\n",
       "       -1.26011508e+00, -1.27130465e+00, -8.01400794e-01,  4.46882738e+00,\n",
       "        2.05517009e+00, -3.37291667e-01, -3.84946429e-01,  9.41586039e-01,\n",
       "        3.29771284e-01, -1.81304690e+00,  9.74310029e+00, -3.63779762e-01,\n",
       "       -1.92837716e+01, -7.23154762e-02,  2.25430556e-01, -4.17714286e-01,\n",
       "       -1.52436905e+00, -2.58300866e-01, -1.50416667e-01, -1.03936766e+01,\n",
       "       -8.43754329e-01, -7.77500000e-02, -2.30866071e+00,  7.08938095e+00,\n",
       "       -1.58914286e+00,  3.25021645e-02,  2.68486291e+00,  7.14108784e+00,\n",
       "        3.67156746e-01,  1.71254870e-01,  1.72820563e+00, -1.65558341e+01,\n",
       "       -3.97619048e-02,  9.78333333e-02, -1.01150397e+00,  4.20119444e+00,\n",
       "        4.84246032e-02, -4.56695040e+00, -1.14963999e+01,  6.44879669e+00,\n",
       "        1.53529960e+00,  1.01214087e+00, -3.71443939e+00, -2.14559325e+00,\n",
       "       -6.19421645e+00, -5.84298214e+00, -4.95784524e+00,  2.59095238e-01,\n",
       "        1.70501677e+00,  8.73656746e-01, -2.15353757e+01, -1.21336111e+00,\n",
       "       -6.35728896e-01,  6.92460317e-02, -1.79880640e+01,  1.21464286e+00,\n",
       "        1.30848810e+00,  9.89322024e+00, -1.58095238e-01,  3.47187897e+00,\n",
       "        3.99914683e-01, -5.16369048e-01,  1.09078030e+00, -2.21882937e-01,\n",
       "       -9.89583333e-02,  2.73876714e+00,  4.00312284e+00, -7.99353175e-01,\n",
       "       -7.48954365e-01,  1.48019751e+00,  3.50739899e-01, -1.52944372e+00,\n",
       "        1.65272727e-01, -6.75148810e-01,  1.77777778e-02, -1.61567460e-02,\n",
       "       -8.26351190e-01, -2.75537392e+00, -5.12349206e-01, -2.47654762e-01,\n",
       "       -4.70922619e-01,  4.60454545e-01, -1.02473373e+01, -6.30149359e+00,\n",
       "        2.39121825e+00,  2.03101954e-01,  3.96927724e+00, -2.10404762e+00,\n",
       "        4.07809740e+00, -7.31821429e-01, -6.77380952e-03, -2.64095238e-01,\n",
       "       -8.70646825e-01, -1.87857143e-01, -3.14301948e-01,  2.68674603e-01,\n",
       "        2.63910516e+00,  1.26326766e+01, -5.33583333e-01,  7.77990927e+00,\n",
       "       -1.66327381e-01,  1.29263690e+00, -4.67976190e-02, -7.36510516e+00,\n",
       "        1.96205556e+00,  1.93602814e+00,  2.58333333e-02, -7.88970238e-01,\n",
       "        2.66131530e+00,  1.62935426e-01, -8.19926740e-02,  9.23674062e-01,\n",
       "        1.00079167e+00,  2.49181151e+00,  1.15595238e-02,  4.85886905e-01,\n",
       "        9.00713907e+00, -4.98182540e-01, -2.63095238e-03, -1.25000000e-02,\n",
       "        5.32046688e+00,  7.65595238e-02, -1.67926407e-01, -4.47348485e-01,\n",
       "        6.04479437e-01, -2.51888889e-01, -5.78916667e-01, -1.52697314e+01,\n",
       "        1.58170130e+00, -2.65186607e+01,  1.51600325e+00,  6.48396284e-01,\n",
       "        4.95749603e+00,  1.02308772e+01, -1.34821627e+00,  2.31623175e+01,\n",
       "       -5.89833333e-01, -9.95792659e+00, -4.92154762e-01, -2.04940476e-01,\n",
       "        8.23186508e-01,  1.54948413e-01,  6.18940657e+00,  2.94417659e+00,\n",
       "        6.13990079e+00,  6.58202381e-01, -1.55823954e-01, -7.98869048e-02,\n",
       "       -2.58186111e+00,  3.65119048e-01,  6.28261905e-01,  3.45559524e-01,\n",
       "       -1.13845799e+01, -1.20839286e-01,  5.37649710e+00,  2.37446429e-01,\n",
       "       -2.29041667e+00, -4.80000000e-02,  1.90482341e+00, -3.67039286e+00,\n",
       "        2.74654762e-01, -1.81890152e+00, -1.05828669e+01,  2.86520833e+00,\n",
       "        4.13031548e+00, -9.15619643e+00, -2.38952381e-01, -6.43691743e+00,\n",
       "       -7.48333333e-02,  8.50130952e-01, -8.08928571e-01,  1.16833333e-01,\n",
       "        2.23050144e-02, -2.75000000e-02, -1.45317262e+00, -1.82017857e-01,\n",
       "        1.09678571e-01,  5.76129167e+00,  7.59561508e-01,  1.09414591e+00,\n",
       "        2.09312338e+00, -2.91541270e+00,  6.76023810e-01, -5.29521825e-01,\n",
       "       -1.07714286e-01,  1.65189206e+01,  3.34436508e-01,  2.51504149e+00,\n",
       "       -4.26937410e-01,  3.15630952e-01, -2.62309524e-01,  1.20849802e+00,\n",
       "        5.94067460e-02,  3.38661977e-01, -5.10994048e-01, -4.95819444e-01,\n",
       "       -1.17594444e+00, -4.82496032e-01,  6.02689755e-01, -1.03511905e-02,\n",
       "       -1.56656131e+01, -1.03915103e+01, -1.11443561e+00, -1.06404854e+01,\n",
       "       -4.89557937e+00,  1.56700198e+00, -4.31500000e-01, -1.25971825e+00,\n",
       "        7.99940476e-01, -4.79304960e+00, -4.36220238e-01,  4.83333333e-03,\n",
       "       -1.32932937e+00,  5.53037698e-01,  8.26440476e-01,  8.99577381e-01,\n",
       "        8.90563131e-01,  2.98597727e+00,  2.55210226e+00, -8.62464286e-01,\n",
       "        2.87883929e+00, -7.11085317e-01, -1.14166667e-02,  1.75310101e+00,\n",
       "       -2.26398810e-01,  2.33446429e-01,  5.13126984e-01,  3.77407509e-01,\n",
       "        2.58867857e+00, -5.50886905e-01,  4.84424603e-01,  6.76531746e-01,\n",
       "       -5.47639791e-01, -2.94636905e-01, -4.03488095e-01,  2.66196050e+00,\n",
       "       -3.77222222e-02, -3.31197150e-01,  5.69585714e+00,  5.30310245e-02,\n",
       "       -7.24444444e-01, -1.52208333e-01, -2.22264791e-01, -5.09190476e-01,\n",
       "        1.17097222e+00,  1.54373250e+00,  1.96725397e+00,  4.38528770e+00,\n",
       "        3.49698539e+00, -2.00000000e-02,  6.92589628e+00, -1.13600289e-03,\n",
       "        1.40263492e+00, -1.07452163e+01, -1.96611466e+01, -1.52068849e+00,\n",
       "        4.50549603e-01, -2.36015873e-01,  9.79674964e-01, -9.79515476e+00,\n",
       "        1.15337175e+00, -1.12357143e-01,  3.85440476e-01,  4.68289286e+00,\n",
       "        1.13085335e+00,  1.94274008e+00,  3.22091468e+00,  3.21190476e-02,\n",
       "       -8.50000000e-03, -6.59226190e-02, -1.12313492e-01,  8.49973142e+00,\n",
       "        4.60098810e+00,  4.05734740e+00,  5.19025794e-01, -1.38330249e+00,\n",
       "       -8.53035714e-02, -5.16607143e-01,  1.10589484e+00,  5.73246753e-01,\n",
       "       -2.60404762e-01,  2.98887500e+00, -3.63380952e-01, -9.85635614e-02,\n",
       "       -3.69047619e-03, -3.88523810e-01,  1.14980159e-01,  1.09295833e+00,\n",
       "       -1.74591270e-01,  2.06400946e-01, -2.48311688e-02,  3.14887500e+00,\n",
       "       -4.94037103e+00, -6.79093254e-01,  2.11081151e+00,  1.67992460e+00,\n",
       "        6.83392857e-02,  1.91051190e+00,  1.86099763e+01,  8.37938492e-01,\n",
       "        1.12028083e+00,  3.50771032e+00, -8.31785714e-01, -1.45724940e+01,\n",
       "        2.39016667e+00,  4.53704906e-02,  7.24377706e-01, -1.48761922e+01,\n",
       "       -3.51292063e+00,  1.07424603e-01, -2.24014499e-01, -2.94214322e+00,\n",
       "        5.18690476e-02,  2.61980159e-01, -2.64110607e+00, -8.20833333e-02,\n",
       "        1.78911706e+00, -1.55643254e+00,  2.13580087e-01,  9.46669030e+00,\n",
       "        7.96807900e-01,  2.86047619e-01, -6.32289683e-01, -4.10972222e-01,\n",
       "        2.65493651e+00, -6.76666667e-02,  1.59555159e+00, -7.83579365e-01,\n",
       "        2.35672619e-01, -1.91114881e+00, -2.24182540e-01, -2.52261905e-02,\n",
       "        1.96063889e+00, -1.19814462e+01, -7.85718074e-01, -1.58943849e+00,\n",
       "       -6.22557540e-01, -1.50010554e+01, -7.97922817e+00,  3.48067208e+00,\n",
       "        1.22071429e-01,  3.99603175e-02,  3.80519481e-02, -1.16887897e+00,\n",
       "       -3.00726190e-01,  1.65313492e-01, -3.72603175e-01,  9.33736833e-01,\n",
       "        1.19356151e+00,  3.79332792e-01, -2.45898214e+00,  6.13889324e+00,\n",
       "       -3.70869048e-01,  2.99596627e+00, -3.28720238e-01,  2.12347222e-01,\n",
       "        3.64073593e-01,  7.57984127e-01, -9.71550000e+00,  9.82779762e-01,\n",
       "        6.88453589e+00, -1.26522480e+01, -2.07936508e-02, -1.55464286e-01,\n",
       "       -5.71995833e+00, -1.74862817e+01,  4.78991468e+00,  1.01142857e+00,\n",
       "        1.36935148e+01, -9.73984127e-01, -9.41808501e+00, -5.60547619e-01,\n",
       "        6.56017857e-01,  6.58097619e+00, -1.26031746e-01,  6.03035714e-01,\n",
       "        9.11511905e-01, -4.10777778e-01, -1.74621825e+00,  8.34761905e-02,\n",
       "        7.41666667e-03,  1.05689232e+00,  9.63855159e-01, -1.90854931e+01,\n",
       "       -2.37935245e-01,  3.13262698e+00, -4.72655327e+00,  7.11359127e-01,\n",
       "       -1.53580754e+00, -7.65000000e-02,  6.25733929e+00,  2.43850794e+00,\n",
       "        7.18113095e-01, -1.42867063e-01, -4.42189286e+00,  2.81751858e+00,\n",
       "       -9.45930556e-01,  1.02102020e+00,  1.50547619e-01, -2.03593254e+00])"
      ]
     },
     "execution_count": 34,
     "metadata": {},
     "output_type": "execute_result"
    }
   ],
   "execution_count": 34
  },
  {
   "metadata": {
    "ExecuteTime": {
     "end_time": "2024-11-25T05:30:59.540079Z",
     "start_time": "2024-11-25T05:30:59.392489Z"
    }
   },
   "cell_type": "code",
   "source": [
    "plt.figure(figsize=(10,6))\n",
    "plt.scatter(y_test, residuals, color='purple', alpha=0.5)\n",
    "plt.axhline(y=0, color='red',linestyle='--')\n",
    "plt.title('Rersiduals Plot')\n",
    "plt.xlabel('Predicted Values')\n",
    "plt.ylabel('Residuals')\n",
    "plt.show()"
   ],
   "outputs": [
    {
     "data": {
      "text/plain": [
       "<Figure size 1000x600 with 1 Axes>"
      ],
      "image/png": "[encoded data removed]"
     },
     "metadata": {},
     "output_type": "display_data"
    }
   ],
   "execution_count": 35
  },
  {
   "metadata": {
    "ExecuteTime": {
     "end_time": "2024-11-25T05:30:59.775165Z",
     "start_time": "2024-11-25T05:30:59.553580Z"
    }
   },
   "cell_type": "code",
   "source": [
    "residuals = residuals.reshape(1,-1)\n",
    "residuals = residuals[0]\n",
    "res_df = pd.DataFrame({'residuals':residuals})\n",
    "sns.kdeplot(res_df, x='residuals',fill=True)"
   ],
   "outputs": [
    {
     "data": {
      "text/plain": [
       "<Axes: xlabel='residuals', ylabel='Density'>"
      ]
     },
     "execution_count": 36,
     "metadata": {},
     "output_type": "execute_result"
    },
    {
     "data": {
      "text/plain": [
       "<Figure size 640x480 with 1 Axes>"
      ],
      "image/png": "[encoded data removed]"
     },
     "metadata": {},
     "output_type": "display_data"
    }
   ],
   "execution_count": 36
  },
  {
   "metadata": {
    "ExecuteTime": {
     "end_time": "2024-11-25T05:30:59.932420Z",
     "start_time": "2024-11-25T05:30:59.806645Z"
    }
   },
   "cell_type": "code",
   "source": [
    "(osm,osr),(slope,intercept,r) = stats.probplot(residuals, dist='norm', plot=plt)\n",
    "sns.set(style='whitegrid')\n",
    "plt.title('Q-Q Plot')\n",
    "plt.xlabel('Theoretical Quantiles')\n",
    "plt.ylabel('Data Quantiles')\n",
    "plt.show()"
   ],
   "outputs": [
    {
     "data": {
      "text/plain": [
       "<Figure size 640x480 with 1 Axes>"
      ],
      "image/png": "[encoded data removed]"
     },
     "metadata": {},
     "output_type": "display_data"
    }
   ],
   "execution_count": 37
  },
  {
   "metadata": {
    "ExecuteTime": {
     "end_time": "2024-11-25T05:30:59.952378Z",
     "start_time": "2024-11-25T05:30:59.949295Z"
    }
   },
   "cell_type": "code",
   "source": [
    "statistic, p_value = stats.shapiro(residuals)\n",
    "\n",
    "print(f\"Estadistico:{statistic}\")\n",
    "print(f\"Valor P:{p_value}\")\n",
    "\n",
    "alpha = 0.05\n",
    "\n",
    "if p_value <alpha:\n",
    "  print(\"Rechazamos la hipotesis nula: los datos no siguen una distribucion normal\")\n",
    "else:\n",
    "  print(\"Fallamos en rechazar la hipotesis nula. Los datos podrian seguir una distribucion normal\")"
   ],
   "outputs": [
    {
     "name": "stdout",
     "output_type": "stream",
     "text": [
      "Estadistico:0.7857183218002319\n",
      "Valor P:7.421866550572055e-29\n",
      "Rechazamos la hipotesis nula: los datos no siguen una distribucion normal\n"
     ]
    }
   ],
   "execution_count": 38
  },
  {
   "metadata": {
    "ExecuteTime": {
     "end_time": "2024-11-25T05:30:59.969273Z",
     "start_time": "2024-11-25T05:30:59.967846Z"
    }
   },
   "cell_type": "code",
   "source": "",
   "outputs": [],
   "execution_count": null
  }
 ],
 "metadata": {
  "kernelspec": {
   "display_name": "Python 3",
   "language": "python",
   "name": "python3"
  },
  "language_info": {
   "codemirror_mode": {
    "name": "ipython",
    "version": 3
   },
   "file_extension": ".py",
   "mimetype": "text/x-python",
   "name": "python",
   "nbconvert_exporter": "python",
   "pygments_lexer": "ipython3",
   "version": "3.11.10"
  }
 },
 "nbformat": 4,
 "nbformat_minor": 2
}
